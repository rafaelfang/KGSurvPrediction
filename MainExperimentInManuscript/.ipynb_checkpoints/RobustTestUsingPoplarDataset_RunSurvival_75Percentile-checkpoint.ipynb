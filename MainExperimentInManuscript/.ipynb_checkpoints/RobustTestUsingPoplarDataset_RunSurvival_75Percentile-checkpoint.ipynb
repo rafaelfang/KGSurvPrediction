{
 "cells": [
  {
   "cell_type": "markdown",
   "id": "2f718988-4893-46a2-9671-3899f8ec8878",
   "metadata": {},
   "source": [
    "# Summary: This Notebook shows the experimental results using POPLAR data, including BIKG-based, panel based, TMB based OS predictive performance, etc."
   ]
  },
  {
   "cell_type": "code",
   "execution_count": null,
   "id": "5b9de534-0a86-4a9d-acbe-0f1bc0a032db",
   "metadata": {},
   "outputs": [],
   "source": [
    "import sys\n",
    "import pandas as pd\n",
    "import numpy as np\n",
    "import seaborn as sns\n",
    "import matplotlib.pyplot as plt\n",
    "%matplotlib inline"
   ]
  },
  {
   "cell_type": "code",
   "execution_count": null,
   "id": "8d357729-b3ef-455e-9988-f0ac46165a15",
   "metadata": {},
   "outputs": [],
   "source": [
    "from KMPlot import subplots\n",
    "from KMPlot import KMPlot"
   ]
  },
  {
   "cell_type": "code",
   "execution_count": null,
   "id": "1829cb34-a1db-43f0-a794-329ebfaaa241",
   "metadata": {},
   "outputs": [],
   "source": [
    "from sklearn.model_selection import train_test_split\n",
    "from sklearn.preprocessing import OrdinalEncoder\n",
    "from sksurv.util import Surv\n",
    "from sksurv.datasets import load_gbsg2\n",
    "from sksurv.preprocessing import OneHotEncoder\n",
    "from pysurvival.models.survival_forest import RandomSurvivalForestModel\n",
    "from lifelines.utils import concordance_index as lfcindex\n",
    "from sklearn.tree import DecisionTreeRegressor\n",
    "from lifelines.utils import survival_table_from_events\n"
   ]
  },
  {
   "cell_type": "code",
   "execution_count": null,
   "id": "8159897e-c4bc-4ab3-9db9-b6dccf5556f1",
   "metadata": {},
   "outputs": [],
   "source": [
    "%matplotlib inline"
   ]
  },
  {
   "cell_type": "code",
   "execution_count": null,
   "id": "453e87b4-c367-47b9-af45-d73b4516f7a2",
   "metadata": {},
   "outputs": [],
   "source": [
    "#set random seed\n",
    "#randomSeed=1\n",
    "randomSeed=9871\n",
    "#randomSeed=52123\n",
    "#randomSeed=4\n",
    "#randomSeed=197\n",
    "#randomSeed=71\n",
    "#randomSeed=48172\n",
    "#randomSeed=172\n",
    "#randomSeed=29371\n",
    "#randomSeed=10"
   ]
  },
  {
   "cell_type": "code",
   "execution_count": null,
   "id": "37a4b4b0-d4de-400d-b7b7-af192942e061",
   "metadata": {},
   "outputs": [],
   "source": [
    "def display_summary(df, name:str=None):\n",
    "    \"\"\"Displays the head and summary statistics of a DataFrame.\n",
    "    \"\"\"\n",
    "    if name:\n",
    "        print(f\"Summary of data for: {name}\")\n",
    "    print(f\"Number of rows: {df.shape[0]}\")\n",
    "    print(f\"Number of columns: {df.shape[1]}\")\n",
    "    print(f\"\\nSample of data:\")\n",
    "    display(df.sample(5))"
   ]
  },
  {
   "cell_type": "code",
   "execution_count": null,
   "id": "25f75d83-3891-4bc5-bfea-bd5828472e2c",
   "metadata": {},
   "outputs": [],
   "source": [
    "whichDataID=3"
   ]
  },
  {
   "cell_type": "code",
   "execution_count": null,
   "id": "78e22ba3-6860-4455-bd5c-f75615442c3c",
   "metadata": {},
   "outputs": [],
   "source": [
    "date_dir='../Data/outputs/RobustTestUsingPoplar/'"
   ]
  },
  {
   "cell_type": "code",
   "execution_count": null,
   "id": "ed2ee8bc-e5ad-4e7f-bd3f-93f3b4fdb03b",
   "metadata": {},
   "outputs": [],
   "source": [
    "y_dataframe=np.load(date_dir+str(whichDataID)+'/y_dataframe.npy') \n",
    "y_holdout=np.load(date_dir+str(whichDataID)+'/y_holdout.npy') \n",
    "tmbValue=np.load(date_dir+str(whichDataID)+'/tmbValue.npy') "
   ]
  },
  {
   "cell_type": "code",
   "execution_count": null,
   "id": "c2caec3e-05aa-482d-8a2d-af57f1c16621",
   "metadata": {},
   "outputs": [],
   "source": [
    "patient_embedding_dataframe=pd.read_csv(date_dir+str(whichDataID)+'/patient_embedding_dataframe.csv',sep=',',index_col='source_label') \n",
    "patient_embedding_holdout=pd.read_csv(date_dir+str(whichDataID)+'/patient_embedding_holdout.csv',sep=',',index_col='source_label') \n",
    "genomic_features_OAK=pd.read_csv(date_dir+str(whichDataID)+'/genomic_features_OAK.csv',sep=',',index_col='SAMPLE_ID')\n",
    "genomic_features_Poplar=pd.read_csv(date_dir+str(whichDataID)+'/genomic_features_Poplar.csv',sep=',',index_col='PtID')"
   ]
  },
  {
   "cell_type": "markdown",
   "id": "e71032de-17d3-44b5-9182-a31350e99949",
   "metadata": {},
   "source": [
    "### Patient cohort statistics. For this OAK dataset, there are 324 patients. The gene panel contains 396 genes"
   ]
  },
  {
   "cell_type": "code",
   "execution_count": null,
   "id": "0463c8e8-8e36-4f41-ad5a-dea7ee8bf865",
   "metadata": {},
   "outputs": [],
   "source": [
    "#genomic_features_OAK.loc[patient_embedding_dataframe.index]\n",
    "display_summary(genomic_features_OAK, \"patient genomic features (OAK)\")\n"
   ]
  },
  {
   "cell_type": "markdown",
   "id": "0fde2d59-52dc-4799-95b4-10a20fea9faa",
   "metadata": {},
   "source": [
    "### Patient cohort statistics. For this POPLAR dataset, there are 102 patients. The gene panel contains 393 genes¶"
   ]
  },
  {
   "cell_type": "code",
   "execution_count": null,
   "id": "5065d108-6a7e-4fee-ae43-6cd33597072e",
   "metadata": {},
   "outputs": [],
   "source": [
    "display_summary(genomic_features_Poplar, \"patient genomic features (POPLAR)\")\n"
   ]
  },
  {
   "cell_type": "markdown",
   "id": "e85c0c9b-2e18-481c-8502-8698fdd5d24a",
   "metadata": {},
   "source": [
    "### identify common list of between between OAK and POPLAR"
   ]
  },
  {
   "cell_type": "code",
   "execution_count": null,
   "id": "75e2bdcf-6584-489b-9b34-fa4f747060b4",
   "metadata": {},
   "outputs": [],
   "source": [
    "commonListOfGene=[x for x in genomic_features_OAK.columns if x in genomic_features_Poplar.columns]"
   ]
  },
  {
   "cell_type": "markdown",
   "id": "095f7d4d-a308-4aa2-82ef-225c1cc796b4",
   "metadata": {},
   "source": [
    "# Perform experiment and get the mean performance"
   ]
  },
  {
   "cell_type": "markdown",
   "id": "a7f5d435-e582-4c7b-aa63-9f9b964a440b",
   "metadata": {},
   "source": [
    "### The following block is to perform 10 runs of cross validation and get average performance\n"
   ]
  },
  {
   "cell_type": "code",
   "execution_count": null,
   "id": "6260df81-47c2-4808-a09f-89625bc156fc",
   "metadata": {},
   "outputs": [],
   "source": [
    "\n",
    "#np.random.rand(1585,5)\n",
    "c_index_list=[]\n",
    "for experimentID in range(0,10):\n",
    "    X_train, X_test, y_train, y_test = train_test_split(\n",
    "        patient_embedding_dataframe, y_dataframe, test_size=0.1,stratify=[x[0] for x in y_dataframe], random_state=experimentID)\n",
    "    downstream_model = RandomSurvivalForestModel(num_trees=100)\n",
    "    y_train_censorship=[x[0] for x in y_train]\n",
    "    y_train_time=[x[1] for x in y_train]\n",
    "    downstream_model.fit(X=X_train, T=y_train_time, E=y_train_censorship,seed=randomSeed) \n",
    "    y_test_censorship=[x[0] for x in y_test]\n",
    "    y_test_time=[x[1] for x in y_test]\n",
    "    y_pred=downstream_model.predict_risk(X_test)\n",
    "    c_index = lfcindex(y_test_time, y_pred, y_test_censorship)\n",
    "\n",
    "    #c_score = concordance_index(downstream_model, X_test, y_test_time, y_test_censorship, include_ties=False, additional_results=False)\n",
    "    if c_index<0.5:\n",
    "        print (1-c_index)\n",
    "        c_index_list.append(1-c_index)\n",
    "    else:\n",
    "        print (c_index)\n",
    "        c_index_list.append(c_index)\n",
    "\n",
    "\n",
    "print (\"Average performance:\")\n",
    "print (np.mean(c_index_list))\n",
    "print (np.std(c_index_list))"
   ]
  },
  {
   "cell_type": "code",
   "execution_count": null,
   "id": "5e06ee82-3462-4c95-92da-a01915aeb198",
   "metadata": {},
   "outputs": [],
   "source": [
    "def find_best(array):\n",
    "    array = np.asarray(array)\n",
    "    idx = array.argmax()\n",
    "    return idx"
   ]
  },
  {
   "cell_type": "markdown",
   "id": "0c194fcd-a892-493b-801b-0978deb8e101",
   "metadata": {},
   "source": [
    "### here is to identify the model with best validation performance\n"
   ]
  },
  {
   "cell_type": "code",
   "execution_count": null,
   "id": "aec493c8-4060-4c39-a43f-012ee20a203b",
   "metadata": {},
   "outputs": [],
   "source": [
    "bestInd=find_best(c_index_list)\n",
    "bestInd"
   ]
  },
  {
   "cell_type": "markdown",
   "id": "5665fb72-ce50-44e7-822c-35ca8f6c697c",
   "metadata": {
    "tags": []
   },
   "source": [
    "# BIKG prior knowledge "
   ]
  },
  {
   "cell_type": "markdown",
   "id": "baef70d5-1fc7-42be-a755-415c53fd8fa9",
   "metadata": {},
   "source": [
    "### apply the model with best validation performance and evaluate its performance (concordence index)"
   ]
  },
  {
   "cell_type": "code",
   "execution_count": null,
   "id": "6607547a-b469-4968-a8d9-0a632b6a158c",
   "metadata": {},
   "outputs": [],
   "source": [
    "\n",
    "random_state=bestInd\n",
    "X_train, X_test, y_train, y_test = train_test_split(\n",
    "    patient_embedding_dataframe, y_dataframe, test_size=0.1,stratify=[x[0] for x in y_dataframe], random_state=random_state)\n",
    "downstream_model = RandomSurvivalForestModel(num_trees=100)\n",
    "y_train_censorship=[x[0] for x in y_train]\n",
    "y_train_time=[x[1] for x in y_train]\n",
    "downstream_model.fit(X=X_train, T=y_train_time, E=y_train_censorship,seed=randomSeed) \n",
    "y_test_censorship=[x[0] for x in y_test]\n",
    "y_test_time=[x[1] for x in y_test]\n",
    "y_pred=downstream_model.predict_risk(X_test)\n",
    "c_index = lfcindex(y_test_time, y_pred, y_test_censorship)\n",
    "if c_index<0.5:\n",
    "    print (1-c_index)\n",
    "else:\n",
    "    print (c_index)"
   ]
  },
  {
   "cell_type": "markdown",
   "id": "5e120ebe-7fb1-4527-8ee5-48c78f91a93f",
   "metadata": {},
   "source": [
    "### the performance on holdout dataset\n"
   ]
  },
  {
   "cell_type": "code",
   "execution_count": null,
   "id": "485b663a-4516-4a03-b31a-dcbef96d434f",
   "metadata": {},
   "outputs": [],
   "source": [
    "y_pred_holdout=downstream_model.predict_risk(patient_embedding_holdout)\n",
    "y_holdout_censorship=[x[0] for x in y_holdout]\n",
    "y_holdout_time=[x[1] for x in y_holdout]\n",
    "c_index = lfcindex(y_holdout_time, y_pred_holdout, y_holdout_censorship)\n",
    "if c_index<0.5:\n",
    "    print (1-c_index)\n",
    "else:\n",
    "    print (c_index)"
   ]
  },
  {
   "cell_type": "markdown",
   "id": "62ebf1d4-2fe8-4e4c-96e5-d14f154dc57e",
   "metadata": {},
   "source": [
    "### the following block is to get the 75th percentile cutoff based on training dataset\n"
   ]
  },
  {
   "cell_type": "code",
   "execution_count": null,
   "id": "4d2e3f24-3b6d-4a69-afd5-becb929002ca",
   "metadata": {},
   "outputs": [],
   "source": [
    "# get the cutoff using training data\n",
    "y_pred_dataframe=downstream_model.predict_risk(patient_embedding_dataframe)\n",
    "cutoff_75_percentile=np.quantile(y_pred_dataframe, 0.75)\n",
    "cutoff_75_percentile"
   ]
  },
  {
   "cell_type": "markdown",
   "id": "365222d9-775f-4863-abf6-2841f5aa1482",
   "metadata": {},
   "source": [
    "### the following block draw Kaplan-Meier plots and the patients are stratified into high- versus low-risk group based on 75th percentile cutoff"
   ]
  },
  {
   "cell_type": "code",
   "execution_count": null,
   "id": "f71723b5-7d38-48f5-aec2-f47ff5ff8afb",
   "metadata": {},
   "outputs": [],
   "source": [
    "\n",
    "df=pd.DataFrame([y_pred_holdout,y_holdout_time,y_holdout_censorship]).T\n",
    "df.columns=['predictRisk','OS','censorLabel']\n",
    "df['group'] = 'Unknown'\n",
    "df.loc[df.predictRisk >= cutoff_75_percentile,'group']= \"High\"\n",
    "df.loc[df.predictRisk < cutoff_75_percentile,'group']= \"Low\"\n",
    "\n",
    "\n",
    "\n",
    "axs = subplots(cols=1, rows=1, w=6, h=4)\n",
    "KMPlot(df, time='OS', event='censorLabel', label=[ 'group'], score='predictRisk').plot(\n",
    "    ['High', 'Low'], ax=axs[0],\n",
    "    comparisons=[['Low', 'High', 'Low vs High']],\n",
    "    saturation=0.9,\n",
    "    linewidth=1.5,\n",
    "    palette='Set1',\n",
    "    template_color = 'black',xy_font_size=18,\n",
    "    hr_color='black',\n",
    "    x_legend = 0.5, y_legend=0.95,legend_font_size=12,\n",
    "    label_height_adj=0.06,\n",
    "    x_hr_legand=0.0,y_hr_legend=.1,hr_font_size=12,\n",
    ");\n",
    "\n",
    "\n",
    "\n",
    "sns.despine(offset=2)"
   ]
  },
  {
   "cell_type": "code",
   "execution_count": null,
   "id": "01a19faf-5d6b-4111-8bcb-ed32ade76048",
   "metadata": {},
   "outputs": [],
   "source": [
    "#df.to_csv('BIKGPredictedRisk_OAKPoplar.csv',index=False)"
   ]
  },
  {
   "cell_type": "markdown",
   "id": "43eb2107-ef26-410e-9cea-e35afa60d2eb",
   "metadata": {},
   "source": [
    "### the following block is used to compare the average mutation frequence between high- versus low-risk group"
   ]
  },
  {
   "cell_type": "code",
   "execution_count": null,
   "id": "081696fe-20f6-44ec-9329-f1e2c9d3addb",
   "metadata": {},
   "outputs": [],
   "source": [
    "def compareGeneDiffBetweenHighVSLow(df,genomic_features_Poplar,patient_embedding_holdout,tmbValue):\n",
    "    topGeneList=genomic_features_Poplar.loc[patient_embedding_holdout.index,['TP53','EGFR','ATM','KRAS','EPHA7','STAT3','CTNNB1','PRKDC','NFE2L2','SOX9']].reset_index(drop=True)\n",
    "    topGeneList['tmb']=tmbValue\n",
    "    topGeneList['group']=df['group']\n",
    "    return topGeneList.groupby(\"group\").mean()"
   ]
  },
  {
   "cell_type": "code",
   "execution_count": null,
   "id": "671881e2-bce3-4bcb-bc16-1cdd34b5006c",
   "metadata": {},
   "outputs": [],
   "source": [
    "compareGeneDiffBetweenHighVSLow(df,genomic_features_Poplar,patient_embedding_holdout,tmbValue)"
   ]
  },
  {
   "cell_type": "code",
   "execution_count": null,
   "id": "0d0881bd-d82d-4b6b-bfea-60cdae4392a6",
   "metadata": {},
   "outputs": [],
   "source": [
    "#patient_embedding_holdout['group']=df['group']\n",
    "#patient_embedding_holdout"
   ]
  },
  {
   "cell_type": "code",
   "execution_count": null,
   "id": "66d571c2-a4e0-461b-a7c5-14537ae8252b",
   "metadata": {},
   "outputs": [],
   "source": [
    "#patient_embedding_holdout.groupby(\"group\").mean()"
   ]
  },
  {
   "cell_type": "code",
   "execution_count": null,
   "id": "0b920caf-39f8-450c-9624-8f5ceeb7326c",
   "metadata": {},
   "outputs": [],
   "source": [
    "#import umap\n",
    "#import matplotlib.pyplot as plt\n",
    "#standard_embedding = umap.UMAP(random_state=12).fit_transform(patient_embedding_holdout.iloc[:,0:16])\n",
    "#color_dict = { 'High':'red', 'Low':'blue',}\n",
    "\n",
    "#plt.scatter(standard_embedding[:, 0], standard_embedding[:, 1], c=[color_dict[i] for i in df['group']])\n"
   ]
  },
  {
   "cell_type": "code",
   "execution_count": null,
   "id": "ec39cb1d-38d4-488a-a489-d6a008136d7c",
   "metadata": {},
   "outputs": [],
   "source": [
    "\"\"\"\n",
    "def sens_spec_rates(predictedRisk, OS, thresholds):\n",
    "    sensitivity = []\n",
    "    specificity = []\n",
    "    tp_arr=[]\n",
    "    fp_arr=[]\n",
    "    tn_arr=[]\n",
    "    fn_arr=[]\n",
    "    for threshold in thresholds:\n",
    "        cutoff_OS = np.where(OS >= threshold, 'greaterThan', 'lessThan')\n",
    "        fn = np.sum((cutoff_OS == 'greaterThan') & (predictedRisk == 'High'))\n",
    "        tn = np.sum((cutoff_OS == 'greaterThan') & (predictedRisk == 'Low'))\n",
    "        fp = np.sum((cutoff_OS == 'lessThan') & (predictedRisk == 'Low'))\n",
    "        tp = np.sum((cutoff_OS == 'lessThan') & (predictedRisk == 'High'))\n",
    "        sensitivity.append(tp / (tp + fn))\n",
    "        specificity.append(tn / (tn + fp))\n",
    "        tp_arr.append(tp)\n",
    "        fp_arr.append(fp)\n",
    "        tn_arr.append(tn)\n",
    "        fn_arr.append(fn)\n",
    "    return [sensitivity, specificity,tp_arr,fp_arr,tn_arr,fn_arr]\n",
    "\"\"\"\n"
   ]
  },
  {
   "cell_type": "code",
   "execution_count": null,
   "id": "3b8d80ab-4fbd-48b3-b10e-9e2395c9a7e1",
   "metadata": {},
   "outputs": [],
   "source": [
    "#thresholds=[3,6,9,12,15,18,21]\n",
    "#[sensitivity, specificity,tp_arr,fp_arr,tn_arr,fn_arr]=sens_spec_rates(df.group, df.OS, thresholds)\n",
    "#pd.DataFrame(zip(thresholds,sensitivity, specificity,tp_arr,fp_arr,tn_arr,fn_arr), columns = ['thresholds(month)', 'sensitivity', 'specificity','tp','fp','tn','fn'])"
   ]
  },
  {
   "cell_type": "code",
   "execution_count": null,
   "id": "fb2373b4-6566-4f07-a937-d128c6ad05a2",
   "metadata": {},
   "outputs": [],
   "source": [
    "#df['OSThreeMonth']='LessOrEqual'\n",
    "#df.loc[df['OS'] > 3, 'OSThreeMonth'] = 'Greater'\n",
    "#df['BCOR_x']=PoplarDatasetForHoldout.loc[patient_embedding_holdout.index,['BCOR_x']]\n",
    "#df['BCOR_x_label']='unknown'\n",
    "#df.loc[df[\"BCOR_x\"].isin([\"CR\",\"SD\",\"PR\"]), \"BCOR_x_label\"] = \"CR,SD,PR\"\n",
    "#df.loc[df[\"BCOR_x\"]==\"PD\", \"BCOR_x_label\"] = \"PD\"\n",
    "#df"
   ]
  },
  {
   "cell_type": "code",
   "execution_count": null,
   "id": "f14df9ef-8b74-42bb-a5e8-74bb97c85719",
   "metadata": {},
   "outputs": [],
   "source": [
    "#df.groupby(['group', 'BCOR_x_label']).size()"
   ]
  },
  {
   "cell_type": "markdown",
   "id": "ab465f50-20bf-4b9b-aa8a-4697d3aac336",
   "metadata": {
    "tags": []
   },
   "source": [
    "# BIKG prior knowledge + OAK-Poplar panel"
   ]
  },
  {
   "cell_type": "markdown",
   "id": "6809a682-ae01-4f97-9fb9-eb872452fb1b",
   "metadata": {},
   "source": [
    "### similarly as previous experiment, this block is to evaluate the performance of (BIKG prior knowledge feature + genomic feature)"
   ]
  },
  {
   "cell_type": "code",
   "execution_count": null,
   "id": "ef00103b-3c22-4958-8e4e-f9cd7facb3a9",
   "metadata": {},
   "outputs": [],
   "source": [
    "\n",
    "random_state=bestInd\n",
    "X_train, X_test, y_train, y_test = train_test_split(\n",
    "    patient_embedding_dataframe.join(genomic_features_OAK[commonListOfGene],how='left'), y_dataframe, test_size=0.1,stratify=[x[0] for x in y_dataframe], random_state=random_state)\n",
    "downstream_model = RandomSurvivalForestModel(num_trees=100)\n",
    "y_train_censorship=[x[0] for x in y_train]\n",
    "y_train_time=[x[1] for x in y_train]\n",
    "downstream_model.fit(X=X_train, T=y_train_time, E=y_train_censorship,seed=randomSeed) \n",
    "y_test_censorship=[x[0] for x in y_test]\n",
    "y_test_time=[x[1] for x in y_test]\n",
    "y_pred=downstream_model.predict_risk(X_test)\n",
    "c_index = lfcindex(y_test_time, y_pred, y_test_censorship)\n",
    "if c_index<0.5:\n",
    "    print (1-c_index)\n",
    "else:\n",
    "    print (c_index)"
   ]
  },
  {
   "cell_type": "code",
   "execution_count": null,
   "id": "c89d9c18-9311-4de4-a64a-fed2b4ab8e0a",
   "metadata": {},
   "outputs": [],
   "source": [
    "y_pred_holdout=downstream_model.predict_risk(patient_embedding_holdout.join(genomic_features_Poplar[commonListOfGene],how='left'))\n",
    "y_holdout_censorship=[x[0] for x in y_holdout]\n",
    "y_holdout_time=[x[1] for x in y_holdout]\n",
    "c_index = lfcindex(y_holdout_time, y_pred_holdout, y_holdout_censorship)\n",
    "if c_index<0.5:\n",
    "    print (1-c_index)\n",
    "else:\n",
    "    print (c_index)"
   ]
  },
  {
   "cell_type": "code",
   "execution_count": null,
   "id": "1286599c-c8b6-4cfe-9071-242a89cab94e",
   "metadata": {},
   "outputs": [],
   "source": [
    "# get the cutoff using training data\n",
    "y_pred_dataframe=downstream_model.predict_risk(patient_embedding_dataframe.join(genomic_features_OAK[commonListOfGene],how='left'))\n",
    "cutoff_75_percentile=np.quantile(y_pred_dataframe, 0.75)\n",
    "cutoff_75_percentile"
   ]
  },
  {
   "cell_type": "code",
   "execution_count": null,
   "id": "b4091988-cef3-4afd-8b6d-3bb8365766a9",
   "metadata": {},
   "outputs": [],
   "source": [
    "\n",
    "df=pd.DataFrame([y_pred_holdout,y_holdout_time,y_holdout_censorship]).T\n",
    "df.columns=['predictRisk','OS','censorLabel']\n",
    "df['group'] = 'Unknown'\n",
    "df.loc[df.predictRisk >= cutoff_75_percentile,'group']= \"High\"\n",
    "df.loc[df.predictRisk < cutoff_75_percentile,'group']= \"Low\"\n",
    "\n",
    "\n",
    "\n",
    "axs = subplots(cols=1, rows=1, w=6, h=4)\n",
    "KMPlot(df, time='OS', event='censorLabel', label=[ 'group'], score='predictRisk').plot(\n",
    "    ['High', 'Low'], ax=axs[0],\n",
    "    comparisons=[['Low', 'High', 'Low vs High']],\n",
    "    saturation=0.9,\n",
    "    linewidth=1.5,\n",
    "    palette='Set1',\n",
    "    template_color = 'black',xy_font_size=18,\n",
    "    hr_color='black',\n",
    "    x_legend = 0.5, y_legend=0.95,legend_font_size=12,\n",
    "    label_height_adj=0.06,\n",
    "    x_hr_legand=0.0,y_hr_legend=.1,hr_font_size=12,\n",
    ");\n",
    "\n",
    "\n",
    "\n",
    "sns.despine(offset=2)"
   ]
  },
  {
   "cell_type": "code",
   "execution_count": null,
   "id": "aaf21968-b184-465b-93fd-7df3a6372b1f",
   "metadata": {},
   "outputs": [],
   "source": [
    "def compareGeneDiffBetweenHighVSLow(df,genomic_features_Poplar,patient_embedding_holdout,tmbValue):\n",
    "    topGeneList=genomic_features_Poplar.loc[patient_embedding_holdout.index,['TP53','EGFR','ATM','KRAS','EPHA7','STAT3','CTNNB1','PRKDC','NFE2L2','SOX9']].reset_index(drop=True)\n",
    "    topGeneList['tmb']=tmbValue\n",
    "    topGeneList['group']=df['group']\n",
    "    return topGeneList.groupby(\"group\").mean()"
   ]
  },
  {
   "cell_type": "code",
   "execution_count": null,
   "id": "36ad3d20-dd14-4655-a929-4fbde5c1d74c",
   "metadata": {},
   "outputs": [],
   "source": [
    "compareGeneDiffBetweenHighVSLow(df,genomic_features_Poplar,patient_embedding_holdout,tmbValue)"
   ]
  },
  {
   "cell_type": "markdown",
   "id": "f514afdb-fe69-4f14-84ab-644672c9f528",
   "metadata": {},
   "source": [
    "# TMB"
   ]
  },
  {
   "cell_type": "markdown",
   "id": "ae80f352-d082-40d6-be18-d39dff7f4ed4",
   "metadata": {},
   "source": [
    "### This block of code is to evaluate the patient stratification using traditional TMB as biomarker. If TMB>75th percentifle cutoff, then High; else low."
   ]
  },
  {
   "cell_type": "code",
   "execution_count": null,
   "id": "0016c8aa-dcfc-4852-9a2d-1349aec4da90",
   "metadata": {},
   "outputs": [],
   "source": [
    "OAKDatasetForTraining = pd.read_csv('../Data/inputs/inputDatasetOAK/OAK-IO.csv', sep=',')\n",
    "OAKDatasetForTraining['SAMPLE_ID']=['Patient'+str(i) for i in range(0,len(OAKDatasetForTraining))]\n",
    "OAKDatasetForTraining.set_index('SAMPLE_ID',inplace=True)\n",
    "\n",
    "# get the cutoff using training data\n",
    "TMB_cutoff_75=np.quantile(np.array(OAKDatasetForTraining['btmb']), 0.75)\n",
    "TMB_cutoff_75"
   ]
  },
  {
   "cell_type": "code",
   "execution_count": null,
   "id": "97eb6272-e2c2-4faf-87d9-0edd451dd140",
   "metadata": {},
   "outputs": [],
   "source": [
    "\n",
    "df=pd.DataFrame([tmbValue,y_holdout_time,y_holdout_censorship]).T\n",
    "df.columns=['predictRisk','OS','censorLabel']\n",
    "df['group'] = 'Unknown'\n",
    "df.loc[df.predictRisk >= TMB_cutoff_75,'group']= \"High\"\n",
    "df.loc[df.predictRisk < TMB_cutoff_75,'group']= \"Low\"\n",
    "\n",
    "\n",
    "\n",
    "axs = subplots(cols=1, rows=1, w=6, h=4)\n",
    "KMPlot(df, time='OS', event='censorLabel', label=[ 'group'], score='predictRisk').plot(\n",
    "    ['High', 'Low'], ax=axs[0],\n",
    "    comparisons=[['Low', 'High', 'Low vs High']],\n",
    "    saturation=0.9,\n",
    "    linewidth=1.5,\n",
    "    palette='Set1',\n",
    "    template_color = 'black',xy_font_size=18,\n",
    "    hr_color='black',\n",
    "    x_legend = 0.5, y_legend=0.95,legend_font_size=12,\n",
    "    label_height_adj=0.06,\n",
    "    x_hr_legand=0.0,y_hr_legend=.1,hr_font_size=12,\n",
    ");\n",
    "\n",
    "\n",
    "\n",
    "sns.despine(offset=2)"
   ]
  },
  {
   "cell_type": "code",
   "execution_count": null,
   "id": "c5ef0121-6ca2-4fe2-bfba-96e5d269182b",
   "metadata": {},
   "outputs": [],
   "source": [
    "# TMB cutoff=16 https://www.nature.com/articles/s41591-018-0134-3\n",
    "df=pd.DataFrame([tmbValue,y_holdout_time,y_holdout_censorship]).T\n",
    "df.columns=['predictRisk','OS','censorLabel']\n",
    "df['group'] = 'Unknown'\n",
    "df.loc[df.predictRisk >= 16,'group']= \"High\"\n",
    "df.loc[df.predictRisk < 16,'group']= \"Low\"\n",
    "\n",
    "\n",
    "\n",
    "axs = subplots(cols=1, rows=1, w=6, h=4)\n",
    "KMPlot(df, time='OS', event='censorLabel', label=[ 'group'], score='predictRisk').plot(\n",
    "    ['High', 'Low'], ax=axs[0],\n",
    "    comparisons=[['Low', 'High', 'Low vs High']],\n",
    "    saturation=0.9,\n",
    "    linewidth=1.5,\n",
    "    palette='Set1',\n",
    "    template_color = 'black',xy_font_size=18,\n",
    "    hr_color='black',\n",
    "    x_legend = 0.5, y_legend=0.95,legend_font_size=12,\n",
    "    label_height_adj=0.06,\n",
    "    x_hr_legand=0.0,y_hr_legend=.1,hr_font_size=12,\n",
    ");\n"
   ]
  },
  {
   "cell_type": "markdown",
   "id": "57ee2bea-e44c-4584-9a12-f359f98a8ed1",
   "metadata": {},
   "source": [
    "# OAK-POPLAR gene panel"
   ]
  },
  {
   "cell_type": "markdown",
   "id": "92d09265-cdad-4054-bf50-9c99b289f89a",
   "metadata": {},
   "source": [
    "### This block is to evaluate the performance of genomic feature (i.e. OAK-POPLAR gene panel)\n"
   ]
  },
  {
   "cell_type": "code",
   "execution_count": null,
   "id": "ee6513e1-0635-4c4b-9d0f-9cebc5f4262e",
   "metadata": {},
   "outputs": [],
   "source": [
    "\n",
    "random_state=bestInd\n",
    "X_train, X_test, y_train, y_test = train_test_split(\n",
    "    genomic_features_OAK.loc[patient_embedding_dataframe.index,commonListOfGene], y_dataframe, test_size=0.1,stratify=[x[0] for x in y_dataframe], random_state=random_state)\n",
    "downstream_model = RandomSurvivalForestModel(num_trees=100)\n",
    "y_train_censorship=[x[0] for x in y_train]\n",
    "y_train_time=[x[1] for x in y_train]\n",
    "downstream_model.fit(X=X_train, T=y_train_time, E=y_train_censorship,seed=randomSeed) \n",
    "y_test_censorship=[x[0] for x in y_test]\n",
    "y_test_time=[x[1] for x in y_test]\n",
    "y_pred=downstream_model.predict_risk(X_test)\n",
    "c_index = lfcindex(y_test_time, y_pred, y_test_censorship)\n",
    "if c_index<0.5:\n",
    "    print (1-c_index)\n",
    "else:\n",
    "    print (c_index)"
   ]
  },
  {
   "cell_type": "code",
   "execution_count": null,
   "id": "e0d172f2-6c46-471f-9a2b-268c92bab870",
   "metadata": {},
   "outputs": [],
   "source": [
    "y_pred_holdout=downstream_model.predict_risk(genomic_features_Poplar.loc[patient_embedding_holdout.index,commonListOfGene])\n",
    "y_holdout_censorship=[x[0] for x in y_holdout]\n",
    "y_holdout_time=[x[1] for x in y_holdout]\n",
    "c_index = lfcindex(y_holdout_time, y_pred_holdout, y_holdout_censorship)\n",
    "if c_index<0.5:\n",
    "    print (1-c_index)\n",
    "else:\n",
    "    print (c_index)"
   ]
  },
  {
   "cell_type": "code",
   "execution_count": null,
   "id": "ca8d9fd2-6cf4-4be3-a4d4-8918a8b35a35",
   "metadata": {},
   "outputs": [],
   "source": [
    "# get the cutoff using training data\n",
    "y_pred_dataframe=downstream_model.predict_risk(genomic_features_OAK.loc[patient_embedding_dataframe.index,commonListOfGene])\n",
    "cutoff_75_percentile=np.quantile(y_pred_dataframe, 0.75)\n",
    "cutoff_75_percentile"
   ]
  },
  {
   "cell_type": "code",
   "execution_count": null,
   "id": "8949707b-5ccc-4cfe-9b61-6bce1a603f47",
   "metadata": {},
   "outputs": [],
   "source": [
    "\n",
    "df=pd.DataFrame([y_pred_holdout,y_holdout_time,y_holdout_censorship]).T\n",
    "df.columns=['predictRisk','OS','censorLabel']\n",
    "df['group'] = 'Unknown'\n",
    "df.loc[df.predictRisk >= cutoff_75_percentile,'group']= \"High\"\n",
    "df.loc[df.predictRisk < cutoff_75_percentile,'group']= \"Low\"\n",
    "\n",
    "\n",
    "\n",
    "axs = subplots(cols=1, rows=1, w=6, h=4)\n",
    "KMPlot(df, time='OS', event='censorLabel', label=[ 'group'], score='predictRisk').plot(\n",
    "    ['High', 'Low'], ax=axs[0],\n",
    "    comparisons=[['Low', 'High', 'Low vs High']],\n",
    "    saturation=0.9,\n",
    "    linewidth=1.5,\n",
    "    palette='Set1',\n",
    "    template_color = 'black',xy_font_size=18,\n",
    "    hr_color='black',\n",
    "    x_legend = 0.5, y_legend=0.95,legend_font_size=12,\n",
    "    label_height_adj=0.06,\n",
    "    x_hr_legand=0.0,y_hr_legend=.1,hr_font_size=12,\n",
    ");\n",
    "\n",
    "\n",
    "\n",
    "sns.despine(offset=2)"
   ]
  },
  {
   "cell_type": "code",
   "execution_count": null,
   "id": "37932f9d-0ee7-4b5d-bee3-a83f076154e7",
   "metadata": {},
   "outputs": [],
   "source": [
    "#df.to_csv('OAKPoplarGenePanelPredictedRisk.csv',index=False)"
   ]
  },
  {
   "cell_type": "code",
   "execution_count": null,
   "id": "b060c1e8-16d9-4fd7-a1d4-16f5713ccfe6",
   "metadata": {},
   "outputs": [],
   "source": [
    "compareGeneDiffBetweenHighVSLow(df,genomic_features_Poplar,patient_embedding_holdout,tmbValue)"
   ]
  },
  {
   "cell_type": "code",
   "execution_count": null,
   "id": "dc2479e9-4028-4c66-98ee-5582f25be517",
   "metadata": {},
   "outputs": [],
   "source": [
    "#thresholds=[3,6,9,12,15,18,21]\n",
    "#[sensitivity, specificity,tp_arr,fp_arr,tn_arr,fn_arr]=sens_spec_rates(df.group, df.OS, thresholds)\n",
    "#pd.DataFrame(zip(thresholds,sensitivity, specificity,tp_arr,fp_arr,tn_arr,fn_arr), columns = ['thresholds(month)', 'sensitivity', 'specificity','tp','fp','tn','fn'])"
   ]
  },
  {
   "cell_type": "code",
   "execution_count": null,
   "id": "bdaf4edf-1612-4d13-bdf2-a32a4890367f",
   "metadata": {},
   "outputs": [],
   "source": [
    "#df['OSThreeMonth']='LessOrEqual'\n",
    "#df.loc[df['OS'] > 3, 'OSThreeMonth'] = 'Greater'\n",
    "#df['BCOR_x']=PoplarDatasetForHoldout.loc[patient_embedding_holdout.index,['BCOR_x']]\n",
    "#df['BCOR_x_label']='unknown'\n",
    "#df.loc[df[\"BCOR_x\"].isin([\"CR\",\"SD\",\"PR\"]), \"BCOR_x_label\"] = \"CR,SD,PR\"\n",
    "#df.loc[df[\"BCOR_x\"]==\"PD\", \"BCOR_x_label\"] = \"PD\"\n",
    "#df"
   ]
  },
  {
   "cell_type": "code",
   "execution_count": null,
   "id": "4a33149f-8f47-49dd-b9f2-accc6d91d6ac",
   "metadata": {},
   "outputs": [],
   "source": [
    "#df.groupby(['group', 'BCOR_x_label']).size()"
   ]
  },
  {
   "cell_type": "code",
   "execution_count": null,
   "id": "0fa1aed8-0728-441d-821c-435e71e93af3",
   "metadata": {},
   "outputs": [],
   "source": [
    "### for checking the predicted risk using BIKG embedding features\n",
    "#df.to_excel(\"AllGenomicsPredictedRisk.xlsx\")"
   ]
  },
  {
   "cell_type": "markdown",
   "id": "413c706c-e073-42a0-b1ea-62a69c52a994",
   "metadata": {},
   "source": [
    "# OAK-POPLAR gene panel using autoencoder enbedding"
   ]
  },
  {
   "cell_type": "markdown",
   "id": "59e5462d-af60-4c00-bfcb-e65594764d69",
   "metadata": {},
   "source": [
    "### The following block is to evaluate some other embedding approach for comparison purpose, here we used Autoencoder embedding to compare with graph embedding"
   ]
  },
  {
   "cell_type": "code",
   "execution_count": null,
   "id": "b02fb4c8-228a-4bdb-a793-3fe87bffb31f",
   "metadata": {},
   "outputs": [],
   "source": [
    "import keras\n",
    "from keras import layers\n",
    "\n",
    "encoding_dim = 16 \n",
    "\n",
    "train_x = genomic_features_OAK.loc[patient_embedding_dataframe.index,commonListOfGene]\n",
    "test_x = genomic_features_Poplar.loc[patient_embedding_holdout.index,commonListOfGene]\n",
    "\n",
    "inputFeature = keras.Input(shape=(train_x.shape[1],))\n",
    "# \"encoded\" is the encoded representation of the input\n",
    "encoded = layers.Dense(encoding_dim, activation='relu')(inputFeature)\n",
    "# \"decoded\" is the lossy reconstruction of the input\n",
    "decoded = layers.Dense(train_x.shape[1], activation='sigmoid')(encoded)\n",
    "autoencoder = keras.Model(inputFeature, decoded)\n",
    "\n",
    "encoder = keras.Model(inputFeature, encoded)\n",
    "\n",
    "autoencoder.compile(optimizer='adam', loss='binary_crossentropy')\n",
    "autoencoder.fit(train_x, train_x,\n",
    "                epochs=100,\n",
    "                batch_size=100,\n",
    "                shuffle=True,\n",
    "                validation_data=(test_x, test_x),\n",
    "                verbose=0)\n",
    "\n",
    "encoded_features_train = encoder.predict(train_x)\n",
    "encoded_features_test = encoder.predict(test_x)"
   ]
  },
  {
   "cell_type": "code",
   "execution_count": null,
   "id": "236eb867-2821-40cb-bae1-379a263a3927",
   "metadata": {},
   "outputs": [],
   "source": [
    "\n",
    "random_state=bestInd\n",
    "X_train, X_test, y_train, y_test = train_test_split(\n",
    "    encoded_features_train, y_dataframe, test_size=0.1,stratify=[x[0] for x in y_dataframe], random_state=random_state)\n",
    "downstream_model = RandomSurvivalForestModel(num_trees=100)\n",
    "y_train_censorship=[x[0] for x in y_train]\n",
    "y_train_time=[x[1] for x in y_train]\n",
    "downstream_model.fit(X=X_train, T=y_train_time, E=y_train_censorship,seed=randomSeed) \n",
    "y_test_censorship=[x[0] for x in y_test]\n",
    "y_test_time=[x[1] for x in y_test]\n",
    "y_pred=downstream_model.predict_risk(X_test)\n",
    "c_index = lfcindex(y_test_time, y_pred, y_test_censorship)\n",
    "if c_index<0.5:\n",
    "    print (1-c_index)\n",
    "else:\n",
    "    print (c_index)"
   ]
  },
  {
   "cell_type": "code",
   "execution_count": null,
   "id": "a171cf7c-a98d-41ce-9fe9-c8a759ca0e41",
   "metadata": {},
   "outputs": [],
   "source": [
    "y_pred_holdout=downstream_model.predict_risk(encoded_features_test)\n",
    "y_holdout_censorship=[x[0] for x in y_holdout]\n",
    "y_holdout_time=[x[1] for x in y_holdout]\n",
    "c_index = lfcindex(y_holdout_time, y_pred_holdout, y_holdout_censorship)\n",
    "if c_index<0.5:\n",
    "    print (1-c_index)\n",
    "else:\n",
    "    print (c_index)"
   ]
  },
  {
   "cell_type": "code",
   "execution_count": null,
   "id": "c829460a-37a4-4b17-addf-f22695d419fc",
   "metadata": {},
   "outputs": [],
   "source": [
    "# get the cutoff using training data\n",
    "y_pred_dataframe=downstream_model.predict_risk(encoded_features_train)\n",
    "cutoff_75_percentile=np.quantile(y_pred_dataframe, 0.75)\n",
    "cutoff_75_percentile"
   ]
  },
  {
   "cell_type": "code",
   "execution_count": null,
   "id": "9593268d-dd88-4fd8-b029-249915dada23",
   "metadata": {},
   "outputs": [],
   "source": [
    "\n",
    "df=pd.DataFrame([y_pred_holdout,y_holdout_time,y_holdout_censorship]).T\n",
    "df.columns=['predictRisk','OS','censorLabel']\n",
    "df['group'] = 'Unknown'\n",
    "df.loc[df.predictRisk >= cutoff_75_percentile,'group']= \"High\"\n",
    "df.loc[df.predictRisk < cutoff_75_percentile,'group']= \"Low\"\n",
    "\n",
    "\n",
    "\n",
    "axs = subplots(cols=1, rows=1, w=6, h=4)\n",
    "KMPlot(df, time='OS', event='censorLabel', label=[ 'group'], score='predictRisk').plot(\n",
    "    ['High', 'Low'], ax=axs[0],\n",
    "    comparisons=[['Low', 'High', 'Low vs High']],\n",
    "    saturation=0.9,\n",
    "    linewidth=1.5,\n",
    "    palette='Set1',\n",
    "    template_color = 'black',xy_font_size=18,\n",
    "    hr_color='black',\n",
    "    x_legend = 0.5, y_legend=0.95,legend_font_size=12,\n",
    "    label_height_adj=0.06,\n",
    "    x_hr_legand=0.0,y_hr_legend=.1,hr_font_size=12,\n",
    ");\n",
    "\n",
    "\n",
    "\n",
    "sns.despine(offset=2)"
   ]
  },
  {
   "cell_type": "markdown",
   "id": "46f669dd-1649-4efb-be08-12692214b56e",
   "metadata": {},
   "source": [
    "# PCA embedding"
   ]
  },
  {
   "cell_type": "markdown",
   "id": "24275615-1cdd-4bc2-8690-3eb883f3fc63",
   "metadata": {},
   "source": [
    "### Similarly as previous experiment, here we applied PCA embedding to compare with graph embedding"
   ]
  },
  {
   "cell_type": "code",
   "execution_count": null,
   "id": "6e461b29-be26-41c1-8449-435f5e5f9527",
   "metadata": {},
   "outputs": [],
   "source": [
    "from sklearn.decomposition import PCA\n",
    "\n",
    "encoding_dim = 16 \n",
    "\n",
    "train_x = genomic_features_OAK.loc[patient_embedding_dataframe.index,commonListOfGene]\n",
    "test_x = genomic_features_Poplar.loc[patient_embedding_holdout.index,commonListOfGene]\n",
    "\n",
    "pca = PCA(n_components=encoding_dim,random_state=123)\n",
    "pca.fit(train_x)\n",
    "\n",
    "X_train_pca = pca.transform(train_x)\n",
    "X_test_pca = pca.transform(test_x)\n",
    "\n"
   ]
  },
  {
   "cell_type": "code",
   "execution_count": null,
   "id": "5db335d8-bba3-4036-8aea-9c774edaee3d",
   "metadata": {},
   "outputs": [],
   "source": [
    "random_state=bestInd\n",
    "X_train, X_test, y_train, y_test = train_test_split(\n",
    "    X_train_pca, y_dataframe, test_size=0.1,stratify=[x[0] for x in y_dataframe], random_state=random_state)\n",
    "downstream_model = RandomSurvivalForestModel(num_trees=100)\n",
    "y_train_censorship=[x[0] for x in y_train]\n",
    "y_train_time=[x[1] for x in y_train]\n",
    "downstream_model.fit(X=X_train, T=y_train_time, E=y_train_censorship,seed=randomSeed) \n",
    "y_test_censorship=[x[0] for x in y_test]\n",
    "y_test_time=[x[1] for x in y_test]\n",
    "y_pred=downstream_model.predict_risk(X_test)\n",
    "c_index = lfcindex(y_test_time, y_pred, y_test_censorship)\n",
    "if c_index<0.5:\n",
    "    print (1-c_index)\n",
    "else:\n",
    "    print (c_index)"
   ]
  },
  {
   "cell_type": "code",
   "execution_count": null,
   "id": "87d77a5c-f388-4d6a-aded-9ebe831c0425",
   "metadata": {},
   "outputs": [],
   "source": [
    "y_pred_holdout=downstream_model.predict_risk(X_test_pca)\n",
    "y_holdout_censorship=[x[0] for x in y_holdout]\n",
    "y_holdout_time=[x[1] for x in y_holdout]\n",
    "c_index = lfcindex(y_holdout_time, y_pred_holdout, y_holdout_censorship)\n",
    "if c_index<0.5:\n",
    "    print (1-c_index)\n",
    "else:\n",
    "    print (c_index)\n"
   ]
  },
  {
   "cell_type": "code",
   "execution_count": null,
   "id": "62f10782-145c-46d5-939b-c840ec276c1f",
   "metadata": {},
   "outputs": [],
   "source": [
    "y_pred_dataframe=downstream_model.predict_risk(X_train_pca)\n",
    "cutoff_75_percentile=np.quantile(y_pred_dataframe, 0.75)\n",
    "cutoff_75_percentile"
   ]
  },
  {
   "cell_type": "code",
   "execution_count": null,
   "id": "fb517694-1c5a-49e3-875f-c3b5c497049d",
   "metadata": {},
   "outputs": [],
   "source": [
    "df=pd.DataFrame([y_pred_holdout,y_holdout_time,y_holdout_censorship]).T\n",
    "df.columns=['predictRisk','OS','censorLabel']\n",
    "df['group'] = 'Unknown'\n",
    "df.loc[df.predictRisk >= cutoff_75_percentile,'group']= \"High\"\n",
    "df.loc[df.predictRisk < cutoff_75_percentile,'group']= \"Low\"\n",
    "\n",
    "\n",
    "\n",
    "axs = subplots(cols=1, rows=1, w=6, h=4)\n",
    "KMPlot(df, time='OS', event='censorLabel', label=[ 'group'], score='predictRisk').plot(\n",
    "    ['High', 'Low'], ax=axs[0],\n",
    "    comparisons=[['Low', 'High', 'Low vs High']],\n",
    "    saturation=0.9,\n",
    "    linewidth=1.5,\n",
    "    palette='Set1',\n",
    "    template_color = 'black',xy_font_size=18,\n",
    "    hr_color='black',\n",
    "    x_legend = 0.5, y_legend=0.95,legend_font_size=12,\n",
    "    label_height_adj=0.06,\n",
    "    x_hr_legand=0.0,y_hr_legend=.1,hr_font_size=12,\n",
    ");\n",
    "\n",
    "\n",
    "\n",
    "sns.despine(offset=2)"
   ]
  },
  {
   "cell_type": "markdown",
   "id": "424dbedb-fd9d-43a1-bff3-a6291fc48a63",
   "metadata": {},
   "source": [
    "# Identify variance importance and association with inputs"
   ]
  },
  {
   "cell_type": "markdown",
   "id": "246a7b86-ca37-4f1a-80fe-da7b7fe8cf20",
   "metadata": {},
   "source": [
    "### The following code is used to identify feature importance. importance of each feature (the higher, the more important the feature is). The importance is the difference between the perturbed and unperturbed error rate for each feature."
   ]
  },
  {
   "cell_type": "code",
   "execution_count": null,
   "id": "44022316-ef17-479a-86c0-281fe267a6bd",
   "metadata": {},
   "outputs": [],
   "source": [
    "importantFeature={}\n",
    "for i in range(0,10):\n",
    "    X_train, X_test, y_train, y_test = train_test_split(\n",
    "        patient_embedding_dataframe, y_dataframe, test_size=0.1,stratify=[x[0] for x in y_dataframe], random_state=i)\n",
    "    downstream_model = RandomSurvivalForestModel(num_trees=100)\n",
    "    y_train_censorship=[x[0] for x in y_train]\n",
    "    y_train_time=[x[1] for x in y_train]\n",
    "    downstream_model.fit(X=X_train, T=y_train_time, E=y_train_censorship,seed=randomSeed) \n",
    "    y_test_censorship=[x[0] for x in y_test]\n",
    "    y_test_time=[x[1] for x in y_test]\n",
    "    y_pred=downstream_model.predict_risk(X_test)\n",
    "    c_index = lfcindex(y_test_time, y_pred, y_test_censorship)\n",
    "    if c_index<0.5:\n",
    "        print (1-c_index)\n",
    "    else:\n",
    "        print (c_index)\n",
    "    #identify most important embedding feature associated with survial prediction\n",
    "    mostImportantFeatures=downstream_model.variable_importance_table.head(10)\n",
    "    # fit a decision tree regression model to assocaite the most important embedding feature with molecular features\n",
    "    regressor = DecisionTreeRegressor(random_state=i)\n",
    "    genomic_features=genomic_features_OAK.loc[patient_embedding_dataframe.index,]\n",
    "    regressor.fit(genomic_features, patient_embedding_dataframe[mostImportantFeatures.loc[0,'feature']])\n",
    "    # sort the genomic features in decreasing order of their importance\n",
    "    importance = regressor.feature_importances_\n",
    "    indices = np.argsort(importance)[::-1]\n",
    "    # select the top 10 genomic features\n",
    "    rankTable=pd.DataFrame(list(zip(genomic_features.columns[indices],importance[indices])),columns=['FeatureName','Importance'])\n",
    "    selected=rankTable.iloc[0:10,:]\n",
    "    # store the feature name into a dictionary with frequency\n",
    "    genomicFeatureList=list(selected['FeatureName'])\n",
    "    for gene in genomicFeatureList:\n",
    "        if gene not in importantFeature:\n",
    "            importantFeature[gene]=1\n",
    "        else:\n",
    "            importantFeature[gene]=importantFeature[gene]+1"
   ]
  },
  {
   "cell_type": "code",
   "execution_count": null,
   "id": "3c137eb4-8b86-4b14-a37f-0b4b332cf3b8",
   "metadata": {},
   "outputs": [],
   "source": [
    "topFeaturesAmongTenModels=sorted(importantFeature.items(), key=lambda x: x[1], reverse=True)[:10]\n",
    "topFeaturesAmongTenModels"
   ]
  },
  {
   "cell_type": "code",
   "execution_count": null,
   "id": "206bf838-7321-4f2c-b678-537b8f516036",
   "metadata": {},
   "outputs": [],
   "source": [
    "def calculateMutationalFreq(df,topFeatureList):\n",
    "    return np.sum(df.loc[:,topFeatureList])/df.shape[0]"
   ]
  },
  {
   "cell_type": "code",
   "execution_count": null,
   "id": "e3eefa15-222f-4e9b-9bf5-62f222f32f28",
   "metadata": {},
   "outputs": [],
   "source": [
    "topFeatureList=[gene for (gene, frequency) in topFeaturesAmongTenModels]\n",
    "\n",
    "calculateMutationalFreq(genomic_features_OAK,topFeatureList)"
   ]
  },
  {
   "cell_type": "code",
   "execution_count": null,
   "id": "0ef69111-58dd-4a60-8c2b-de3dc74e12f5",
   "metadata": {},
   "outputs": [],
   "source": [
    "calculateMutationalFreq(genomic_features_Poplar,topFeatureList)"
   ]
  },
  {
   "cell_type": "code",
   "execution_count": null,
   "id": "59264b07-731b-4a84-90a2-21183ce86940",
   "metadata": {},
   "outputs": [],
   "source": [
    "genomic_features_Poplar[['PIK3CA']].value_counts()/len(genomic_features_Poplar)"
   ]
  },
  {
   "cell_type": "code",
   "execution_count": null,
   "id": "1f2b8bb3-c64e-44a8-8bbe-0edbc07949aa",
   "metadata": {},
   "outputs": [],
   "source": [
    "genomic_features_OAK[['PIK3CA']].value_counts()/len(genomic_features_OAK)"
   ]
  },
  {
   "cell_type": "markdown",
   "id": "1d2b493d-0d5d-4315-846b-0b292c4b2d3c",
   "metadata": {},
   "source": [
    "# gen signature test (biomarker + vs -)"
   ]
  },
  {
   "cell_type": "markdown",
   "id": "293c446b-999c-4767-856d-397e6841e3a5",
   "metadata": {},
   "source": [
    "### Based on the above importance genomic features, a gene signature can be constructed using those genes. The gene signature is defined as \"Mut\" if more than one of those genes are mutant. Else, \"Wt\", wild type"
   ]
  },
  {
   "cell_type": "code",
   "execution_count": null,
   "id": "a8b0edc2-281c-419d-9197-44ff0106bb95",
   "metadata": {},
   "outputs": [],
   "source": [
    "y_dataframe_censorship=[x[0] for x in y_dataframe]\n",
    "y_dataframe_time=[x[1] for x in y_dataframe]\n",
    "\n",
    "\n",
    "mutations_OAK=genomic_features_OAK.loc[patient_embedding_dataframe.index][['EGFR','TP53','ATM','PRKDC','STAT3','CTNNB1','KRAS','NFE2L2','EPHA7','SOX9']]\n",
    "mutations_OAK['signature']=mutations_OAK.sum(axis=1)\n",
    "\n",
    "\n",
    "df=pd.DataFrame([list(mutations_OAK['signature']),y_dataframe_time,y_dataframe_censorship]).T\n",
    "\n",
    "df.columns=['signature','OS','censorLabel']\n",
    "df['group'] = 'Unknown'\n",
    "df.loc[df.signature >1,'group']= \"Mut\"\n",
    "df.loc[df.signature ==0,'group']= \"Wt\"\n",
    "\n",
    "\n",
    "\n",
    "axs = subplots(cols=1, rows=1, w=6, h=4)\n",
    "KMPlot(df, time='OS', event='censorLabel', label=[ 'group'], score='predictRisk').plot(\n",
    "    ['Mut', 'Wt'], ax=axs[0],\n",
    "    comparisons=[['Wt', 'Mut', 'Wt vs Mut']],\n",
    "    saturation=0.9,\n",
    "    linewidth=1.5,\n",
    "    palette='Set1',\n",
    "    template_color = 'black',xy_font_size=18,\n",
    "    hr_color='black',\n",
    "    x_legend = 0.5, y_legend=0.95,legend_font_size=12,\n",
    "    label_height_adj=0.06,\n",
    "    x_hr_legand=0.0,y_hr_legend=.1,hr_font_size=12,\n",
    ");\n",
    "\n",
    "\n",
    "\n",
    "sns.despine(offset=2)"
   ]
  },
  {
   "cell_type": "code",
   "execution_count": null,
   "id": "a4bc9947-125d-4a2a-8d0c-229e99a75b50",
   "metadata": {},
   "outputs": [],
   "source": [
    "y_holdout_censorship=[x[0] for x in y_holdout]\n",
    "y_holdout_time=[x[1] for x in y_holdout]\n",
    "\n",
    "mutations_POPLAR=genomic_features_Poplar.loc[patient_embedding_holdout.index][['EGFR','TP53','ATM','PRKDC','STAT3','CTNNB1','KRAS','NFE2L2','EPHA7','SOX9']]\n",
    "mutations_POPLAR['signature']=mutations_POPLAR.sum(axis=1)\n",
    "mutations_POPLAR\n",
    "\n",
    "df=pd.DataFrame([list(mutations_POPLAR['signature']),y_holdout_time,y_holdout_censorship]).T\n",
    "\n",
    "df.columns=['signature','OS','censorLabel']\n",
    "df['group'] = 'Unknown'\n",
    "df.loc[df.signature >1,'group']= \"Mut\"\n",
    "df.loc[df.signature ==0,'group']= \"Wt\"\n",
    "\n",
    "\n",
    "\n",
    "axs = subplots(cols=1, rows=1, w=6, h=4)\n",
    "KMPlot(df, time='OS', event='censorLabel', label=[ 'group'], score='predictRisk').plot(\n",
    "    ['Mut', 'Wt'], ax=axs[0],\n",
    "    comparisons=[['Wt', 'Mut', 'Wt vs Mut']],\n",
    "    saturation=0.9,\n",
    "    linewidth=1.5,\n",
    "    palette='Set1',\n",
    "    template_color = 'black',xy_font_size=18,\n",
    "    hr_color='black',\n",
    "    x_legend = 0.5, y_legend=0.95,legend_font_size=12,\n",
    "    label_height_adj=0.06,\n",
    "    x_hr_legand=0.0,y_hr_legend=.1,hr_font_size=12,\n",
    ");\n",
    "\n",
    "\n",
    "\n",
    "sns.despine(offset=2)\n"
   ]
  },
  {
   "cell_type": "markdown",
   "id": "1c30bc02-837d-4f32-9893-dd17328882cb",
   "metadata": {
    "tags": []
   },
   "source": [
    "# single gene survival stratification"
   ]
  },
  {
   "cell_type": "markdown",
   "id": "a0aa5375-68fc-4916-ad3f-a8a2c5108717",
   "metadata": {},
   "source": [
    "### the following function is to evaluate whether a single gene can be used to stratify patient OS\n"
   ]
  },
  {
   "cell_type": "code",
   "execution_count": null,
   "id": "2543a326-deac-4a83-ba4a-8d6c6cfd57e5",
   "metadata": {},
   "outputs": [],
   "source": [
    "y_dataframe_censorship=[x[0] for x in y_dataframe]\n",
    "y_dataframe_time=[x[1] for x in y_dataframe]\n",
    "\n",
    "#'EGFR','TP53','ATM','PRKDC','STAT3','CTNNB1','KRAS','NFE2L2','EPHA7','SOX9'\n",
    "mutations_OAK=genomic_features_OAK.loc[patient_embedding_dataframe.index][['SOX9']]\n",
    "mutations_OAK['signature']=mutations_OAK.sum(axis=1)\n",
    "\n",
    "\n",
    "df=pd.DataFrame([list(mutations_OAK['signature']),y_dataframe_time,y_dataframe_censorship]).T\n",
    "\n",
    "df.columns=['signature','OS','censorLabel']\n",
    "df['group'] = 'Unknown'\n",
    "df.loc[df.signature >0,'group']= \"Mut\"\n",
    "df.loc[df.signature ==0,'group']= \"Wt\"\n",
    "\n",
    "\n",
    "\n",
    "axs = subplots(cols=1, rows=1, w=6, h=4)\n",
    "KMPlot(df, time='OS', event='censorLabel', label=[ 'group'], score='predictRisk').plot(\n",
    "    ['Mut', 'Wt'], ax=axs[0],\n",
    "    comparisons=[['Mut', 'Wt', 'Mut vs Wt']],\n",
    "    saturation=0.9,\n",
    "    linewidth=1.5,\n",
    "    palette='Set1',\n",
    "    template_color = 'black',xy_font_size=18,\n",
    "    hr_color='black',\n",
    "    x_legend = 0.5, y_legend=0.95,legend_font_size=12,\n",
    "    label_height_adj=0.06,\n",
    "    x_hr_legand=0.0,y_hr_legend=.1,hr_font_size=12,\n",
    ");\n",
    "\n",
    "\n",
    "\n",
    "sns.despine(offset=2)"
   ]
  },
  {
   "cell_type": "code",
   "execution_count": null,
   "id": "0dc04f84-44f3-469d-b5e6-ebf066c5d9fc",
   "metadata": {},
   "outputs": [],
   "source": [
    "y_holdout_censorship=[x[0] for x in y_holdout]\n",
    "y_holdout_time=[x[1] for x in y_holdout]\n",
    "\n",
    "#'EGFR','TP53','ATM','PRKDC','STAT3','CTNNB1','KRAS','NFE2L2','EPHA7','SOX9'\n",
    "mutations_POPLAR=genomic_features_Poplar.loc[patient_embedding_holdout.index][['SOX9']]\n",
    "mutations_POPLAR['signature']=mutations_POPLAR.sum(axis=1)\n",
    "mutations_POPLAR\n",
    "\n",
    "df=pd.DataFrame([list(mutations_POPLAR['signature']),y_holdout_time,y_holdout_censorship]).T\n",
    "\n",
    "df.columns=['signature','OS','censorLabel']\n",
    "df['group'] = 'Unknown'\n",
    "df.loc[df.signature >0,'group']= \"Mut\"\n",
    "df.loc[df.signature ==0,'group']= \"Wt\"\n",
    "\n",
    "\n",
    "\n",
    "axs = subplots(cols=1, rows=1, w=6, h=4)\n",
    "KMPlot(df, time='OS', event='censorLabel', label=[ 'group'], score='predictRisk').plot(\n",
    "    ['Mut', 'Wt'], ax=axs[0],\n",
    "    comparisons=[['Mut', 'Wt', 'Mut vs Wt']],\n",
    "    saturation=0.9,\n",
    "    linewidth=1.5,\n",
    "    palette='Set1',\n",
    "    template_color = 'black',xy_font_size=18,\n",
    "    hr_color='black',\n",
    "    x_legend = 0.5, y_legend=0.95,legend_font_size=12,\n",
    "    label_height_adj=0.06,\n",
    "    x_hr_legand=0.0,y_hr_legend=.1,hr_font_size=12,\n",
    ");\n",
    "\n",
    "\n",
    "\n",
    "sns.despine(offset=2)\n"
   ]
  },
  {
   "cell_type": "code",
   "execution_count": null,
   "id": "498e95bc-34c3-4883-ada1-df86fa2aa9d6",
   "metadata": {},
   "outputs": [],
   "source": [
    "df[df.group=='Mut']"
   ]
  },
  {
   "cell_type": "markdown",
   "id": "b8789b6f-5c60-493c-9753-0d73a9fce3c4",
   "metadata": {},
   "source": [
    "# plot BIKG predicted risk vs all genomic predict risk"
   ]
  },
  {
   "cell_type": "markdown",
   "id": "8b32f710-89d3-4fbb-9ca8-33d591cb0caf",
   "metadata": {},
   "source": [
    "### the following block is used to evaluated OS prediction in models using BIKG versus gene panel only."
   ]
  },
  {
   "cell_type": "code",
   "execution_count": null,
   "id": "36b75cbd-53b9-4fd3-9f61-62f7779a838a",
   "metadata": {},
   "outputs": [],
   "source": [
    "BIKGPredictedRisk=pd.read_csv('../Data/outputs/BIKGPredictedRisk_OAKPoplar.csv')\n",
    "BIKGPredictedRisk"
   ]
  },
  {
   "cell_type": "code",
   "execution_count": null,
   "id": "2cecc937-b775-47ec-8e9c-b94cc4130bdb",
   "metadata": {},
   "outputs": [],
   "source": [
    "OAKPoplarGenePanelPredictedRisk=pd.read_csv('../Data/outputs/OAKPoplarGenePanelPredictedRisk.csv')\n",
    "OAKPoplarGenePanelPredictedRisk"
   ]
  },
  {
   "cell_type": "code",
   "execution_count": null,
   "id": "94ede2d3-febe-44c0-902e-4363230fb3d5",
   "metadata": {},
   "outputs": [],
   "source": [
    "import matplotlib.pyplot as plt\n",
    "plt_df=pd.DataFrame(list(zip(BIKGPredictedRisk.predictRisk,OAKPoplarGenePanelPredictedRisk.predictRisk,BIKGPredictedRisk.OS)),columns=['BIKGPrior','OAKPoplarPanel','OS'])\n",
    "\n",
    "plt_df.sort_values(by=['OS'],ascending=True,inplace=True)\n",
    "plt_df"
   ]
  },
  {
   "cell_type": "code",
   "execution_count": null,
   "id": "a18bbd3a-3c3e-43c2-a54e-dd28fd57cf14",
   "metadata": {},
   "outputs": [],
   "source": [
    "x=np.arange(plt_df.shape[0])\n",
    "y_BIKG=list(plt_df.BIKGPrior)\n",
    "y_OAKPoplar=list(plt_df.OAKPoplarPanel)\n",
    "y_OS=list(plt_df.OS)"
   ]
  },
  {
   "cell_type": "code",
   "execution_count": null,
   "id": "496c26ce-bf7a-4980-8598-df7fe17cad4b",
   "metadata": {},
   "outputs": [],
   "source": [
    "for n in [10, 20, 30,40]:\n",
    "    avgPredictedRisk_BIKG=np.mean(y_BIKG[:n])\n",
    "    avgPredictedRisk_OAKPOPLAR=np.mean(y_OAKPoplar[:n])\n",
    "    print((avgPredictedRisk_BIKG-avgPredictedRisk_OAKPOPLAR)/avgPredictedRisk_OAKPOPLAR)"
   ]
  },
  {
   "cell_type": "code",
   "execution_count": null,
   "id": "492fb6fe-4a44-49ce-a9ea-11e7710bd44b",
   "metadata": {},
   "outputs": [],
   "source": [
    "for n in [10, 20, 30,40]:\n",
    "    avgPredictedRisk_BIKG=np.mean(y_BIKG[-n:])\n",
    "    avgPredictedRisk_OAKPOPLAR=np.mean(y_OAKPoplar[-n:])\n",
    "    print((avgPredictedRisk_BIKG-avgPredictedRisk_OAKPOPLAR)/avgPredictedRisk_OAKPOPLAR)"
   ]
  },
  {
   "cell_type": "code",
   "execution_count": null,
   "id": "feaf3aee-aa66-4edf-a733-f87db1c2f729",
   "metadata": {},
   "outputs": [],
   "source": [
    "from sklearn.linear_model import LinearRegression\n",
    "\n",
    "# Create subplots\n",
    "#fig, (ax1, ax2) = plt.subplots(2, 1, sharex=True, figsize=(8, 6))\n",
    "\n",
    "fig, ax1 = plt.subplots(1, 1, sharex=True, figsize=(8, 6))\n",
    "\n",
    "# Plot \"Risk Prediction\" on the first subplot\n",
    "ax1.scatter(x, y_BIKG, c='r', s=1, label='BIKG')\n",
    "model_BIKG = LinearRegression()\n",
    "model_BIKG.fit(x.reshape(-1, 1), y_BIKG)\n",
    "slope_BIKG = model_BIKG.coef_[0]\n",
    "intercept_BIKG = model_BIKG.intercept_\n",
    "\n",
    "ax1.plot(x, slope_BIKG * x + intercept_BIKG, 'r--', linewidth=2)\n",
    "\n",
    "# Set y-axis limits for the first subplot to constrain the predicted risk between 400 and 650\n",
    "ax1.set_ylim(0, 500)\n",
    "\n",
    "ax1.scatter(x,y_OAKPoplar,c='b',s=1,label='OAK-POPLAR gene panel')\n",
    "model_OAKPOPLAR = LinearRegression()\n",
    "model_OAKPOPLAR.fit(x.reshape(-1, 1), y_OAKPoplar)\n",
    "slope_OAKPOPLAR = model_OAKPOPLAR.coef_[0]\n",
    "intercept_OAKPOPLAR = model_OAKPOPLAR.intercept_\n",
    "ax1.plot(x, slope_OAKPOPLAR * x + intercept_OAKPOPLAR,'b--',linewidth=2)\n",
    "\n",
    "\n",
    "# Plot \"OS\" on the second subplot\n",
    "#ax2.scatter(x, y_OS, c='g', s=1, label='OS')\n",
    "\n",
    "# Customize the appearance of each subplot\n",
    "ax1.set_ylabel('Predicted risk',fontsize=16)\n",
    "ax1.set_xlabel('Patient sorted in the ascending OS order',fontsize=16)\n",
    "#ax2.set_ylabel('OS')\n",
    "#ax2.set_xlabel('Patient')\n",
    "\n",
    "# Add legends to the subplots\n",
    "ax1.legend(fontsize=16)\n",
    "#ax2.legend()\n",
    "\n",
    "# Add legends to the top right corner of the subplots\n",
    "ax1.legend(loc='upper right',fontsize=16)\n",
    "#ax2.legend(loc='upper right')\n",
    "\n",
    "# Show the plot\n",
    "plt.show()"
   ]
  },
  {
   "cell_type": "code",
   "execution_count": null,
   "id": "c405b430-e361-4b6b-8ef3-cbe645860ce0",
   "metadata": {},
   "outputs": [],
   "source": [
    "slope_BIKG-slope_OAKPOPLAR"
   ]
  },
  {
   "cell_type": "code",
   "execution_count": null,
   "id": "df75429e-bb93-4018-9c54-6bc2d371e8ab",
   "metadata": {},
   "outputs": [],
   "source": [
    "slope_BIKG"
   ]
  },
  {
   "cell_type": "code",
   "execution_count": null,
   "id": "f4285acc-90f6-4c02-8812-a93b80129600",
   "metadata": {},
   "outputs": [],
   "source": [
    "slope_OAKPOPLAR"
   ]
  },
  {
   "cell_type": "markdown",
   "id": "984d4bf6-d9d7-4a26-9eea-5bfcb9ac02e1",
   "metadata": {},
   "source": [
    "# heat map of co-occurrence"
   ]
  },
  {
   "cell_type": "markdown",
   "id": "7e69eae4-a096-4a27-bc0c-6497a3fd15f9",
   "metadata": {},
   "source": [
    "### the following block is used to generate a heatmap of gene co-occurrence"
   ]
  },
  {
   "cell_type": "code",
   "execution_count": null,
   "id": "12043d0b-3884-43f4-a0bc-f668c1f1aecb",
   "metadata": {},
   "outputs": [],
   "source": [
    "importantGeneList=['TP53','EGFR','ATM','KRAS','EPHA7','STAT3','CTNNB1','PRKDC','NFE2L2','SOX9']\n"
   ]
  },
  {
   "cell_type": "code",
   "execution_count": null,
   "id": "906a9639-9f03-4c5c-b493-7b1c1a219900",
   "metadata": {},
   "outputs": [],
   "source": [
    "genomic_features_OAK[importantGeneList]"
   ]
  },
  {
   "cell_type": "code",
   "execution_count": null,
   "id": "da63902a-b65d-45f1-996f-2edcf777f097",
   "metadata": {},
   "outputs": [],
   "source": [
    "import pandas as pd\n",
    "import matplotlib.pyplot as plt\n",
    "\n",
    "\n",
    "def gene_mutations_plot(gene_mutations_df):\n",
    "    # Count the number of mutations for each patient\n",
    "    gene_mutations_df['mutation_count'] = gene_mutations_df.iloc[:, 0:].sum(axis=1)\n",
    "\n",
    "    # Create bins for different mutation counts\n",
    "    mutation_bins = [1, 2, 3, 4, gene_mutations_df['mutation_count'].max() + 1]\n",
    "\n",
    "    # Create labels for the bins\n",
    "    mutation_labels = ['at least two gene mutation', \n",
    "                       'at least three gene mutation', \n",
    "                       'at least four gene mutation', \n",
    "                       'more than four gene mutation']\n",
    "\n",
    "    # Group patients into the bins and count the occurrences\n",
    "    mutation_counts = pd.cut(gene_mutations_df['mutation_count'], bins=mutation_bins, labels=mutation_labels, right=False).value_counts()\n",
    "\n",
    "    # Plot the bar graph\n",
    "    mutation_counts.plot(kind='bar')\n",
    "    plt.xlabel('Mutation Count')\n",
    "    plt.ylabel('Number of Patients')\n",
    "    plt.title('Distribution of Patients by Gene Mutation Count')\n",
    "    plt.show()"
   ]
  },
  {
   "cell_type": "code",
   "execution_count": null,
   "id": "291d2dc0-fc00-4b7f-af4d-e24ae349741d",
   "metadata": {},
   "outputs": [],
   "source": [
    "gene_mutations_plot(genomic_features_OAK[importantGeneList])"
   ]
  },
  {
   "cell_type": "code",
   "execution_count": null,
   "id": "fedce4f0-97e4-482a-9428-6204053d39eb",
   "metadata": {},
   "outputs": [],
   "source": [
    "sns.set(font_scale=1.5)\n",
    "sns.clustermap(genomic_features_OAK[importantGeneList],cmap='crest')\n"
   ]
  },
  {
   "cell_type": "code",
   "execution_count": null,
   "id": "8524bed3-a0ec-4e3e-a284-46d9bd2ee1a6",
   "metadata": {},
   "outputs": [],
   "source": [
    "sns.set(font_scale=1.5)\n",
    "sns.clustermap(genomic_features_Poplar[importantGeneList],cmap='crest')"
   ]
  },
  {
   "cell_type": "code",
   "execution_count": null,
   "id": "64a9ef11-0e09-48cb-8d9b-2ea8fdb19fdc",
   "metadata": {},
   "outputs": [],
   "source": [
    "def getCooccurence(df,geneListOfInterest):\n",
    "    df_filter=df[geneListOfInterest]\n",
    "    df_asint = df_filter.astype(int)\n",
    "    cooccurMat = df_asint.T.dot(df_asint)\n",
    "    return cooccurMat\n",
    "\n",
    "def plotCoocurMat(cooccurMat):\n",
    "    fig, ax = plt.subplots(figsize=(15,10)) \n",
    "    sns.heatmap(cooccurMat,annot=True,cmap=\"crest\",ax=ax,fmt='d')\n",
    "    ax.set(xlabel=\"\", ylabel=\"\")\n",
    "    ax.xaxis.tick_top()"
   ]
  },
  {
   "cell_type": "code",
   "execution_count": null,
   "id": "9f7c3e87-32e9-4cac-aaec-bc6ecc9b6491",
   "metadata": {},
   "outputs": [],
   "source": [
    "cooccurMat_OAK = getCooccurence(genomic_features_OAK,importantGeneList)\n",
    "plotCoocurMat(cooccurMat_OAK)"
   ]
  },
  {
   "cell_type": "code",
   "execution_count": null,
   "id": "85a1615b-9975-4c0b-a00f-0e03e0798a3d",
   "metadata": {},
   "outputs": [],
   "source": [
    "cooccurMat_Poplar = getCooccurence(genomic_features_Poplar,importantGeneList)\n",
    "plotCoocurMat(cooccurMat_Poplar)"
   ]
  }
 ],
 "metadata": {
  "kernelspec": {
   "display_name": "Python 3 (ipykernel)",
   "language": "python",
   "name": "python3"
  },
  "language_info": {
   "codemirror_mode": {
    "name": "ipython",
    "version": 3
   },
   "file_extension": ".py",
   "mimetype": "text/x-python",
   "name": "python",
   "nbconvert_exporter": "python",
   "pygments_lexer": "ipython3",
   "version": "3.9.5"
  }
 },
 "nbformat": 4,
 "nbformat_minor": 5
}
