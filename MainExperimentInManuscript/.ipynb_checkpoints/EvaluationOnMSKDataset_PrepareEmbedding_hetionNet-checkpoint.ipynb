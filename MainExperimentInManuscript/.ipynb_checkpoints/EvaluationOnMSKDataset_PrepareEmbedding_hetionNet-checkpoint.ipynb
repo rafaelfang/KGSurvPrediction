{
 "cells": [
  {
   "cell_type": "markdown",
   "id": "764a805b-8da9-4b4a-b4bf-9ded44ac980b",
   "metadata": {},
   "source": [
    "# Summary: This Notebook is used for MSK data preprocessing and prepare dataset for preditive models. It has three major steps:\n",
    "## 1) Load knowledge graph (subgraph);\n",
    "## 2) Load patient features and overall survival;\n",
    "## 3) Patient graph embedding generation and save the dataset"
   ]
  },
  {
   "cell_type": "code",
   "execution_count": null,
   "id": "5b9de534-0a86-4a9d-acbe-0f1bc0a032db",
   "metadata": {},
   "outputs": [],
   "source": [
    "import sys\n",
    "import pandas as pd\n",
    "import numpy as np\n",
    "import seaborn as sns"
   ]
  },
  {
   "cell_type": "code",
   "execution_count": null,
   "id": "e143d923-c773-4533-9640-185ceb0b6927",
   "metadata": {},
   "outputs": [],
   "source": [
    "from karateclub import SocioDim\n",
    "from karateclub import EgoNetSplitter\n",
    "import networkx as nx\n",
    "\n"
   ]
  },
  {
   "cell_type": "code",
   "execution_count": null,
   "id": "1829cb34-a1db-43f0-a794-329ebfaaa241",
   "metadata": {},
   "outputs": [],
   "source": [
    "from sklearn.model_selection import train_test_split\n",
    "from sklearn.preprocessing import OrdinalEncoder\n",
    "from sksurv.util import Surv\n",
    "from sksurv.datasets import load_gbsg2\n",
    "from sksurv.preprocessing import OneHotEncoder\n",
    "from pysurvival.models.survival_forest import RandomSurvivalForestModel\n",
    "from lifelines.utils import concordance_index as lfcindex\n",
    "from sklearn.tree import DecisionTreeRegressor\n"
   ]
  },
  {
   "cell_type": "code",
   "execution_count": null,
   "id": "453e87b4-c367-47b9-af45-d73b4516f7a2",
   "metadata": {},
   "outputs": [],
   "source": [
    "import random\n",
    "randomSeed=10\n",
    "np.random.seed(randomSeed);\n"
   ]
  },
  {
   "cell_type": "markdown",
   "id": "a1bb25c1-be37-41bb-a19c-930a3aabfdb0",
   "metadata": {
    "tags": []
   },
   "source": [
    "# 1. Load hetionNet subgraph"
   ]
  },
  {
   "cell_type": "markdown",
   "id": "7c27460a-548d-4efa-b0bf-65a2b633da3b",
   "metadata": {},
   "source": [
    "## Here is to load the knowledge graph subgraph and prepare it in such format \"source_label (e.g. gene) - target_label (e.g. gene, pathway)\""
   ]
  },
  {
   "cell_type": "code",
   "execution_count": null,
   "id": "7308c620-0973-48d7-a037-6875f20027c9",
   "metadata": {},
   "outputs": [],
   "source": [
    "whichSubgraph='WholeHetionNet'\n",
    "subgraph_edges = pd.read_csv('../Data/inputs/HetionNetImmuneGeneGeneSubgraphs/wholeGraph.csv', sep=',')\n",
    "subgraph_edges=subgraph_edges[['source_label','target_label']]\n",
    "subgraph_edges\n"
   ]
  },
  {
   "cell_type": "markdown",
   "id": "e91fc5e6-1c3a-42c5-be6d-9f0580b291fb",
   "metadata": {
    "tags": []
   },
   "source": [
    "# 2. Load patient survival information"
   ]
  },
  {
   "cell_type": "markdown",
   "id": "419c098a-486a-49c6-8bdd-5318c46cf2a1",
   "metadata": {},
   "source": [
    "## This block is to load patient survival information, the patient survival information should in format of \"SAMPLE_ID | OS_MONTHS | OS_STATUS\", In OS_STATUS: 0-censored; 1-deceased"
   ]
  },
  {
   "cell_type": "code",
   "execution_count": null,
   "id": "8cb112ec-9a74-4ff1-9e9c-5191e2356012",
   "metadata": {},
   "outputs": [],
   "source": [
    "\n",
    "clinical_features = pd.read_csv('../Data/inputDatasetMSKMET2021/clinical_features_Lung_Adenocarcinoma.csv', sep=',')\n",
    "#clinical_subgroup = clinical_features[((clinical_features['SAMPLE_TYPE'].isin(['Metastasis']))&(clinical_features['Metastatic patient']==True))]\n",
    "clinical_subgroup = clinical_features[((clinical_features['SAMPLE_TYPE'].isin(['Primary']))&(clinical_features['Metastatic patient']==True))]\n",
    "#clinical_subgroup = clinical_features[((clinical_features['SAMPLE_TYPE'].isin(['Primary']))&(clinical_features['Metastatic patient']==False))]\n",
    "\n",
    "#clinical_subgroup = clinical_features[clinical_features['SAMPLE_TYPE'].isin(['Metastasis'])]\n",
    "survival_outcomes=clinical_subgroup[['SAMPLE_ID','OS_MONTHS','OS_STATUS']]\n",
    "survival_outcomes.set_index('SAMPLE_ID',inplace=True)\n",
    "survival_outcomes"
   ]
  },
  {
   "cell_type": "code",
   "execution_count": null,
   "id": "8d068921-0510-426b-aeb3-97da56992fba",
   "metadata": {},
   "outputs": [],
   "source": [
    "print (list(clinical_subgroup.columns))"
   ]
  },
  {
   "cell_type": "markdown",
   "id": "c7b980f2-4ace-4533-8283-940691a9f988",
   "metadata": {},
   "source": [
    "## the following block is to load patient genomic mutation features"
   ]
  },
  {
   "cell_type": "code",
   "execution_count": null,
   "id": "92c394db-6090-451f-b057-1df40040f7ad",
   "metadata": {},
   "outputs": [],
   "source": [
    "genomic_features = pd.read_csv('../Data/inputDatasetMSKMET2021/genomic_features_Lung_Adenocarcinoma.csv', sep=',')\n",
    "genomic_features=genomic_features[genomic_features['SAMPLE_ID'].isin(survival_outcomes.index)]\n",
    "genomic_features.set_index('SAMPLE_ID',inplace=True)\n",
    "genomic_features[genomic_features>0]=1\n",
    "genomic_features"
   ]
  },
  {
   "cell_type": "markdown",
   "id": "a53bee75-6453-44dc-be0f-d8ede3e2bb69",
   "metadata": {},
   "source": [
    "## Here is to split the dataset into training and hold out for testing. The random seed here is set for generating reperatable results"
   ]
  },
  {
   "cell_type": "code",
   "execution_count": null,
   "id": "2912ac80-d962-4fbe-8ad3-ad5cb9581d3a",
   "metadata": {},
   "outputs": [],
   "source": [
    "# randomly select 10 percent samples from overall as holdout\n",
    "### set up random state(a seed value) so that the results can be repeatable\n",
    "holdout=genomic_features.sample(frac=0.1,random_state=randomSeed)\n",
    "# the rest for model training/validation\n",
    "dataframe=genomic_features.drop(holdout.index)"
   ]
  },
  {
   "cell_type": "code",
   "execution_count": null,
   "id": "8171a91d-ac5e-410f-b542-524ff35399bf",
   "metadata": {},
   "outputs": [],
   "source": [
    "len(dataframe)"
   ]
  },
  {
   "cell_type": "code",
   "execution_count": null,
   "id": "d0795ce7-b4bb-4fd0-8efc-505c8aa171db",
   "metadata": {},
   "outputs": [],
   "source": [
    "len(holdout)\n"
   ]
  },
  {
   "cell_type": "markdown",
   "id": "ba5f8e3e-4070-4667-8fcb-4a98c2049bae",
   "metadata": {},
   "source": [
    "# 3. Learn patient embedding using bikg_edges and gene_patient_edges"
   ]
  },
  {
   "cell_type": "code",
   "execution_count": null,
   "id": "7a695a38-4723-4d5f-b1f3-01555f457e3e",
   "metadata": {},
   "outputs": [],
   "source": [
    "subgraph_edges"
   ]
  },
  {
   "cell_type": "markdown",
   "id": "697eaafe-856a-4e00-a8d4-a9b47bbdfcfc",
   "metadata": {},
   "source": [
    "## This function is used to convert patient genomic feature matrix into format of graph representation in format of \"source_label (e.g. patient id) - target_label (e.g. gene mutation)\""
   ]
  },
  {
   "cell_type": "code",
   "execution_count": null,
   "id": "d079462f-8800-48fd-9aa4-e99d2bef68b3",
   "metadata": {},
   "outputs": [],
   "source": [
    "def getGenePatientEdges(genomic_features):\n",
    "    (x_ind,y_ind)=np.where(genomic_features==1)\n",
    "    gene_patient_edges=pd.DataFrame(list(zip(genomic_features.index[x_ind],genomic_features.columns[y_ind])),columns=['source_label','target_label'])\n",
    "    return gene_patient_edges"
   ]
  },
  {
   "cell_type": "code",
   "execution_count": null,
   "id": "b4b66e4c-f537-4d3e-8016-9511b10fec0c",
   "metadata": {},
   "outputs": [],
   "source": [
    "gene_patient_edges_holdout=getGenePatientEdges(holdout)\n",
    "gene_patient_edges_dataframe=getGenePatientEdges(dataframe)"
   ]
  },
  {
   "cell_type": "markdown",
   "id": "3f1192d9-1709-4efc-9eb9-e86eac1f085f",
   "metadata": {},
   "source": [
    "## The following function is to fuse \"patient-gene\" graph with knowledge graph subgraph containing of \"gene-gene\" or \"gene-pathway\"; Then the graph embedding algorithm (e.g. SocioDim) is applied to learn embedding for each gene node"
   ]
  },
  {
   "cell_type": "code",
   "execution_count": null,
   "id": "95defc19-b883-4a8c-b9a3-991da36ba949",
   "metadata": {},
   "outputs": [],
   "source": [
    "\n",
    "def learnBIKGGraphEmbeddings(subgraph_edges,gene_patient_edges):\n",
    "    bikg_edges = pd.concat([subgraph_edges, gene_patient_edges])\n",
    "    nodes = set(bikg_edges[\"source_label\"].values.tolist()).union(\n",
    "                set(bikg_edges[\"target_label\"].values.tolist())\n",
    "            )\n",
    "    node_to_num = {index: node for node, index in enumerate(nodes)}\n",
    "    bikg_edges[\"source_num_id\"] = bikg_edges[\"source_label\"].map(\n",
    "                lambda x: node_to_num[x]\n",
    "            )\n",
    "    bikg_edges[\"target_num_id\"] = bikg_edges[\"target_label\"].map(\n",
    "        lambda x: node_to_num[x]\n",
    "    )\n",
    "    bikg_edges = bikg_edges[[\"source_num_id\", \"target_num_id\"]].values.tolist()\n",
    "    dim=16\n",
    "    upstream_model = SocioDim(dimensions=dim,seed=23)\n",
    "    upstream_model.fit(nx.from_edgelist(bikg_edges))\n",
    "    BIKG_graph_embedding = upstream_model.get_embedding()\n",
    "    return BIKG_graph_embedding, node_to_num\n",
    "\n",
    "\n"
   ]
  },
  {
   "cell_type": "code",
   "execution_count": null,
   "id": "665b134b-4690-4c30-83d5-e72cb0f38807",
   "metadata": {},
   "outputs": [],
   "source": [
    "[BIKG_graph_embedding,node_to_num]=learnBIKGGraphEmbeddings(subgraph_edges,gene_patient_edges_dataframe)\n"
   ]
  },
  {
   "cell_type": "markdown",
   "id": "7b655667-29bd-45c5-a568-4bfdaa030260",
   "metadata": {},
   "source": [
    "## patient representation is generated as aggregation of gene embedding based on patient genomic mutation profile."
   ]
  },
  {
   "cell_type": "code",
   "execution_count": null,
   "id": "edebc98a-9a41-422e-8446-337ddb8b3051",
   "metadata": {},
   "outputs": [],
   "source": [
    "def buildPatientEmbeddingUsingGeneEmbedding(gene_patient_edges,BIKG_graph_embedding,node_to_num):\n",
    "    gene_patient_edges_grouped=gene_patient_edges.groupby('source_label')['target_label'].apply(list).reset_index(name='target_labels')\n",
    "    dim=BIKG_graph_embedding.shape[1]\n",
    "    patients_embeddings_feature=[]\n",
    "    for index, row in gene_patient_edges_grouped.iterrows():\n",
    "        target_labels=row['target_labels']\n",
    "        patient_embeddings=[0]*dim\n",
    "        target_labels_length=len(target_labels)\n",
    "        for gene in target_labels:\n",
    "            if gene in node_to_num:\n",
    "                patient_embeddings=patient_embeddings+np.array(BIKG_graph_embedding[node_to_num[gene], :])\n",
    "            else:\n",
    "                patient_embeddings=patient_embeddings+np.array([0]*dim)\n",
    "        patients_embeddings_feature.append(patient_embeddings/target_labels_length)\n",
    "    emb_features = ['X{}'.format(i) for i in range(dim)]\n",
    "    patients_embeddings_feature = pd.DataFrame(patients_embeddings_feature, index=gene_patient_edges_grouped['source_label'], columns = emb_features)\n",
    "    return patients_embeddings_feature"
   ]
  },
  {
   "cell_type": "code",
   "execution_count": null,
   "id": "a9f556f0-c3a6-4e9a-b1d8-4de12c161bd0",
   "metadata": {},
   "outputs": [],
   "source": [
    "patient_embedding_holdout=buildPatientEmbeddingUsingGeneEmbedding(gene_patient_edges_holdout,BIKG_graph_embedding,node_to_num)\n",
    "patient_embedding_dataframe=buildPatientEmbeddingUsingGeneEmbedding(gene_patient_edges_dataframe,BIKG_graph_embedding,node_to_num)\n",
    "\n"
   ]
  },
  {
   "cell_type": "markdown",
   "id": "c483e410-fdb7-40eb-a041-8749fd819a24",
   "metadata": {},
   "source": [
    "## save patient embedding results\n"
   ]
  },
  {
   "cell_type": "code",
   "execution_count": null,
   "id": "54d32719-ecb1-4402-805b-4cf1365ef310",
   "metadata": {},
   "outputs": [],
   "source": [
    "output_dir='../Data/outputs/EvaluationUsingHetionNet/'\n",
    "\n",
    "patient_embedding_dataframe.to_csv(output_dir+whichSubgraph+'/'+str(randomSeed)+'/patient_embedding_dataframe.csv') \n",
    "patient_embedding_holdout.to_csv(output_dir+whichSubgraph+'/'+str(randomSeed)+'/patient_embedding_holdout.csv') "
   ]
  },
  {
   "cell_type": "code",
   "execution_count": null,
   "id": "c82bfdff-302c-4e1a-a8d6-8ee5c67df186",
   "metadata": {},
   "outputs": [],
   "source": [
    "def getSurvivalInformation(survival_outcomes,patient_embedding):\n",
    "    mergedDF=survival_outcomes.join(patient_embedding,how='right')\n",
    "    y = Surv.from_dataframe(\"OS_STATUS\",\"OS_MONTHS\",  mergedDF)\n",
    "    return y"
   ]
  },
  {
   "cell_type": "code",
   "execution_count": null,
   "id": "5049a006-7697-4cb3-8ed7-447aed7a4fe8",
   "metadata": {},
   "outputs": [],
   "source": [
    "y_dataframe=getSurvivalInformation(survival_outcomes,patient_embedding_dataframe)\n",
    "y_holdout=getSurvivalInformation(survival_outcomes,patient_embedding_holdout)"
   ]
  },
  {
   "cell_type": "code",
   "execution_count": null,
   "id": "f2aff667-7ddf-4d4a-b399-31ba920abb90",
   "metadata": {},
   "outputs": [],
   "source": [
    "np.save(output_dir+whichSubgraph+'/'+str(randomSeed)+'/y_dataframe.npy',y_dataframe) \n",
    "np.save(output_dir+whichSubgraph+'/'+str(randomSeed)+'/y_holdout.npy',y_holdout) "
   ]
  },
  {
   "cell_type": "code",
   "execution_count": null,
   "id": "59264b07-731b-4a84-90a2-21183ce86940",
   "metadata": {},
   "outputs": [],
   "source": [
    "TMB=clinical_subgroup.set_index('SAMPLE_ID')[['TMB_NONSYNONYMOUS']]\n",
    "filterTMB=TMB.join(patient_embedding_holdout,how='right')\n",
    "tmbValue=list(filterTMB['TMB_NONSYNONYMOUS'])\n",
    "np.save(output_dir+whichSubgraph+'/'+str(randomSeed)+'/tmbValue.npy',tmbValue) "
   ]
  },
  {
   "cell_type": "code",
   "execution_count": null,
   "id": "67eef485-ce45-4d40-b9dc-5c13b9e9fc99",
   "metadata": {},
   "outputs": [],
   "source": [
    "genomic_features.to_csv(output_dir+whichSubgraph+'/'+str(randomSeed)+'/genomic_features.csv') \n"
   ]
  },
  {
   "cell_type": "code",
   "execution_count": null,
   "id": "2111a96e-f572-45b6-b69e-5f1a6c7e8482",
   "metadata": {},
   "outputs": [],
   "source": []
  }
 ],
 "metadata": {
  "kernelspec": {
   "display_name": "Python 3 (ipykernel)",
   "language": "python",
   "name": "python3"
  },
  "language_info": {
   "codemirror_mode": {
    "name": "ipython",
    "version": 3
   },
   "file_extension": ".py",
   "mimetype": "text/x-python",
   "name": "python",
   "nbconvert_exporter": "python",
   "pygments_lexer": "ipython3",
   "version": "3.9.5"
  }
 },
 "nbformat": 4,
 "nbformat_minor": 5
}
