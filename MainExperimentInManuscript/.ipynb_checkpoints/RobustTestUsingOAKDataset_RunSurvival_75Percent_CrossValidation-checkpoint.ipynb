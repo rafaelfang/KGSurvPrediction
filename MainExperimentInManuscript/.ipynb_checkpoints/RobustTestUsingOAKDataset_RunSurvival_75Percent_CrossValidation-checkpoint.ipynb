{
 "cells": [
  {
   "cell_type": "markdown",
   "id": "b2ab3271-c2ac-4a5e-b8ca-ff4f6935826e",
   "metadata": {},
   "source": [
    "# Summary: This Notebook shows the cross-validation results using BIKG-based model on OAK data"
   ]
  },
  {
   "cell_type": "code",
   "execution_count": null,
   "id": "5b9de534-0a86-4a9d-acbe-0f1bc0a032db",
   "metadata": {},
   "outputs": [],
   "source": [
    "import sys\n",
    "import pandas as pd\n",
    "import numpy as np\n",
    "import seaborn as sns\n",
    "import matplotlib.pyplot as plt\n",
    "%matplotlib inline"
   ]
  },
  {
   "cell_type": "code",
   "execution_count": null,
   "id": "6873bd8c-3793-4ac7-afb1-5de70030042e",
   "metadata": {},
   "outputs": [],
   "source": [
    "from karateclub import SocioDim\n",
    "import networkx as nx\n"
   ]
  },
  {
   "cell_type": "code",
   "execution_count": null,
   "id": "8d357729-b3ef-455e-9988-f0ac46165a15",
   "metadata": {},
   "outputs": [],
   "source": [
    "from KMPlot import subplots\n",
    "from KMPlot import KMPlot"
   ]
  },
  {
   "cell_type": "code",
   "execution_count": null,
   "id": "1829cb34-a1db-43f0-a794-329ebfaaa241",
   "metadata": {},
   "outputs": [],
   "source": [
    "from sklearn.model_selection import train_test_split\n",
    "from sklearn.preprocessing import OrdinalEncoder\n",
    "from sksurv.util import Surv\n",
    "from sksurv.datasets import load_gbsg2\n",
    "from sksurv.preprocessing import OneHotEncoder\n",
    "from pysurvival.models.survival_forest import RandomSurvivalForestModel\n",
    "from lifelines.utils import concordance_index as lfcindex\n",
    "from sklearn.tree import DecisionTreeRegressor\n"
   ]
  },
  {
   "cell_type": "markdown",
   "id": "9ffa5824-b998-4286-be12-4eb46fc1d0db",
   "metadata": {},
   "source": [
    "## set random seed to make sure results are repeatable"
   ]
  },
  {
   "cell_type": "code",
   "execution_count": null,
   "id": "453e87b4-c367-47b9-af45-d73b4516f7a2",
   "metadata": {},
   "outputs": [],
   "source": [
    "import random\n",
    "randomSeed=10\n",
    "np.random.seed(randomSeed);\n"
   ]
  },
  {
   "cell_type": "markdown",
   "id": "ad1c5032-d5fe-4586-9d2e-86c5dc713991",
   "metadata": {},
   "source": [
    "## helper functions"
   ]
  },
  {
   "cell_type": "code",
   "execution_count": null,
   "id": "17ed1676-1210-4506-934c-c539d1fbccde",
   "metadata": {},
   "outputs": [],
   "source": [
    "def display_summary(df, name:str=None):\n",
    "    \"\"\"Displays the head and summary statistics of a DataFrame.\n",
    "    \"\"\"\n",
    "    if name:\n",
    "        print(f\"Summary of data for: {name}\")\n",
    "    print(f\"Number of rows: {df.shape[0]}\")\n",
    "    print(f\"Number of columns: {df.shape[1]}\")\n",
    "    print(f\"\\nSample of data:\")\n",
    "    display(df.sample(5))\n",
    "    \n",
    "def intersection(lst1, lst2):\n",
    "    lst3 = [value for value in lst1 if value in lst2]\n",
    "    return lst3"
   ]
  },
  {
   "cell_type": "markdown",
   "id": "0d1f973c-e72f-460d-98c1-0d4aa53eef53",
   "metadata": {},
   "source": [
    "### Loading preprocessed dataset including patient embedding, genomic features, survival information"
   ]
  },
  {
   "cell_type": "code",
   "execution_count": null,
   "id": "0e38c8c2-070b-4e07-960e-f73b340920f6",
   "metadata": {},
   "outputs": [],
   "source": [
    "workdir=\"../Data/inputs/inputDatasetOAK/\"\n",
    "all_features=pd.read_csv(workdir+'OAK-IO.csv')\n",
    "all_features['SAMPLE_ID']=['Patient'+str(i) for i in range(0,len(all_features))]\n",
    "all_features.set_index('SAMPLE_ID',inplace=True)\n",
    "\n",
    "#clinical_subgroup = clinical_features[clinical_features['SAMPLE_TYPE'].isin(['Metastasis'])]\n",
    "survival_outcomes=all_features[['OS','OS.CNSR']]\n",
    "\n",
    "survival_outcomes"
   ]
  },
  {
   "cell_type": "code",
   "execution_count": null,
   "id": "aeeecbb4-8032-4dde-a65b-f07c043c0204",
   "metadata": {},
   "outputs": [],
   "source": [
    "TMB=all_features[['btmb']]\n",
    "TMB"
   ]
  },
  {
   "cell_type": "code",
   "execution_count": null,
   "id": "fc6ec609-20f2-4a65-9b09-385dcc8af993",
   "metadata": {},
   "outputs": [],
   "source": [
    "genomicFeaturesColumn=[col for col in all_features.columns if 'molecular_' in col]\n",
    "genomic_features=all_features.loc[:,genomicFeaturesColumn]\n",
    "genomic_features.replace(np.nan,0,inplace=True)\n",
    "genomic_features[genomic_features > 0] = 1\n",
    "genomic_features.columns=[name[10:] for name in list(genomic_features.columns)]\n",
    "#genomic_features"
   ]
  },
  {
   "cell_type": "markdown",
   "id": "2aaa8c71-5898-40f2-ba23-27aaad3e7e31",
   "metadata": {},
   "source": [
    "### Patient cohort statistics. For this OAK dataset, there are 324 patients. The gene panel contains 396 genes"
   ]
  },
  {
   "cell_type": "code",
   "execution_count": null,
   "id": "f40eb36e-65a2-46ae-8748-9bfcec9247b4",
   "metadata": {},
   "outputs": [],
   "source": [
    "display_summary(genomic_features, \"patient genomic features\")\n"
   ]
  },
  {
   "cell_type": "code",
   "execution_count": null,
   "id": "1b2ccea0-b45c-485d-aabf-c24d1acd5352",
   "metadata": {},
   "outputs": [],
   "source": [
    "def getGenePatientEdges(genomic_features):\n",
    "    (x_ind,y_ind)=np.where(genomic_features==1)\n",
    "    gene_patient_edges=pd.DataFrame(list(zip(genomic_features.index[x_ind],genomic_features.columns[y_ind])),columns=['source_label','target_label'])\n",
    "    return gene_patient_edges"
   ]
  },
  {
   "cell_type": "code",
   "execution_count": null,
   "id": "9e48d782-5a39-4923-b8c6-5f3438ee5145",
   "metadata": {},
   "outputs": [],
   "source": [
    "def learnBIKGGraphEmbeddings(subgraph_edges,gene_patient_edges):\n",
    "    bikg_edges = pd.concat([subgraph_edges, gene_patient_edges])\n",
    "    nodes = set(bikg_edges[\"source_label\"].values.tolist()).union(\n",
    "                set(bikg_edges[\"target_label\"].values.tolist())\n",
    "            )\n",
    "    node_to_num = {index: node for node, index in enumerate(nodes)}\n",
    "    bikg_edges[\"source_num_id\"] = bikg_edges[\"source_label\"].map(\n",
    "                lambda x: node_to_num[x]\n",
    "            )\n",
    "    bikg_edges[\"target_num_id\"] = bikg_edges[\"target_label\"].map(\n",
    "        lambda x: node_to_num[x]\n",
    "    )\n",
    "    bikg_edges = bikg_edges[[\"source_num_id\", \"target_num_id\"]].values.tolist()\n",
    "    dim=16\n",
    "    upstream_model = SocioDim(dimensions=dim,seed=42)\n",
    "    upstream_model.fit(nx.from_edgelist(bikg_edges))\n",
    "    BIKG_graph_embedding = upstream_model.get_embedding()\n",
    "    return BIKG_graph_embedding, node_to_num\n",
    "\n"
   ]
  },
  {
   "cell_type": "code",
   "execution_count": null,
   "id": "41b544e6-f82f-407e-ab24-af0c991186c3",
   "metadata": {},
   "outputs": [],
   "source": [
    "def buildPatientEmbeddingUsingGeneEmbedding(gene_patient_edges,BIKG_graph_embedding,node_to_num):\n",
    "    gene_patient_edges_grouped=gene_patient_edges.groupby('source_label')['target_label'].apply(list).reset_index(name='target_labels')\n",
    "    dim=BIKG_graph_embedding.shape[1]\n",
    "    patients_embeddings_feature=[]\n",
    "    for index, row in gene_patient_edges_grouped.iterrows():\n",
    "        target_labels=row['target_labels']\n",
    "        patient_embeddings=[0]*dim\n",
    "        target_labels_length=len(target_labels)\n",
    "        for gene in target_labels:\n",
    "            if gene in node_to_num:\n",
    "                patient_embeddings=patient_embeddings+np.array(BIKG_graph_embedding[node_to_num[gene], :])\n",
    "            else:\n",
    "                patient_embeddings=patient_embeddings+np.array([0]*dim)\n",
    "        patients_embeddings_feature.append(patient_embeddings/target_labels_length)\n",
    "    emb_features = ['X{}'.format(i) for i in range(dim)]\n",
    "    patients_embeddings_feature = pd.DataFrame(patients_embeddings_feature, index=gene_patient_edges_grouped['source_label'], columns = emb_features)\n",
    "    return patients_embeddings_feature\n"
   ]
  },
  {
   "cell_type": "code",
   "execution_count": null,
   "id": "66fbd429-b615-4982-814a-8a78dd1d02f1",
   "metadata": {},
   "outputs": [],
   "source": [
    "def getSurvivalInformation(survival_outcomes,patient_embedding):\n",
    "    mergedDF=survival_outcomes.join(patient_embedding,how='right')\n",
    "    y = Surv.from_dataframe(\"OS.CNSR\",\"OS\",  mergedDF)\n",
    "    return y\n"
   ]
  },
  {
   "cell_type": "markdown",
   "id": "c3544b9a-388f-46ed-ab5a-35ae35ba9ec8",
   "metadata": {},
   "source": [
    "# 1. Load BIKG subgraph"
   ]
  },
  {
   "cell_type": "code",
   "execution_count": null,
   "id": "ae531f9c-f35e-437f-8c42-8569f8d7c878",
   "metadata": {},
   "outputs": [],
   "source": [
    "subgraph_edges = pd.read_csv('../Data/inputs/BIKGImmuneGeneGeneSubgraphs/subgraph4_1.csv', sep=',')\n",
    "#subgraph_edges = pd.read_csv('/projects/aa/ktnt055/BIKG_project/BIKGImmuneGeneGeneSubgraphs/wholeGraph.csv', sep=',')\n",
    "subgraph_edges=subgraph_edges[['source_label','target_label']]\n",
    "subgraph_edges"
   ]
  },
  {
   "cell_type": "code",
   "execution_count": null,
   "id": "ed2ee8bc-e5ad-4e7f-bd3f-93f3b4fdb03b",
   "metadata": {},
   "outputs": [],
   "source": [
    "#save_patient_embedding_flag=True\n",
    "save_patient_embedding_flag=False\n",
    "save_dir='../Data/outputs/RobustTestUsingOAK_CrossValidation/'\n"
   ]
  },
  {
   "cell_type": "code",
   "execution_count": null,
   "id": "65724854-8718-4e57-8fc5-36992344eb32",
   "metadata": {},
   "outputs": [],
   "source": [
    "patientsID=intersection(intersection(list(genomic_features.index),list(survival_outcomes.index)),list(TMB.index))\n"
   ]
  },
  {
   "cell_type": "markdown",
   "id": "8665cd6b-f52a-47db-8ba1-c51e2e005391",
   "metadata": {},
   "source": [
    "# BIKG-based OS predictive performance"
   ]
  },
  {
   "cell_type": "code",
   "execution_count": null,
   "id": "c2caec3e-05aa-482d-8a2d-af57f1c16621",
   "metadata": {},
   "outputs": [],
   "source": [
    "\n",
    "from sklearn.model_selection import KFold\n",
    "\n",
    "# Number of folds\n",
    "num_folds = 5\n",
    "\n",
    "# Initialize KFold\n",
    "kf = KFold(n_splits=num_folds, shuffle=True, random_state=42)\n",
    "\n",
    "# Split the data into 8 folds\n",
    "fold_splits = list(kf.split(patientsID))\n",
    "c_index_test=[]\n",
    "df_all_BIKG=pd.DataFrame()\n",
    "\n",
    "importantFeature={}\n",
    "\n",
    "# Access each fold\n",
    "for fold_index, (train_indices, test_indices) in enumerate(fold_splits):\n",
    "    print(\"fold_index:\"+str(fold_index))\n",
    "    training_index = [patientsID[i] for i in train_indices]\n",
    "    print (\"Training set size:\" +str(len(training_index)))\n",
    "\n",
    "    holdout_index = [patientsID[i] for i in test_indices]\n",
    "    print (\"Holdout set size:\" +str(len(holdout_index)))\n",
    "\n",
    "    #build patient genomic feature graph\n",
    "    patientGraph_holdout=getGenePatientEdges(genomic_features.loc[holdout_index,:])\n",
    "    patientGraph_training=getGenePatientEdges(genomic_features.loc[training_index,:])\n",
    "\n",
    "    if save_patient_embedding_flag==True:\n",
    "        # save patient embedding\n",
    "        [BIKG_graph_embedding,node_to_num]=learnBIKGGraphEmbeddings(subgraph_edges,patientGraph_training)\n",
    "\n",
    "        patient_embedding_holdout=buildPatientEmbeddingUsingGeneEmbedding(patientGraph_holdout,BIKG_graph_embedding,node_to_num)\n",
    "        patient_embedding_dataframe=buildPatientEmbeddingUsingGeneEmbedding(patientGraph_training,BIKG_graph_embedding,node_to_num)\n",
    "\n",
    "        patient_embedding_holdout.to_parquet(save_dir+str(fold_index)+'/patient_embedding_holdout.parquet')\n",
    "        patient_embedding_dataframe.to_parquet(save_dir+str(fold_index)+'/patient_embedding_dataframe.parquet')\n",
    "    else:\n",
    "        # load patient embedding\n",
    "        patient_embedding_dataframe=pd.read_parquet(save_dir+str(fold_index)+'/patient_embedding_dataframe.parquet')\n",
    "        patient_embedding_holdout=pd.read_parquet(save_dir+str(fold_index)+'/patient_embedding_holdout.parquet')\n",
    "\n",
    "    # get patient survival information\n",
    "    y_dataframe=getSurvivalInformation(survival_outcomes,patient_embedding_dataframe)\n",
    "    y_holdout=getSurvivalInformation(survival_outcomes,patient_embedding_holdout)\n",
    "\n",
    "    # random survival forest model training and evaluation using one fold\n",
    "    downstream_model = RandomSurvivalForestModel(num_trees=100)\n",
    "    y_train_censorship=[x[0] for x in y_dataframe]\n",
    "    y_train_time=[x[1] for x in y_dataframe]\n",
    "    downstream_model.fit(X=patient_embedding_dataframe, T=y_train_time, E=y_train_censorship,seed=23) \n",
    "\n",
    "    # get the cutoff using training data\n",
    "    y_pred_dataframe=downstream_model.predict_risk(patient_embedding_dataframe)\n",
    "    cutoff_75_percentile=np.quantile(y_pred_dataframe, 0.75)\n",
    "    cutoff_75_percentile\n",
    "\n",
    "    y_test_censorship=[x[0] for x in y_holdout]\n",
    "    y_test_time=[x[1] for x in y_holdout]\n",
    "    y_pred=downstream_model.predict_risk(patient_embedding_holdout)\n",
    "    c_index = lfcindex(y_test_time, y_pred, y_test_censorship)\n",
    "    if c_index<0.5:\n",
    "        c_index_test.append(1-c_index)\n",
    "    else:\n",
    "        c_index_test.append(c_index)\n",
    "\n",
    "    df=pd.DataFrame([y_pred,y_test_time,y_test_censorship]).T\n",
    "    df.columns=['predictRisk','OS','OS.CNSR']\n",
    "    df['group'] = 'Unknown'\n",
    "    df.loc[df.predictRisk >= cutoff_75_percentile,'group']= \"High\"\n",
    "    df.loc[df.predictRisk < cutoff_75_percentile,'group']= \"Low\"\n",
    "    df.set_index(patient_embedding_holdout.index,inplace=True)\n",
    "    df_all_BIKG=pd.concat([df_all_BIKG,df],axis=0)\n",
    "    #print(len(patient_embedding_holdout))\n",
    "       \n",
    "    #identify most important embedding feature associated with survial prediction\n",
    "    mostImportantFeatures=downstream_model.variable_importance_table.head(10)\n",
    "    # fit a decision tree regression model to assocaite the most important embedding feature with molecular features\n",
    "    regressor = DecisionTreeRegressor(random_state=23)\n",
    "    genomic_features_train=genomic_features.loc[patient_embedding_dataframe.index,]\n",
    "    regressor.fit(genomic_features_train, patient_embedding_dataframe[mostImportantFeatures.loc[0,'feature']])\n",
    "    # sort the genomic features in decreasing order of their importance\n",
    "    importance = regressor.feature_importances_\n",
    "    indices = np.argsort(importance)[::-1]\n",
    "    # select the top 10 genomic features\n",
    "    rankTable=pd.DataFrame(list(zip(genomic_features_train.columns[indices],importance[indices])),columns=['FeatureName','Importance'])\n",
    "    selected=rankTable.iloc[0:10,:]\n",
    "    # store the feature name into a dictionary with frequency\n",
    "    genomicFeatureList=list(selected['FeatureName'])\n",
    "    for gene in genomicFeatureList:\n",
    "        if gene not in importantFeature:\n",
    "            importantFeature[gene]=1\n",
    "        else:\n",
    "            importantFeature[gene]=importantFeature[gene]+1\n",
    "\n",
    "print (\"Average c-index of 5 fold CV:\")\n",
    "print (np.mean(c_index_test))\n",
    "print (np.std(c_index_test))"
   ]
  },
  {
   "cell_type": "code",
   "execution_count": null,
   "id": "e39ea57d-981a-422e-8db9-129b644c06aa",
   "metadata": {},
   "outputs": [],
   "source": [
    "axs = subplots(cols=1, rows=1, w=6, h=4)\n",
    "KMPlot(df_all_BIKG, time='OS', event='OS.CNSR', label=[ 'group'], score='predictRisk').plot(\n",
    "    ['High', 'Low'], ax=axs[0],\n",
    "    comparisons=[['Low', 'High', 'Low vs High']],\n",
    "    saturation=0.9,\n",
    "    linewidth=1.5,\n",
    "    palette='Set1',\n",
    "    template_color = 'black',xy_font_size=18,\n",
    "    hr_color='black',\n",
    "    x_legend = 0.5, y_legend=0.95,legend_font_size=12,\n",
    "    label_height_adj=0.06,\n",
    "    x_hr_legand=0.0,y_hr_legend=.1,hr_font_size=12,\n",
    ");\n",
    "\n",
    "\n",
    "\n",
    "sns.despine(offset=2)"
   ]
  },
  {
   "cell_type": "markdown",
   "id": "3f611b2c-b09e-4d5e-bb5f-0612a3f197db",
   "metadata": {},
   "source": [
    "# TMB"
   ]
  },
  {
   "cell_type": "code",
   "execution_count": null,
   "id": "97eb6272-e2c2-4faf-87d9-0edd451dd140",
   "metadata": {},
   "outputs": [],
   "source": [
    "TMB_cutoff=16\n",
    "\n",
    "df=pd.DataFrame([TMB.btmb,survival_outcomes['OS'],survival_outcomes['OS.CNSR']]).T\n",
    "df.columns=['predictRisk','OS','censorLabel']\n",
    "df['group'] = 'Unknown'\n",
    "df.loc[df.predictRisk >= TMB_cutoff,'group']= \"High\"\n",
    "df.loc[df.predictRisk < TMB_cutoff,'group']= \"Low\"\n",
    "\n",
    "\n",
    "\n",
    "axs = subplots(cols=1, rows=1, w=6, h=4)\n",
    "KMPlot(df, time='OS', event='censorLabel', label=[ 'group'], score='predictRisk').plot(\n",
    "    ['High', 'Low'], ax=axs[0],\n",
    "    comparisons=[['Low', 'High', 'Low vs High']],\n",
    "    saturation=0.9,\n",
    "    linewidth=1.5,\n",
    "    palette='Set1',\n",
    "    template_color = 'black',xy_font_size=18,\n",
    "    hr_color='black',\n",
    "    x_legend = 0.5, y_legend=0.95,legend_font_size=12,\n",
    "    label_height_adj=0.06,\n",
    "    x_hr_legand=0.0,y_hr_legend=.1,hr_font_size=12,\n",
    ");\n",
    "\n",
    "\n",
    "\n",
    "sns.despine(offset=2)"
   ]
  },
  {
   "cell_type": "markdown",
   "id": "c24c91bb-90f6-4244-8285-b3a4e233b87b",
   "metadata": {},
   "source": [
    "# genomic features"
   ]
  },
  {
   "cell_type": "code",
   "execution_count": null,
   "id": "ee6513e1-0635-4c4b-9d0f-9cebc5f4262e",
   "metadata": {},
   "outputs": [],
   "source": [
    "# list of patient IDs\n",
    "patientsID=intersection(intersection(list(genomic_features.index),list(survival_outcomes.index)),list(TMB.index))\n",
    "\n",
    "from sklearn.model_selection import KFold\n",
    "\n",
    "# Number of folds\n",
    "num_folds = 5\n",
    "\n",
    "# Initialize KFold\n",
    "kf = KFold(n_splits=num_folds, shuffle=True, random_state=42)\n",
    "\n",
    "# Split the data into 5 folds\n",
    "fold_splits = list(kf.split(patientsID))\n",
    "c_index_test_Genomic=[]\n",
    "df_all_genomicfeatures=pd.DataFrame()\n",
    "\n",
    "\n",
    "# Access each fold\n",
    "for fold_index, (train_indices, test_indices) in enumerate(fold_splits):\n",
    "    print(\"fold_index:\"+str(fold_index))\n",
    "    training_index = [patientsID[i] for i in train_indices]\n",
    "    print (\"Training set size:\" +str(len(training_index)))\n",
    "\n",
    "    holdout_index = [patientsID[i] for i in test_indices]\n",
    "    print (\"Holdout set size:\" +str(len(holdout_index)))\n",
    "    \n",
    "    # get patient features\n",
    "    genomic_features_training=genomic_features.loc[training_index,:]\n",
    "    genomic_features_holdout=genomic_features.loc[holdout_index,:]\n",
    "    \n",
    "    # get patient survival information\n",
    "    y_train=getSurvivalInformation(survival_outcomes,genomic_features_training)\n",
    "    y_test=getSurvivalInformation(survival_outcomes,genomic_features_holdout)\n",
    "    \n",
    "    # random survival forest model training and evaluation using one fold\n",
    "    downstream_model = RandomSurvivalForestModel(num_trees=100)\n",
    "    y_train_censorship=[x[0] for x in y_train]\n",
    "    y_train_time=[x[1] for x in y_train]\n",
    "    downstream_model.fit(X=genomic_features_training, T=y_train_time, E=y_train_censorship,seed=23)\n",
    "    \n",
    "    # get the cutoff using training data\n",
    "    y_pred_dataframe=downstream_model.predict_risk(genomic_features_training)\n",
    "    cutoff_75_percentile=np.quantile(y_pred_dataframe, 0.75)\n",
    "    cutoff_75_percentile\n",
    "\n",
    "    y_test_censorship=[x[0] for x in y_test]\n",
    "    y_test_time=[x[1] for x in y_test]\n",
    "    y_pred=downstream_model.predict_risk(genomic_features_holdout)\n",
    "    c_index = lfcindex(y_test_time, y_pred, y_test_censorship)\n",
    "    if c_index<0.5:\n",
    "        c_index_test_Genomic.append(1-c_index)\n",
    "    else:\n",
    "        c_index_test_Genomic.append(c_index)\n",
    "        \n",
    "    df=pd.DataFrame([y_pred,y_test_time,y_test_censorship]).T\n",
    "    df.columns=['predictRisk','OS','OS.CNSR']\n",
    "    df['group'] = 'Unknown'\n",
    "    df.loc[df.predictRisk >= cutoff_75_percentile,'group']= \"High\"\n",
    "    df.loc[df.predictRisk < cutoff_75_percentile,'group']= \"Low\"\n",
    "    df.set_index(genomic_features_holdout.index,inplace=True)\n",
    "    df_all_genomicfeatures=pd.concat([df_all_genomicfeatures,df],axis=0)\n",
    "    \n",
    "print (\"Average c-index of 5 fold CV:\")\n",
    "print (np.mean(c_index_test_Genomic))\n",
    "print (np.std(c_index_test_Genomic))"
   ]
  },
  {
   "cell_type": "code",
   "execution_count": null,
   "id": "8949707b-5ccc-4cfe-9b61-6bce1a603f47",
   "metadata": {},
   "outputs": [],
   "source": [
    "\n",
    "\n",
    "\n",
    "axs = subplots(cols=1, rows=1, w=6, h=4)\n",
    "KMPlot(df_all_genomicfeatures, time='OS', event='OS.CNSR', label=[ 'group'], score='predictRisk').plot(\n",
    "    ['High', 'Low'], ax=axs[0],\n",
    "    comparisons=[['Low', 'High', 'Low vs High']],\n",
    "    saturation=0.9,\n",
    "    linewidth=1.5,\n",
    "    palette='Set1',\n",
    "    template_color = 'black',xy_font_size=18,\n",
    "    hr_color='black',\n",
    "    x_legend = 0.5, y_legend=0.95,legend_font_size=12,\n",
    "    label_height_adj=0.06,\n",
    "    x_hr_legand=0.0,y_hr_legend=.1,hr_font_size=12,\n",
    ");\n",
    "\n",
    "\n",
    "\n",
    "sns.despine(offset=2)"
   ]
  },
  {
   "cell_type": "code",
   "execution_count": null,
   "id": "b3d368fb-c5a4-435d-a8cd-1f81e0dafd50",
   "metadata": {},
   "outputs": [],
   "source": []
  }
 ],
 "metadata": {
  "kernelspec": {
   "display_name": "Python 3 (ipykernel)",
   "language": "python",
   "name": "python3"
  },
  "language_info": {
   "codemirror_mode": {
    "name": "ipython",
    "version": 3
   },
   "file_extension": ".py",
   "mimetype": "text/x-python",
   "name": "python",
   "nbconvert_exporter": "python",
   "pygments_lexer": "ipython3",
   "version": "3.9.5"
  }
 },
 "nbformat": 4,
 "nbformat_minor": 5
}
