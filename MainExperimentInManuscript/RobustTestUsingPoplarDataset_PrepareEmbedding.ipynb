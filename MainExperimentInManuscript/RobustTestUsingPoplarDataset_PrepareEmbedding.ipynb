{
 "cells": [
  {
   "cell_type": "markdown",
   "id": "133901c3-ad9d-41c5-a744-f535000e36df",
   "metadata": {},
   "source": [
    "# Summary: This Notebook is used for OAK-POPLAR data preprocessing and prepare dataset for preditive models. It has four major steps:\n",
    "## 1) Load knowledge graph (subgraph);\n",
    "## 2) Load patient features and overall survival;\n",
    "## 3) Find common gene panel between OAK and POPLAR;\n",
    "## 4) Patient graph embedding generation and save the dataset"
   ]
  },
  {
   "cell_type": "code",
   "execution_count": null,
   "id": "5b9de534-0a86-4a9d-acbe-0f1bc0a032db",
   "metadata": {},
   "outputs": [],
   "source": [
    "import sys\n",
    "import pandas as pd\n",
    "import numpy as np\n",
    "import seaborn as sns"
   ]
  },
  {
   "cell_type": "code",
   "execution_count": null,
   "id": "e143d923-c773-4533-9640-185ceb0b6927",
   "metadata": {},
   "outputs": [],
   "source": [
    "from karateclub import SocioDim\n",
    "from karateclub import EgoNetSplitter\n",
    "import networkx as nx\n"
   ]
  },
  {
   "cell_type": "code",
   "execution_count": null,
   "id": "1829cb34-a1db-43f0-a794-329ebfaaa241",
   "metadata": {},
   "outputs": [],
   "source": [
    "from sklearn.model_selection import train_test_split\n",
    "from sklearn.preprocessing import OrdinalEncoder\n",
    "from sksurv.util import Surv\n",
    "from sksurv.datasets import load_gbsg2\n",
    "from sksurv.preprocessing import OneHotEncoder\n",
    "from pysurvival.models.survival_forest import RandomSurvivalForestModel\n",
    "from lifelines.utils import concordance_index as lfcindex\n",
    "from sklearn.tree import DecisionTreeRegressor\n"
   ]
  },
  {
   "cell_type": "code",
   "execution_count": null,
   "id": "453e87b4-c367-47b9-af45-d73b4516f7a2",
   "metadata": {},
   "outputs": [],
   "source": [
    "import random\n",
    "randomSeed=10\n",
    "np.random.seed(randomSeed);\n"
   ]
  },
  {
   "cell_type": "code",
   "execution_count": null,
   "id": "a27a396e-dc92-47e4-a860-493e0082fe59",
   "metadata": {},
   "outputs": [],
   "source": [
    "def display_summary(df, name:str=None):\n",
    "    \"\"\"Displays the head and summary statistics of a DataFrame.\n",
    "    \"\"\"\n",
    "    if name:\n",
    "        print(f\"Summary of data for: {name}\")\n",
    "    print(f\"Number of rows: {df.shape[0]}\")\n",
    "    print(f\"Number of columns: {df.shape[1]}\")\n",
    "    print(f\"\\nSample of data:\")\n",
    "    display(df.sample(5))"
   ]
  },
  {
   "cell_type": "markdown",
   "id": "a1bb25c1-be37-41bb-a19c-930a3aabfdb0",
   "metadata": {
    "tags": []
   },
   "source": [
    "# 1. Load bikg subgraph"
   ]
  },
  {
   "cell_type": "markdown",
   "id": "dfc0db8d-c96a-44d5-b33d-709ad68ff89d",
   "metadata": {},
   "source": [
    "### Here is to load the knowledge graph subgraph and prepare it in such format \"source_label (e.g. gene) - target_label (e.g. gene, pathway)\""
   ]
  },
  {
   "cell_type": "code",
   "execution_count": null,
   "id": "7308c620-0973-48d7-a037-6875f20027c9",
   "metadata": {},
   "outputs": [],
   "source": [
    "subgraph_edges = pd.read_csv('../Data/inputs/BIKGImmuneGeneGeneSubgraphs/subgraph4_1.csv', sep=',')\n",
    "subgraph_edges=subgraph_edges[['source_label','target_label']]\n",
    "\n",
    "subgraph_edges"
   ]
  },
  {
   "cell_type": "markdown",
   "id": "e91fc5e6-1c3a-42c5-be6d-9f0580b291fb",
   "metadata": {
    "tags": []
   },
   "source": [
    "# 2. Load patient survival information"
   ]
  },
  {
   "cell_type": "markdown",
   "id": "7f55c47d-cec6-46f1-9123-dd78e7d47e16",
   "metadata": {},
   "source": [
    "### This block is to load patient survival information, the patient survival information should in format of \"SAMPLE_ID | OS | OS.CNSR \", In OS.CNSR: 0-censored; 1-deceased"
   ]
  },
  {
   "cell_type": "code",
   "execution_count": null,
   "id": "8cb112ec-9a74-4ff1-9e9c-5191e2356012",
   "metadata": {},
   "outputs": [],
   "source": [
    "\n",
    "OAKDatasetForTraining = pd.read_csv('../Data/inputs/inputDatasetOAK/OAK-IO.csv', sep=',')\n",
    "OAKDatasetForTraining['SAMPLE_ID']=['Patient'+str(i) for i in range(0,len(OAKDatasetForTraining))]\n",
    "OAKDatasetForTraining.set_index('SAMPLE_ID',inplace=True)\n",
    "\n",
    "survival_outcomes_OAK=OAKDatasetForTraining[['OS', 'OS.CNSR']]\n",
    "\n",
    "survival_outcomes_OAK"
   ]
  },
  {
   "cell_type": "markdown",
   "id": "fcb4f39e-a410-4138-8ab7-3d26ebba484f",
   "metadata": {},
   "source": [
    "### The following block is to load patient genomic mutation features"
   ]
  },
  {
   "cell_type": "code",
   "execution_count": null,
   "id": "92c394db-6090-451f-b057-1df40040f7ad",
   "metadata": {},
   "outputs": [],
   "source": [
    "genomicFeaturesColumn=[col for col in OAKDatasetForTraining.columns if 'molecular_' in col]\n",
    "genomic_features_OAK=OAKDatasetForTraining.loc[:,genomicFeaturesColumn]\n",
    "genomic_features_OAK.replace(np.nan,0,inplace=True)\n",
    "genomic_features_OAK[genomic_features_OAK > 0] = 1\n",
    "genomic_features_OAK.columns=[name[10:] for name in list(genomic_features_OAK.columns)]\n",
    "#genomic_features_OAK"
   ]
  },
  {
   "cell_type": "markdown",
   "id": "c40f2de4-627d-4e4e-9606-21cd3f571ce3",
   "metadata": {},
   "source": [
    "### Patient cohort statistics. For this OAK dataset, there are 324 patients. The gene panel contains 396 genes"
   ]
  },
  {
   "cell_type": "code",
   "execution_count": null,
   "id": "f0f26225-aaad-4ed2-8ff1-61f4f0dc48c1",
   "metadata": {},
   "outputs": [],
   "source": [
    "display_summary(genomic_features_OAK, \"patient genomic features (OAK)\")\n"
   ]
  },
  {
   "cell_type": "code",
   "execution_count": null,
   "id": "5f99e302-2d73-4aa5-aa39-58f66eee8448",
   "metadata": {},
   "outputs": [],
   "source": [
    "PoplarDatasetForHoldout = pd.read_csv('../Data/inputs/inputDatasetPoplar/poplar_mutated-genes.csv', sep=',')\n",
    "PoplarDatasetForHoldout.set_index('PtID',inplace=True)\n",
    "PoplarDatasetForHoldout[['OS.CNSR']]=1-PoplarDatasetForHoldout[['OS.CNSR']]\n",
    "IOtreated = PoplarDatasetForHoldout[PoplarDatasetForHoldout['TRT01P'].isin(['MPDL3280A'])]\n",
    "\n",
    "survival_outcomes_Poplar=IOtreated[['OS','OS.CNSR']]\n",
    "survival_outcomes_Poplar"
   ]
  },
  {
   "cell_type": "code",
   "execution_count": null,
   "id": "271b2867-3798-4eac-bc5c-aafb19d778e1",
   "metadata": {},
   "outputs": [],
   "source": [
    "genomic_features_Poplar=IOtreated.iloc[:,24:]\n",
    "genomic_features_Poplar[genomic_features_Poplar>0]=1\n",
    "#genomic_features_Poplar"
   ]
  },
  {
   "cell_type": "markdown",
   "id": "e0bf8a73-0601-4316-9a3a-991c3ce7a316",
   "metadata": {},
   "source": [
    "### Patient cohort statistics. For this POPLAR dataset, there are 102 patients. The gene panel contains 363 genes"
   ]
  },
  {
   "cell_type": "code",
   "execution_count": null,
   "id": "73dff477-afaa-47a8-b498-101ddd136f04",
   "metadata": {},
   "outputs": [],
   "source": [
    "display_summary(genomic_features_Poplar, \"patient genomic features (POPLAR)\")\n"
   ]
  },
  {
   "cell_type": "markdown",
   "id": "79de5c59-1c52-4421-ae3e-b15547714df2",
   "metadata": {},
   "source": [
    "# 3. find common gene list among two dataset"
   ]
  },
  {
   "cell_type": "code",
   "execution_count": null,
   "id": "8199d156-4159-45cc-8626-79449a676f88",
   "metadata": {},
   "outputs": [],
   "source": [
    "OAK_panel=list(genomic_features_OAK.columns)\n",
    "Poplar_panel=list(genomic_features_Poplar.columns)"
   ]
  },
  {
   "cell_type": "code",
   "execution_count": null,
   "id": "aee68d88-a8e4-424e-bf5f-5e41eae7c921",
   "metadata": {},
   "outputs": [],
   "source": [
    "len(OAK_panel)"
   ]
  },
  {
   "cell_type": "code",
   "execution_count": null,
   "id": "ea3ccb2a-f552-4f91-9dc3-cc8508ed35de",
   "metadata": {},
   "outputs": [],
   "source": [
    "len(Poplar_panel)"
   ]
  },
  {
   "cell_type": "code",
   "execution_count": null,
   "id": "f527dcf1-531c-4d16-adea-b4146510564b",
   "metadata": {},
   "outputs": [],
   "source": [
    "def intersection(lst1, lst2):\n",
    "    lst3 = [value for value in lst1 if value in lst2]\n",
    "    return lst3"
   ]
  },
  {
   "cell_type": "code",
   "execution_count": null,
   "id": "72cbcf31-b104-44e1-b9b3-12866db37ba9",
   "metadata": {},
   "outputs": [],
   "source": [
    "commonPanel=intersection(OAK_panel, Poplar_panel)\n",
    "len(commonPanel)"
   ]
  },
  {
   "cell_type": "markdown",
   "id": "ba5f8e3e-4070-4667-8fcb-4a98c2049bae",
   "metadata": {},
   "source": [
    "# 4. Learn patient embedding using bikg_edges and gene_patient_edges"
   ]
  },
  {
   "cell_type": "code",
   "execution_count": null,
   "id": "7a695a38-4723-4d5f-b1f3-01555f457e3e",
   "metadata": {},
   "outputs": [],
   "source": [
    "subgraph_edges"
   ]
  },
  {
   "cell_type": "markdown",
   "id": "d9c482e5-febb-4891-a4bf-be290bf0946c",
   "metadata": {},
   "source": [
    "### This function is used to convert patient genomic feature matrix into format of graph representation in format of \"source_label (e.g. patient id) - target_label (e.g. gene mutation)\"\n"
   ]
  },
  {
   "cell_type": "code",
   "execution_count": null,
   "id": "d079462f-8800-48fd-9aa4-e99d2bef68b3",
   "metadata": {},
   "outputs": [],
   "source": [
    "def getGenePatientEdges(genomic_features):\n",
    "    (x_ind,y_ind)=np.where(genomic_features==1)\n",
    "    gene_patient_edges=pd.DataFrame(list(zip(genomic_features.index[x_ind],genomic_features.columns[y_ind])),columns=['source_label','target_label'])\n",
    "    return gene_patient_edges"
   ]
  },
  {
   "cell_type": "code",
   "execution_count": null,
   "id": "b4b66e4c-f537-4d3e-8016-9511b10fec0c",
   "metadata": {},
   "outputs": [],
   "source": [
    "gene_patient_edges_holdout=getGenePatientEdges(genomic_features_Poplar.loc[:,commonPanel])\n",
    "gene_patient_edges_dataframe=getGenePatientEdges(genomic_features_OAK.loc[:,commonPanel])"
   ]
  },
  {
   "cell_type": "markdown",
   "id": "53096dcb-f64d-40a4-ba74-a788952c2ccb",
   "metadata": {},
   "source": [
    "### The following function is to fuse \"patient-gene\" graph with knowledge graph subgraph containing of \"gene-gene\" or \"gene-pathway\"; Then the graph embedding algorithm (e.g. SocioDim) is applied to learn embedding for each gene node"
   ]
  },
  {
   "cell_type": "code",
   "execution_count": null,
   "id": "95defc19-b883-4a8c-b9a3-991da36ba949",
   "metadata": {},
   "outputs": [],
   "source": [
    "\n",
    "def learnBIKGGraphEmbeddings(subgraph_edges,gene_patient_edges):\n",
    "    bikg_edges = pd.concat([subgraph_edges, gene_patient_edges])\n",
    "    nodes = set(bikg_edges[\"source_label\"].values.tolist()).union(\n",
    "                set(bikg_edges[\"target_label\"].values.tolist())\n",
    "            )\n",
    "    node_to_num = {index: node for node, index in enumerate(nodes)}\n",
    "    bikg_edges[\"source_num_id\"] = bikg_edges[\"source_label\"].map(\n",
    "                lambda x: node_to_num[x]\n",
    "            )\n",
    "    bikg_edges[\"target_num_id\"] = bikg_edges[\"target_label\"].map(\n",
    "        lambda x: node_to_num[x]\n",
    "    )\n",
    "    bikg_edges = bikg_edges[[\"source_num_id\", \"target_num_id\"]].values.tolist()\n",
    "    dim=16\n",
    "    upstream_model = SocioDim(dimensions=dim,seed=23)\n",
    "    upstream_model.fit(nx.from_edgelist(bikg_edges))\n",
    "    BIKG_graph_embedding = upstream_model.get_embedding()\n",
    "    return BIKG_graph_embedding, node_to_num\n",
    "\n",
    "\n"
   ]
  },
  {
   "cell_type": "code",
   "execution_count": null,
   "id": "665b134b-4690-4c30-83d5-e72cb0f38807",
   "metadata": {},
   "outputs": [],
   "source": [
    "[BIKG_graph_embedding,node_to_num]=learnBIKGGraphEmbeddings(subgraph_edges,gene_patient_edges_dataframe)\n"
   ]
  },
  {
   "cell_type": "markdown",
   "id": "1d91bd13-070f-4097-a209-10abce253cff",
   "metadata": {},
   "source": [
    "### patient representation is generated as aggregation of gene embedding based on patient genomic mutation profile."
   ]
  },
  {
   "cell_type": "code",
   "execution_count": null,
   "id": "edebc98a-9a41-422e-8446-337ddb8b3051",
   "metadata": {},
   "outputs": [],
   "source": [
    "def buildPatientEmbeddingUsingGeneEmbedding(gene_patient_edges,BIKG_graph_embedding,node_to_num):\n",
    "    gene_patient_edges_grouped=gene_patient_edges.groupby('source_label')['target_label'].apply(list).reset_index(name='target_labels')\n",
    "    dim=BIKG_graph_embedding.shape[1]\n",
    "    patients_embeddings_feature=[]\n",
    "    for index, row in gene_patient_edges_grouped.iterrows():\n",
    "        target_labels=row['target_labels']\n",
    "        patient_embeddings=[0]*dim\n",
    "        target_labels_length=len(target_labels)\n",
    "        for gene in target_labels:\n",
    "            if gene in node_to_num:\n",
    "                patient_embeddings=patient_embeddings+np.array(BIKG_graph_embedding[node_to_num[gene], :])\n",
    "            else:\n",
    "                patient_embeddings=patient_embeddings+np.array([0]*dim)\n",
    "        patients_embeddings_feature.append(patient_embeddings/target_labels_length)\n",
    "    emb_features = ['X{}'.format(i) for i in range(dim)]\n",
    "    patients_embeddings_feature = pd.DataFrame(patients_embeddings_feature, index=gene_patient_edges_grouped['source_label'], columns = emb_features)\n",
    "    return patients_embeddings_feature"
   ]
  },
  {
   "cell_type": "code",
   "execution_count": null,
   "id": "a9f556f0-c3a6-4e9a-b1d8-4de12c161bd0",
   "metadata": {},
   "outputs": [],
   "source": [
    "patient_embedding_holdout=buildPatientEmbeddingUsingGeneEmbedding(gene_patient_edges_holdout,BIKG_graph_embedding,node_to_num)\n",
    "patient_embedding_dataframe=buildPatientEmbeddingUsingGeneEmbedding(gene_patient_edges_dataframe,BIKG_graph_embedding,node_to_num)\n",
    "\n"
   ]
  },
  {
   "cell_type": "markdown",
   "id": "72a4fcce-ecbd-4dc7-956b-3eaa3a58db79",
   "metadata": {},
   "source": [
    "### save patient embedding results\n"
   ]
  },
  {
   "cell_type": "code",
   "execution_count": null,
   "id": "54d32719-ecb1-4402-805b-4cf1365ef310",
   "metadata": {},
   "outputs": [],
   "source": [
    "output_dir='../Data/outputs/RobustTestUsingPoplar/'\n",
    "patient_embedding_dataframe.to_csv(output_dir+str(randomSeed)+'/patient_embedding_dataframe.csv') \n",
    "patient_embedding_holdout.to_csv(output_dir+str(randomSeed)+'/patient_embedding_holdout.csv') "
   ]
  },
  {
   "cell_type": "code",
   "execution_count": null,
   "id": "c82bfdff-302c-4e1a-a8d6-8ee5c67df186",
   "metadata": {},
   "outputs": [],
   "source": [
    "def getSurvivalInformation(survival_outcomes,patient_embedding):\n",
    "    mergedDF=survival_outcomes.join(patient_embedding,how='right')\n",
    "    y = Surv.from_dataframe(\"OS.CNSR\",\"OS\",  mergedDF)\n",
    "    return y"
   ]
  },
  {
   "cell_type": "code",
   "execution_count": null,
   "id": "5049a006-7697-4cb3-8ed7-447aed7a4fe8",
   "metadata": {},
   "outputs": [],
   "source": [
    "y_dataframe=getSurvivalInformation(survival_outcomes_OAK,patient_embedding_dataframe)\n",
    "y_holdout=getSurvivalInformation(survival_outcomes_Poplar,patient_embedding_holdout)"
   ]
  },
  {
   "cell_type": "code",
   "execution_count": null,
   "id": "f2aff667-7ddf-4d4a-b399-31ba920abb90",
   "metadata": {},
   "outputs": [],
   "source": [
    "np.save(output_dir+str(randomSeed)+'/y_dataframe.npy',y_dataframe) \n",
    "np.save(output_dir+str(randomSeed)+'/y_holdout.npy',y_holdout) "
   ]
  },
  {
   "cell_type": "code",
   "execution_count": null,
   "id": "59264b07-731b-4a84-90a2-21183ce86940",
   "metadata": {},
   "outputs": [],
   "source": [
    "\n",
    "TMB=IOtreated[['btmb']]\n",
    "filterTMB=TMB.join(patient_embedding_holdout,how='right')\n",
    "tmbValue=list(filterTMB['btmb'])\n",
    "np.save(output_dir+str(randomSeed)+'/tmbValue.npy',tmbValue) "
   ]
  },
  {
   "cell_type": "code",
   "execution_count": null,
   "id": "67eef485-ce45-4d40-b9dc-5c13b9e9fc99",
   "metadata": {},
   "outputs": [],
   "source": [
    "genomic_features_OAK.to_csv(output_dir+str(randomSeed)+'/genomic_features_OAK.csv') \n",
    "genomic_features_Poplar.to_csv(output_dir+str(randomSeed)+'/genomic_features_Poplar.csv') \n"
   ]
  },
  {
   "cell_type": "code",
   "execution_count": null,
   "id": "f0bd2975-1d33-499b-bafb-f51bd82ac5bb",
   "metadata": {},
   "outputs": [],
   "source": []
  }
 ],
 "metadata": {
  "kernelspec": {
   "display_name": "Python 3 (ipykernel)",
   "language": "python",
   "name": "python3"
  },
  "language_info": {
   "codemirror_mode": {
    "name": "ipython",
    "version": 3
   },
   "file_extension": ".py",
   "mimetype": "text/x-python",
   "name": "python",
   "nbconvert_exporter": "python",
   "pygments_lexer": "ipython3",
   "version": "3.9.5"
  }
 },
 "nbformat": 4,
 "nbformat_minor": 5
}
