{
 "cells": [
  {
   "cell_type": "markdown",
   "id": "4a2f6962-1147-4764-bcd2-4c07bc9986a2",
   "metadata": {},
   "source": [
    "# Summary: This Notebook shows the experimental results using OAK data, including BIKG-based, panel based, TMB based OS predictive performance, etc."
   ]
  },
  {
   "cell_type": "code",
   "execution_count": null,
   "id": "5b9de534-0a86-4a9d-acbe-0f1bc0a032db",
   "metadata": {},
   "outputs": [],
   "source": [
    "import sys\n",
    "import pandas as pd\n",
    "import numpy as np\n",
    "import seaborn as sns\n",
    "import matplotlib.pyplot as plt\n",
    "%matplotlib inline"
   ]
  },
  {
   "cell_type": "code",
   "execution_count": null,
   "id": "8d357729-b3ef-455e-9988-f0ac46165a15",
   "metadata": {},
   "outputs": [],
   "source": [
    "from KMPlot import subplots\n",
    "from KMPlot import KMPlot"
   ]
  },
  {
   "cell_type": "code",
   "execution_count": null,
   "id": "1829cb34-a1db-43f0-a794-329ebfaaa241",
   "metadata": {},
   "outputs": [],
   "source": [
    "from sklearn.model_selection import train_test_split\n",
    "from sklearn.preprocessing import OrdinalEncoder\n",
    "from sksurv.util import Surv\n",
    "from sksurv.datasets import load_gbsg2\n",
    "from sksurv.preprocessing import OneHotEncoder\n",
    "from pysurvival.models.survival_forest import RandomSurvivalForestModel\n",
    "from lifelines.utils import concordance_index as lfcindex\n",
    "from sklearn.tree import DecisionTreeRegressor\n"
   ]
  },
  {
   "cell_type": "code",
   "execution_count": null,
   "id": "453e87b4-c367-47b9-af45-d73b4516f7a2",
   "metadata": {},
   "outputs": [],
   "source": [
    "#set random seed\n",
    "#randomSeed=1\n",
    "#randomSeed=2\n",
    "#randomSeed=3\n",
    "randomSeed=453\n",
    "#randomSeed=5\n",
    "#randomSeed=6\n",
    "#randomSeed=7\n",
    "#randomSeed=8\n",
    "#randomSeed=9999\n",
    "#randomSeed=10"
   ]
  },
  {
   "cell_type": "code",
   "execution_count": null,
   "id": "2419e76e-5b09-4e80-b686-7625f1651bf4",
   "metadata": {},
   "outputs": [],
   "source": [
    "def display_summary(df, name:str=None):\n",
    "    \"\"\"Displays the head and summary statistics of a DataFrame.\n",
    "    \"\"\"\n",
    "    if name:\n",
    "        print(f\"Summary of data for: {name}\")\n",
    "    print(f\"Number of rows: {df.shape[0]}\")\n",
    "    print(f\"Number of columns: {df.shape[1]}\")\n",
    "    print(f\"\\nSample of data:\")\n",
    "    display(df.sample(5))"
   ]
  },
  {
   "cell_type": "code",
   "execution_count": null,
   "id": "ed2ee8bc-e5ad-4e7f-bd3f-93f3b4fdb03b",
   "metadata": {},
   "outputs": [],
   "source": [
    "whichSetID=1\n",
    "work_dir='../Data/outputs/RobustTestUsingOAK/'\n",
    "y_dataframe=np.load(work_dir+str(whichSetID)+'/y_dataframe.npy') \n",
    "y_holdout=np.load(work_dir+str(whichSetID)+'/y_holdout.npy') \n",
    "tmbValue=np.load(work_dir+str(whichSetID)+'/tmbValue.npy') "
   ]
  },
  {
   "cell_type": "code",
   "execution_count": null,
   "id": "c2caec3e-05aa-482d-8a2d-af57f1c16621",
   "metadata": {},
   "outputs": [],
   "source": [
    "patient_embedding_dataframe=pd.read_csv(work_dir+str(whichSetID)+'/patient_embedding_dataframe.csv',sep=',',index_col='source_label') \n",
    "patient_embedding_holdout=pd.read_csv(work_dir+str(whichSetID)+'/patient_embedding_holdout.csv',sep=',',index_col='source_label') \n",
    "genomic_features=pd.read_csv(work_dir+str(whichSetID)+'/genomic_features.csv',sep=',',index_col='SAMPLE_ID')"
   ]
  },
  {
   "cell_type": "markdown",
   "id": "f9f6b4a8-a40b-46bd-a020-f5e8a171b0af",
   "metadata": {},
   "source": [
    "### Patient cohort statistics. For this OAK dataset, there are 324 patients. The gene panel contains 396 genes"
   ]
  },
  {
   "cell_type": "code",
   "execution_count": null,
   "id": "e39ea57d-981a-422e-8db9-129b644c06aa",
   "metadata": {},
   "outputs": [],
   "source": [
    "#(patient_embedding_dataframe.join(genomic_features,how='left')).iloc[:,16:]\n",
    "display_summary(genomic_features, \"patient genomic features\")\n"
   ]
  },
  {
   "cell_type": "markdown",
   "id": "095f7d4d-a308-4aa2-82ef-225c1cc796b4",
   "metadata": {},
   "source": [
    "# Perform experiment and get the mean performance"
   ]
  },
  {
   "cell_type": "markdown",
   "id": "e3cf85e1-a06b-4051-ae2b-1c4998764954",
   "metadata": {},
   "source": [
    "### The following block is to perform 10 runs of cross validation and get average performance\n"
   ]
  },
  {
   "cell_type": "code",
   "execution_count": null,
   "id": "6260df81-47c2-4808-a09f-89625bc156fc",
   "metadata": {},
   "outputs": [],
   "source": [
    "\n",
    "#np.random.rand(1585,5)\n",
    "#(patient_embedding_dataframe.join(genomic_features,how='left')).iloc[:,16:]\n",
    "c_index_list=[]\n",
    "for experimentID in range(0,10):\n",
    "    X_train, X_test, y_train, y_test = train_test_split(\n",
    "       patient_embedding_dataframe , y_dataframe, test_size=0.1,stratify=[x[0] for x in y_dataframe], random_state=experimentID)\n",
    "    downstream_model = RandomSurvivalForestModel(num_trees=100)\n",
    "    y_train_censorship=[x[0] for x in y_train]\n",
    "    y_train_time=[x[1] for x in y_train]\n",
    "    downstream_model.fit(X=X_train, T=y_train_time, E=y_train_censorship,seed=randomSeed) \n",
    "    y_test_censorship=[x[0] for x in y_test]\n",
    "    y_test_time=[x[1] for x in y_test]\n",
    "    y_pred=downstream_model.predict_risk(X_test)\n",
    "    c_index = lfcindex(y_test_time, y_pred, y_test_censorship)\n",
    "\n",
    "    #c_score = concordance_index(downstream_model, X_test, y_test_time, y_test_censorship, include_ties=False, additional_results=False)\n",
    "    if c_index<0.5:\n",
    "        print (1-c_index)\n",
    "        c_index_list.append(1-c_index)\n",
    "    else:\n",
    "        print (c_index)\n",
    "        c_index_list.append(c_index)\n",
    "\n",
    "\n",
    "print (\"Average performance:\")\n",
    "print (np.mean(c_index_list))\n",
    "print (np.std(c_index_list))"
   ]
  },
  {
   "cell_type": "code",
   "execution_count": null,
   "id": "5e06ee82-3462-4c95-92da-a01915aeb198",
   "metadata": {},
   "outputs": [],
   "source": [
    "def find_best(array):\n",
    "    array = np.asarray(array)\n",
    "    idx = array.argmax()\n",
    "    return idx"
   ]
  },
  {
   "cell_type": "markdown",
   "id": "a798dda7-58d6-45a9-93dd-21de87dbb33a",
   "metadata": {},
   "source": [
    "### here is to identify the model with best validation performance\n"
   ]
  },
  {
   "cell_type": "code",
   "execution_count": null,
   "id": "aec493c8-4060-4c39-a43f-012ee20a203b",
   "metadata": {},
   "outputs": [],
   "source": [
    "bestInd=find_best(c_index_list)\n",
    "bestInd"
   ]
  },
  {
   "cell_type": "markdown",
   "id": "5665fb72-ce50-44e7-822c-35ca8f6c697c",
   "metadata": {
    "tags": []
   },
   "source": [
    "# BIKG prior knowledge"
   ]
  },
  {
   "cell_type": "markdown",
   "id": "3c9eaab5-0601-401e-b6cd-bed1aee12df1",
   "metadata": {},
   "source": [
    "### apply the model with best validation performance and evaluate its performance (concordence index)"
   ]
  },
  {
   "cell_type": "code",
   "execution_count": null,
   "id": "6607547a-b469-4968-a8d9-0a632b6a158c",
   "metadata": {},
   "outputs": [],
   "source": [
    "\n",
    "random_state=bestInd\n",
    "X_train, X_test, y_train, y_test = train_test_split(\n",
    "    patient_embedding_dataframe, y_dataframe, test_size=0.1,stratify=[x[0] for x in y_dataframe], random_state=random_state)\n",
    "downstream_model = RandomSurvivalForestModel(num_trees=100)\n",
    "y_train_censorship=[x[0] for x in y_train]\n",
    "y_train_time=[x[1] for x in y_train]\n",
    "downstream_model.fit(X=X_train, T=y_train_time, E=y_train_censorship,seed=randomSeed) \n",
    "y_test_censorship=[x[0] for x in y_test]\n",
    "y_test_time=[x[1] for x in y_test]\n",
    "y_pred=downstream_model.predict_risk(X_test)\n",
    "c_index = lfcindex(y_test_time, y_pred, y_test_censorship)\n",
    "if c_index<0.5:\n",
    "    print (1-c_index)\n",
    "else:\n",
    "    print (c_index)"
   ]
  },
  {
   "cell_type": "markdown",
   "id": "ec15b5b3-cbb4-43ba-bbca-5ee7a537fccf",
   "metadata": {},
   "source": [
    "### the performance on holdout dataset"
   ]
  },
  {
   "cell_type": "code",
   "execution_count": null,
   "id": "485b663a-4516-4a03-b31a-dcbef96d434f",
   "metadata": {},
   "outputs": [],
   "source": [
    "y_pred_holdout=downstream_model.predict_risk(patient_embedding_holdout)\n",
    "y_holdout_censorship=[x[0] for x in y_holdout]\n",
    "y_holdout_time=[x[1] for x in y_holdout]\n",
    "c_index = lfcindex(y_holdout_time, y_pred_holdout, y_holdout_censorship)\n",
    "if c_index<0.5:\n",
    "    print (1-c_index)\n",
    "else:\n",
    "    print (c_index)"
   ]
  },
  {
   "cell_type": "markdown",
   "id": "d3c16070-9c89-48da-9f97-f55e07c05fb8",
   "metadata": {},
   "source": [
    "### the following block is to get the 75th percentile cutoff based on training dataset\n"
   ]
  },
  {
   "cell_type": "code",
   "execution_count": null,
   "id": "53ce8a5b-34f1-4b1b-9441-2fe5d7327039",
   "metadata": {},
   "outputs": [],
   "source": [
    "# get the cutoff using training data\n",
    "y_pred_dataframe=downstream_model.predict_risk(patient_embedding_dataframe)\n",
    "cutoff_75_percentile=np.quantile(y_pred_dataframe, 0.75)\n",
    "cutoff_75_percentile"
   ]
  },
  {
   "cell_type": "markdown",
   "id": "b739c942-8a07-4203-87d5-5b0e30850e48",
   "metadata": {},
   "source": [
    "### the following block draw Kaplan-Meier plots and the patients are stratified into high- versus low-risk group based on 75th percentile cutoff"
   ]
  },
  {
   "cell_type": "code",
   "execution_count": null,
   "id": "f71723b5-7d38-48f5-aec2-f47ff5ff8afb",
   "metadata": {},
   "outputs": [],
   "source": [
    "\n",
    "df=pd.DataFrame([y_pred_holdout,y_holdout_time,y_holdout_censorship]).T\n",
    "df.columns=['predictRisk','OS','censorLabel']\n",
    "df['group'] = 'Unknown'\n",
    "df.loc[df.predictRisk >= cutoff_75_percentile,'group']= \"High\"\n",
    "df.loc[df.predictRisk < cutoff_75_percentile,'group']= \"Low\"\n",
    "\n",
    "\n",
    "\n",
    "axs = subplots(cols=1, rows=1, w=6, h=4)\n",
    "KMPlot(df, time='OS', event='censorLabel', label=[ 'group'], score='predictRisk').plot(\n",
    "    ['High', 'Low'], ax=axs[0],\n",
    "    comparisons=[['Low', 'High', 'Low vs High']],\n",
    "    saturation=0.9,\n",
    "    linewidth=1.5,\n",
    "    palette='Set1',\n",
    "    template_color = 'black',xy_font_size=18,\n",
    "    hr_color='black',\n",
    "    x_legend = 0.5, y_legend=0.95,legend_font_size=12,\n",
    "    label_height_adj=0.06,\n",
    "    x_hr_legand=0.0,y_hr_legend=.1,hr_font_size=12,\n",
    ");\n",
    "\n",
    "\n",
    "\n",
    "sns.despine(offset=2)"
   ]
  },
  {
   "cell_type": "markdown",
   "id": "3f611b2c-b09e-4d5e-bb5f-0612a3f197db",
   "metadata": {},
   "source": [
    "# TMB"
   ]
  },
  {
   "cell_type": "markdown",
   "id": "96100c56-39b2-4020-86b8-91881552ac71",
   "metadata": {},
   "source": [
    "### This block of code is to evaluate the patient stratification using traditional TMB as biomarker. If TMB>75th percentifle cutoff, then High; else low."
   ]
  },
  {
   "cell_type": "code",
   "execution_count": null,
   "id": "ff716c8d-d094-481f-bd8b-ac87c5a84236",
   "metadata": {},
   "outputs": [],
   "source": [
    "OAKDatasetForTraining = pd.read_csv('../Data/input/inputDatasetOAK/OAK-IO.csv', sep=',')\n",
    "OAKDatasetForTraining['SAMPLE_ID']=['Patient'+str(i) for i in range(0,len(OAKDatasetForTraining))]\n",
    "OAKDatasetForTraining.set_index('SAMPLE_ID',inplace=True)\n",
    "# get the cutoff using training data\n",
    "TMB_value_training=OAKDatasetForTraining.join(patient_embedding_dataframe,how='right')['btmb']\n",
    "TMB_cutoff_75=np.quantile(np.array(TMB_value_training), 0.75)\n",
    "TMB_cutoff_75"
   ]
  },
  {
   "cell_type": "code",
   "execution_count": null,
   "id": "97eb6272-e2c2-4faf-87d9-0edd451dd140",
   "metadata": {},
   "outputs": [],
   "source": [
    "\n",
    "df=pd.DataFrame([tmbValue,y_holdout_time,y_holdout_censorship]).T\n",
    "df.columns=['predictRisk','OS','censorLabel']\n",
    "df['group'] = 'Unknown'\n",
    "df.loc[df.predictRisk >= TMB_cutoff_75,'group']= \"High\"\n",
    "df.loc[df.predictRisk < TMB_cutoff_75,'group']= \"Low\"\n",
    "\n",
    "\n",
    "\n",
    "axs = subplots(cols=1, rows=1, w=6, h=4)\n",
    "KMPlot(df, time='OS', event='censorLabel', label=[ 'group'], score='predictRisk').plot(\n",
    "    ['High', 'Low'], ax=axs[0],\n",
    "    comparisons=[['Low', 'High', 'Low vs High']],\n",
    "    saturation=0.9,\n",
    "    linewidth=1.5,\n",
    "    palette='Set1',\n",
    "    template_color = 'black',xy_font_size=18,\n",
    "    hr_color='black',\n",
    "    x_legend = 0.5, y_legend=0.95,legend_font_size=12,\n",
    "    label_height_adj=0.06,\n",
    "    x_hr_legand=0.0,y_hr_legend=.1,hr_font_size=12,\n",
    ");\n",
    "\n",
    "\n",
    "\n",
    "sns.despine(offset=2)"
   ]
  },
  {
   "cell_type": "code",
   "execution_count": null,
   "id": "02fec889-f5c2-40ff-9c74-bcb4bcc44cb8",
   "metadata": {},
   "outputs": [],
   "source": [
    "df=pd.DataFrame([tmbValue,y_holdout_time,y_holdout_censorship]).T\n",
    "df.columns=['predictRisk','OS','censorLabel']\n",
    "df['group'] = 'Unknown'\n",
    "df.loc[df.predictRisk >= 16,'group']= \"High\"\n",
    "df.loc[df.predictRisk < 16,'group']= \"Low\"\n",
    "\n",
    "\n",
    "\n",
    "axs = subplots(cols=1, rows=1, w=6, h=4)\n",
    "KMPlot(df, time='OS', event='censorLabel', label=[ 'group'], score='predictRisk').plot(\n",
    "    ['High', 'Low'], ax=axs[0],\n",
    "    comparisons=[['Low', 'High', 'Low vs High']],\n",
    "    saturation=0.9,\n",
    "    linewidth=1.5,\n",
    "    palette='Set1',\n",
    "    template_color = 'black',xy_font_size=18,\n",
    "    hr_color='black',\n",
    "    x_legend = 0.5, y_legend=0.95,legend_font_size=12,\n",
    "    label_height_adj=0.06,\n",
    "    x_hr_legand=0.0,y_hr_legend=.1,hr_font_size=12,\n",
    ");\n",
    "\n",
    "\n",
    "\n",
    "sns.despine(offset=2)"
   ]
  },
  {
   "cell_type": "markdown",
   "id": "c24c91bb-90f6-4244-8285-b3a4e233b87b",
   "metadata": {},
   "source": [
    "# genomic features"
   ]
  },
  {
   "cell_type": "markdown",
   "id": "e668c52e-459d-4b69-926d-e28674f40430",
   "metadata": {},
   "source": [
    "### This block is to evaluate the performance of genomic feature (i.e. OAK gene panel)\n"
   ]
  },
  {
   "cell_type": "code",
   "execution_count": null,
   "id": "ee6513e1-0635-4c4b-9d0f-9cebc5f4262e",
   "metadata": {},
   "outputs": [],
   "source": [
    "\n",
    "random_state=bestInd\n",
    "X_train, X_test, y_train, y_test = train_test_split(\n",
    "    genomic_features.loc[patient_embedding_dataframe.index,], y_dataframe, test_size=0.1,stratify=[x[0] for x in y_dataframe], random_state=random_state)\n",
    "downstream_model = RandomSurvivalForestModel(num_trees=100)\n",
    "y_train_censorship=[x[0] for x in y_train]\n",
    "y_train_time=[x[1] for x in y_train]\n",
    "downstream_model.fit(X=X_train, T=y_train_time, E=y_train_censorship,seed=randomSeed) \n",
    "y_test_censorship=[x[0] for x in y_test]\n",
    "y_test_time=[x[1] for x in y_test]\n",
    "y_pred=downstream_model.predict_risk(X_test)\n",
    "c_index = lfcindex(y_test_time, y_pred, y_test_censorship)\n",
    "if c_index<0.5:\n",
    "    print (1-c_index)\n",
    "else:\n",
    "    print (c_index)"
   ]
  },
  {
   "cell_type": "code",
   "execution_count": null,
   "id": "e0d172f2-6c46-471f-9a2b-268c92bab870",
   "metadata": {},
   "outputs": [],
   "source": [
    "y_pred_holdout=downstream_model.predict_risk(genomic_features.loc[patient_embedding_holdout.index,])\n",
    "y_holdout_censorship=[x[0] for x in y_holdout]\n",
    "y_holdout_time=[x[1] for x in y_holdout]\n",
    "c_index = lfcindex(y_holdout_time, y_pred_holdout, y_holdout_censorship)\n",
    "if c_index<0.5:\n",
    "    print (1-c_index)\n",
    "else:\n",
    "    print (c_index)"
   ]
  },
  {
   "cell_type": "code",
   "execution_count": null,
   "id": "8390d742-edfa-47ee-b7ea-35c5712a8540",
   "metadata": {},
   "outputs": [],
   "source": [
    "# get the cutoff using training data\n",
    "y_pred_dataframe=downstream_model.predict_risk(genomic_features.loc[patient_embedding_dataframe.index,])\n",
    "cutoff_75_percentile=np.quantile(y_pred_dataframe, 0.75)\n",
    "cutoff_75_percentile"
   ]
  },
  {
   "cell_type": "code",
   "execution_count": null,
   "id": "8949707b-5ccc-4cfe-9b61-6bce1a603f47",
   "metadata": {},
   "outputs": [],
   "source": [
    "\n",
    "df=pd.DataFrame([y_pred_holdout,y_holdout_time,y_holdout_censorship]).T\n",
    "df.columns=['predictRisk','OS','censorLabel']\n",
    "df['group'] = 'Unknown'\n",
    "df.loc[df.predictRisk >= cutoff_75_percentile,'group']= \"High\"\n",
    "df.loc[df.predictRisk < cutoff_75_percentile,'group']= \"Low\"\n",
    "\n",
    "\n",
    "\n",
    "axs = subplots(cols=1, rows=1, w=6, h=4)\n",
    "KMPlot(df, time='OS', event='censorLabel', label=[ 'group'], score='predictRisk').plot(\n",
    "    ['High', 'Low'], ax=axs[0],\n",
    "    comparisons=[['Low', 'High', 'Low vs High']],\n",
    "    saturation=0.9,\n",
    "    linewidth=1.5,\n",
    "    palette='Set1',\n",
    "    template_color = 'black',xy_font_size=18,\n",
    "    hr_color='black',\n",
    "    x_legend = 0.5, y_legend=0.95,legend_font_size=12,\n",
    "    label_height_adj=0.06,\n",
    "    x_hr_legand=0.0,y_hr_legend=.1,hr_font_size=12,\n",
    ");\n",
    "\n",
    "\n",
    "\n",
    "sns.despine(offset=2)"
   ]
  },
  {
   "cell_type": "markdown",
   "id": "424dbedb-fd9d-43a1-bff3-a6291fc48a63",
   "metadata": {},
   "source": [
    "# Identify variance importance and association with inputs"
   ]
  },
  {
   "cell_type": "markdown",
   "id": "caaed4e6-e876-46e9-adec-58885efcca49",
   "metadata": {},
   "source": [
    "### The following code is used to identify feature importance. importance of each feature (the higher, the more important the feature is). The importance is the difference between the perturbed and unperturbed error rate for each feature."
   ]
  },
  {
   "cell_type": "code",
   "execution_count": null,
   "id": "44022316-ef17-479a-86c0-281fe267a6bd",
   "metadata": {},
   "outputs": [],
   "source": [
    "importantFeature={}\n",
    "for i in range(0,10):\n",
    "    X_train, X_test, y_train, y_test = train_test_split(\n",
    "        patient_embedding_dataframe, y_dataframe, test_size=0.1,stratify=[x[0] for x in y_dataframe], random_state=i)\n",
    "    downstream_model = RandomSurvivalForestModel(num_trees=100)\n",
    "    y_train_censorship=[x[0] for x in y_train]\n",
    "    y_train_time=[x[1] for x in y_train]\n",
    "    downstream_model.fit(X=X_train, T=y_train_time, E=y_train_censorship,seed=randomSeed) \n",
    "    y_test_censorship=[x[0] for x in y_test]\n",
    "    y_test_time=[x[1] for x in y_test]\n",
    "    y_pred=downstream_model.predict_risk(X_test)\n",
    "    c_index = lfcindex(y_test_time, y_pred, y_test_censorship)\n",
    "    if c_index<0.5:\n",
    "        print (1-c_index)\n",
    "    else:\n",
    "        print (c_index)\n",
    "    #identify most important embedding feature associated with survial prediction\n",
    "    mostImportantFeatures=downstream_model.variable_importance_table.head(10)\n",
    "    # fit a decision tree regression model to assocaite the most important embedding feature with molecular features\n",
    "    regressor = DecisionTreeRegressor(random_state=i)\n",
    "    genomic_features_train=genomic_features.loc[patient_embedding_dataframe.index,]\n",
    "    regressor.fit(genomic_features_train, patient_embedding_dataframe[mostImportantFeatures.loc[0,'feature']])\n",
    "    # sort the genomic features in decreasing order of their importance\n",
    "    importance = regressor.feature_importances_\n",
    "    indices = np.argsort(importance)[::-1]\n",
    "    # select the top 10 genomic features\n",
    "    rankTable=pd.DataFrame(list(zip(genomic_features_train.columns[indices],importance[indices])),columns=['FeatureName','Importance'])\n",
    "    selected=rankTable.iloc[0:10,:]\n",
    "    # store the feature name into a dictionary with frequency\n",
    "    genomicFeatureList=list(selected['FeatureName'])\n",
    "    for gene in genomicFeatureList:\n",
    "        if gene not in importantFeature:\n",
    "            importantFeature[gene]=1\n",
    "        else:\n",
    "            importantFeature[gene]=importantFeature[gene]+1"
   ]
  },
  {
   "cell_type": "code",
   "execution_count": null,
   "id": "3c137eb4-8b86-4b14-a37f-0b4b332cf3b8",
   "metadata": {},
   "outputs": [],
   "source": [
    "topFeaturesAmongTenModels=sorted(importantFeature.items(), key=lambda x: x[1], reverse=True)[:10]\n",
    "topFeaturesAmongTenModels"
   ]
  },
  {
   "cell_type": "code",
   "execution_count": null,
   "id": "206bf838-7321-4f2c-b678-537b8f516036",
   "metadata": {},
   "outputs": [],
   "source": [
    "def calculateMutationalFreq(df,topFeatureList):\n",
    "    return np.sum(df.loc[:,topFeatureList])/df.shape[0]"
   ]
  },
  {
   "cell_type": "code",
   "execution_count": null,
   "id": "e3eefa15-222f-4e9b-9bf5-62f222f32f28",
   "metadata": {},
   "outputs": [],
   "source": [
    "topFeatureList=[gene for (gene, frequency) in topFeaturesAmongTenModels]\n",
    "\n",
    "calculateMutationalFreq(genomic_features.loc[patient_embedding_dataframe.index],topFeatureList)"
   ]
  },
  {
   "cell_type": "code",
   "execution_count": null,
   "id": "59264b07-731b-4a84-90a2-21183ce86940",
   "metadata": {},
   "outputs": [],
   "source": [
    "topFeatureList=[gene for (gene, frequency) in topFeaturesAmongTenModels]\n",
    "\n",
    "calculateMutationalFreq(genomic_features.loc[patient_embedding_holdout.index],topFeatureList)"
   ]
  },
  {
   "cell_type": "markdown",
   "id": "5b786618-b115-44a4-bd92-3e8757f97ce0",
   "metadata": {},
   "source": [
    "# single gene test"
   ]
  },
  {
   "cell_type": "markdown",
   "id": "77166c99-4f97-405c-a9a6-a1b962985883",
   "metadata": {},
   "source": [
    "### the following function is to evaluate whether a single gene can be used to stratify patient OS\n"
   ]
  },
  {
   "cell_type": "code",
   "execution_count": null,
   "id": "31cd5b33-2c12-4c26-83de-1da935589f78",
   "metadata": {},
   "outputs": [],
   "source": [
    "mutation=list(genomic_features.loc[patient_embedding_holdout.index,'molecular_FAT1'])\n",
    "\n",
    "df=pd.DataFrame([mutation,y_holdout_time,y_holdout_censorship]).T\n",
    "df.columns=['mutation','OS','censorLabel']\n",
    "df['group'] = 'Unknown'\n",
    "df.loc[df.mutation == 1,'group']= \"mutated\"\n",
    "df.loc[df.mutation == 0,'group']= \"notMutated\"\n",
    "\n",
    "\n",
    "\n",
    "axs = subplots(cols=1, rows=1, w=8, h=5)\n",
    "KMPlot(df, time='OS', event='censorLabel', label=[ 'group'], score='mutation').plot(\n",
    "    ['mutated', 'notMutated'], ax=axs[0],\n",
    "    comparisons=[['notMutated', 'mutated']],\n",
    "    label_font_size = 15,\n",
    "    xy_font_size=18,\n",
    "    saturation=0.9,\n",
    "    label_height_adj=0.2,\n",
    "    linewidth=1.5,\n",
    "    palette='Set1',\n",
    "    template_color = 'black',\n",
    "    \n",
    ");"
   ]
  }
 ],
 "metadata": {
  "kernelspec": {
   "display_name": "Python 3 (ipykernel)",
   "language": "python",
   "name": "python3"
  },
  "language_info": {
   "codemirror_mode": {
    "name": "ipython",
    "version": 3
   },
   "file_extension": ".py",
   "mimetype": "text/x-python",
   "name": "python",
   "nbconvert_exporter": "python",
   "pygments_lexer": "ipython3",
   "version": "3.9.5"
  }
 },
 "nbformat": 4,
 "nbformat_minor": 5
}
