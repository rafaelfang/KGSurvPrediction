{
 "cells": [
  {
   "cell_type": "markdown",
   "id": "a7a31c3a-479d-40f9-aa93-b0f1be979ee6",
   "metadata": {},
   "source": [
    "# Summary: This Notebook shows the experimental results using MSK data, including BIKG-based, panel based, TMB based OS predictive performance, etc.\n"
   ]
  },
  {
   "cell_type": "code",
   "execution_count": null,
   "id": "5b9de534-0a86-4a9d-acbe-0f1bc0a032db",
   "metadata": {},
   "outputs": [],
   "source": [
    "import os\n",
    "import random\n",
    "import numpy as np\n",
    "import pandas as pd\n",
    "\n",
    "import matplotlib.pyplot as plt\n",
    "%matplotlib inline\n",
    "import seaborn as sns\n",
    "import sys"
   ]
  },
  {
   "cell_type": "code",
   "execution_count": null,
   "id": "4fe6cf1e-3730-42ed-abad-68506ef1ccd3",
   "metadata": {},
   "outputs": [],
   "source": [
    "from KMPlot import subplots\n",
    "from KMPlot import KMPlot"
   ]
  },
  {
   "cell_type": "code",
   "execution_count": null,
   "id": "1829cb34-a1db-43f0-a794-329ebfaaa241",
   "metadata": {},
   "outputs": [],
   "source": [
    "from sklearn.model_selection import train_test_split\n",
    "from sklearn.preprocessing import OrdinalEncoder\n",
    "from sksurv.util import Surv\n",
    "from sksurv.datasets import load_gbsg2\n",
    "from sksurv.preprocessing import OneHotEncoder\n",
    "from pysurvival.models.survival_forest import RandomSurvivalForestModel\n",
    "from lifelines.utils import concordance_index as lfcindex\n",
    "from sklearn.tree import DecisionTreeRegressor\n"
   ]
  },
  {
   "cell_type": "code",
   "execution_count": null,
   "id": "453e87b4-c367-47b9-af45-d73b4516f7a2",
   "metadata": {},
   "outputs": [],
   "source": [
    "#set random seed\n",
    "#randomSeed=1\n",
    "#randomSeed=2\n",
    "#randomSeed=3\n",
    "#randomSeed=4\n",
    "#randomSeed=5\n",
    "#randomSeed=6\n",
    "#randomSeed=7\n",
    "#randomSeed=8\n",
    "#randomSeed=9\n",
    "randomSeed=10"
   ]
  },
  {
   "cell_type": "code",
   "execution_count": null,
   "id": "5de1a357-f67c-49cc-bdcf-b91786694b5d",
   "metadata": {},
   "outputs": [],
   "source": [
    "def display_summary(df, name:str=None):\n",
    "    \"\"\"Displays the head and summary statistics of a DataFrame.\n",
    "    \"\"\"\n",
    "    if name:\n",
    "        print(f\"Summary of data for: {name}\")\n",
    "    print(f\"Number of rows: {df.shape[0]}\")\n",
    "    print(f\"Number of columns: {df.shape[1]}\")\n",
    "    print(f\"\\nSample of data:\")\n",
    "    display(df.sample(5))"
   ]
  },
  {
   "cell_type": "markdown",
   "id": "33c35b1d-465e-417b-8380-3ad866c1da44",
   "metadata": {},
   "source": [
    "### Loading preprocessed dataset including patient embedding, genomic features, survival information\n"
   ]
  },
  {
   "cell_type": "code",
   "execution_count": null,
   "id": "ed2ee8bc-e5ad-4e7f-bd3f-93f3b4fdb03b",
   "metadata": {},
   "outputs": [],
   "source": [
    "whichSetID=1\n",
    "work_dir='../Data/outputs/RobustTestUsingMSK/'\n",
    "y_dataframe=np.load(work_dir+str(whichSetID)+'/y_dataframe.npy') \n",
    "y_holdout=np.load(work_dir+str(whichSetID)+'/y_holdout.npy') \n",
    "tmbValue=np.load(work_dir+str(whichSetID)+'/tmbValue.npy') "
   ]
  },
  {
   "cell_type": "code",
   "execution_count": null,
   "id": "c2caec3e-05aa-482d-8a2d-af57f1c16621",
   "metadata": {},
   "outputs": [],
   "source": [
    "patient_embedding_dataframe=pd.read_csv(work_dir+str(whichSetID)+'/patient_embedding_dataframe.csv',sep=',',index_col='source_label') \n",
    "patient_embedding_holdout=pd.read_csv(work_dir+str(whichSetID)+'/patient_embedding_holdout.csv',sep=',',index_col='source_label') \n",
    "genomic_features=pd.read_csv(work_dir+str(whichSetID)+'/genomic_features.csv',sep=',',index_col='SAMPLE_ID')"
   ]
  },
  {
   "cell_type": "markdown",
   "id": "2485945d-fa87-4369-aeae-65a4c682980c",
   "metadata": {},
   "source": [
    "### Patient cohort statistics. For this MSK dataset, there are 1855 patients. The gene panel contains 481 genes"
   ]
  },
  {
   "cell_type": "code",
   "execution_count": null,
   "id": "7ada721a-dc54-4b92-842b-ee2e79fcae3e",
   "metadata": {},
   "outputs": [],
   "source": [
    "display_summary(genomic_features, \"patient genomic features\")"
   ]
  },
  {
   "cell_type": "markdown",
   "id": "095f7d4d-a308-4aa2-82ef-225c1cc796b4",
   "metadata": {},
   "source": [
    "# Perform experiment and get the mean performance"
   ]
  },
  {
   "cell_type": "markdown",
   "id": "86eb3562-376b-4a08-9b3d-ec0c2d69af3a",
   "metadata": {},
   "source": [
    "### The following block is to perform 10 runs of cross validation and get average performance"
   ]
  },
  {
   "cell_type": "code",
   "execution_count": null,
   "id": "6260df81-47c2-4808-a09f-89625bc156fc",
   "metadata": {},
   "outputs": [],
   "source": [
    "\n",
    "#(patient_embedding_dataframe.join(genomic_features,how='left')).iloc[:,16:]\n",
    "#np.random.rand(1602,16)\n",
    "c_index_list=[]\n",
    "for experimentID in range(0,10):\n",
    "    X_train, X_test, y_train, y_test = train_test_split(\n",
    "        patient_embedding_dataframe, y_dataframe, test_size=0.1,stratify=[x[0] for x in y_dataframe], random_state=experimentID)\n",
    "    downstream_model = RandomSurvivalForestModel(num_trees=100)\n",
    "    y_train_censorship=[x[0] for x in y_train]\n",
    "    y_train_time=[x[1] for x in y_train]\n",
    "    downstream_model.fit(X=X_train, T=y_train_time, E=y_train_censorship,seed=randomSeed) \n",
    "    y_test_censorship=[x[0] for x in y_test]\n",
    "    y_test_time=[x[1] for x in y_test]\n",
    "    y_pred=downstream_model.predict_risk(X_test)\n",
    "    c_index = lfcindex(y_test_time, y_pred, y_test_censorship)\n",
    "\n",
    "    #c_score = concordance_index(downstream_model, X_test, y_test_time, y_test_censorship, include_ties=False, additional_results=False)\n",
    "    if c_index<0.5:\n",
    "        print (1-c_index)\n",
    "        c_index_list.append(1-c_index)\n",
    "    else:\n",
    "        print (c_index)\n",
    "        c_index_list.append(c_index)\n",
    "\n",
    "\n",
    "print (\"Average performance:\")\n",
    "print (np.mean(c_index_list))\n",
    "print (np.std(c_index_list))"
   ]
  },
  {
   "cell_type": "code",
   "execution_count": null,
   "id": "5e06ee82-3462-4c95-92da-a01915aeb198",
   "metadata": {},
   "outputs": [],
   "source": [
    "def find_best(array):\n",
    "    array = np.asarray(array)\n",
    "    idx = array.argmax()\n",
    "    return idx"
   ]
  },
  {
   "cell_type": "markdown",
   "id": "1b2c1810-5588-4120-8762-45251744ec47",
   "metadata": {},
   "source": [
    "### here is to identify the model with best validation performance"
   ]
  },
  {
   "cell_type": "code",
   "execution_count": null,
   "id": "aec493c8-4060-4c39-a43f-012ee20a203b",
   "metadata": {},
   "outputs": [],
   "source": [
    "bestInd=find_best(c_index_list)\n",
    "bestInd"
   ]
  },
  {
   "cell_type": "markdown",
   "id": "5665fb72-ce50-44e7-822c-35ca8f6c697c",
   "metadata": {
    "tags": []
   },
   "source": [
    "# BIKG based OS predictive performance"
   ]
  },
  {
   "cell_type": "markdown",
   "id": "5706a0e9-61f1-4b80-9743-4409448335e8",
   "metadata": {},
   "source": [
    "### apply the model with best validation performance and evaluate its performance (concordence index)"
   ]
  },
  {
   "cell_type": "code",
   "execution_count": null,
   "id": "6607547a-b469-4968-a8d9-0a632b6a158c",
   "metadata": {},
   "outputs": [],
   "source": [
    "\n",
    "random_state=bestInd\n",
    "X_train, X_test, y_train, y_test = train_test_split(\n",
    "    patient_embedding_dataframe, y_dataframe, test_size=0.1,stratify=[x[0] for x in y_dataframe], random_state=random_state)\n",
    "downstream_model = RandomSurvivalForestModel(num_trees=100)\n",
    "y_train_censorship=[x[0] for x in y_train]\n",
    "y_train_time=[x[1] for x in y_train]\n",
    "downstream_model.fit(X=X_train, T=y_train_time, E=y_train_censorship,seed=randomSeed) \n",
    "y_test_censorship=[x[0] for x in y_test]\n",
    "y_test_time=[x[1] for x in y_test]\n",
    "y_pred=downstream_model.predict_risk(X_test)\n",
    "c_index = lfcindex(y_test_time, y_pred, y_test_censorship)\n",
    "if c_index<0.5:\n",
    "    print (1-c_index)\n",
    "else:\n",
    "    print (c_index)"
   ]
  },
  {
   "cell_type": "markdown",
   "id": "1b6751cf-9f85-4fee-a468-ff74f78bb57d",
   "metadata": {},
   "source": [
    "### the performance on holdout dataset"
   ]
  },
  {
   "cell_type": "code",
   "execution_count": null,
   "id": "485b663a-4516-4a03-b31a-dcbef96d434f",
   "metadata": {},
   "outputs": [],
   "source": [
    "y_pred_holdout=downstream_model.predict_risk(patient_embedding_holdout)\n",
    "y_holdout_censorship=[x[0] for x in y_holdout]\n",
    "y_holdout_time=[x[1] for x in y_holdout]\n",
    "c_index = lfcindex(y_holdout_time, y_pred_holdout, y_holdout_censorship)\n",
    "if c_index<0.5:\n",
    "    print (1-c_index)\n",
    "else:\n",
    "    print (c_index)"
   ]
  },
  {
   "cell_type": "markdown",
   "id": "1bd3418c-89eb-4873-acea-2dff76bd8cae",
   "metadata": {},
   "source": [
    "### the following block is to get the 75th percentile cutoff based on training dataset"
   ]
  },
  {
   "cell_type": "code",
   "execution_count": null,
   "id": "07af37b8-f632-4bea-8457-2af0bbe5bba2",
   "metadata": {},
   "outputs": [],
   "source": [
    "# get the cutoff using training data\n",
    "y_pred_dataframe=downstream_model.predict_risk(patient_embedding_dataframe)\n",
    "cutoff_75_percentile=np.quantile(y_pred_dataframe, 0.75)\n",
    "cutoff_75_percentile"
   ]
  },
  {
   "cell_type": "markdown",
   "id": "c1da4160-b140-4d99-aadf-9786d7661849",
   "metadata": {},
   "source": [
    "### the following block draw Kaplan-Meier plots and the patients are stratified into high- versus low-risk group based on 75th percentile cutoff "
   ]
  },
  {
   "cell_type": "code",
   "execution_count": null,
   "id": "8201d8b7-f8b3-45e3-b5a8-4ac10706fd8c",
   "metadata": {},
   "outputs": [],
   "source": [
    "df=pd.DataFrame([y_pred_holdout,y_holdout_time,y_holdout_censorship]).T\n",
    "df.columns=['predictRisk','OS','censorLabel']\n",
    "df['group'] = 'Unknown'\n",
    "df.loc[df.predictRisk >= cutoff_75_percentile,'group']= \"High\"\n",
    "df.loc[df.predictRisk < cutoff_75_percentile,'group']= \"Low\"\n",
    "\n",
    "\n",
    "axs = subplots(cols=1, rows=1, w=6, h=4)\n",
    "KMPlot(df, time='OS', event='censorLabel', label=[ 'group'], score='predictRisk').plot(\n",
    "    ['High', 'Low'], ax=axs[0],\n",
    "    comparisons=[['Low', 'High', 'Low vs High']],\n",
    "    saturation=0.9,\n",
    "    linewidth=1.5,\n",
    "    palette='Set1',\n",
    "    template_color = 'black',xy_font_size=18,\n",
    "    x_legend = 0.5, y_legend=0.95,legend_font_size=13,\n",
    "    label_height_adj=0.06,\n",
    "    x_hr_legand=0.6,y_hr_legend=.1,hr_font_size=13, hr_color='black',\n",
    ");\n",
    "sns.despine(offset=2)"
   ]
  },
  {
   "cell_type": "code",
   "execution_count": null,
   "id": "0b515192-1ac1-435d-a5c2-decb9023211b",
   "metadata": {},
   "outputs": [],
   "source": [
    "#df.to_csv('BIKGPredictedRisk_MSK.csv',index=False)"
   ]
  },
  {
   "cell_type": "markdown",
   "id": "cb752577-d56e-464f-83b5-260a7828e343",
   "metadata": {},
   "source": [
    "### the following block is used to compare the average mutation frequence between high- versus low-risk group"
   ]
  },
  {
   "cell_type": "code",
   "execution_count": null,
   "id": "d3d6e4b9-2e47-4626-be52-cb80bdef621c",
   "metadata": {},
   "outputs": [],
   "source": [
    "def compareGeneDiffBetweenHighVSLow(df,genomic_features,patient_embedding_holdout,tmbValue):\n",
    "    topGeneList=genomic_features.loc[patient_embedding_holdout.index,['molecular_STK11','molecular_KRAS','molecular_KEAP1','molecular_TP53','molecular_SMARCA4','molecular_ATM','molecular_PTPRD','molecular_EPHA3','molecular_RBM10','molecular_FAT1']].reset_index(drop=True)\n",
    "    topGeneList['tmb']=tmbValue\n",
    "    topGeneList['group']=df['group']\n",
    "    return topGeneList.groupby(\"group\").mean()"
   ]
  },
  {
   "cell_type": "code",
   "execution_count": null,
   "id": "17dfb5dd-f14b-44aa-a9dc-a8d20b08f8c1",
   "metadata": {},
   "outputs": [],
   "source": [
    "compareGeneDiffBetweenHighVSLow(df,genomic_features,patient_embedding_holdout,tmbValue)\n"
   ]
  },
  {
   "cell_type": "code",
   "execution_count": null,
   "id": "41d0ee14-825b-46b2-9d14-ef98ec01a001",
   "metadata": {},
   "outputs": [],
   "source": [
    "#patient_embedding_holdout['group']=list(df['group'])\n",
    "#patient_embedding_holdout"
   ]
  },
  {
   "cell_type": "code",
   "execution_count": null,
   "id": "de5e2523-e262-4659-8148-ff41c38630b6",
   "metadata": {},
   "outputs": [],
   "source": [
    "#patient_embedding_holdout.groupby(\"group\").mean()\n"
   ]
  },
  {
   "cell_type": "code",
   "execution_count": null,
   "id": "c2f3e1e9-e57a-4acb-b065-2ebc268fb3db",
   "metadata": {},
   "outputs": [],
   "source": [
    "#import umap\n",
    "#import matplotlib.pyplot as plt\n",
    "#standard_embedding = umap.UMAP(random_state=10).fit_transform(patient_embedding_holdout.iloc[:,0:16])\n",
    "#color_dict = { 'High':'red', 'Low':'blue',}\n",
    "\n",
    "#plt.scatter(standard_embedding[:, 0], standard_embedding[:, 1], c=[color_dict[i] for i in df['group']])\n"
   ]
  },
  {
   "cell_type": "code",
   "execution_count": null,
   "id": "038f0fd2-56d1-422a-96ab-57a592c71a94",
   "metadata": {},
   "outputs": [],
   "source": [
    "#df['OSThreeMonth']='LessOrEqual'\n",
    "\n",
    "#df.loc[df['OS'] > 3, 'OSThreeMonth'] = 'Greater'\n",
    "\n",
    "#df"
   ]
  },
  {
   "cell_type": "code",
   "execution_count": null,
   "id": "012ef517-a5ef-44da-ab37-e1a02272f30a",
   "metadata": {},
   "outputs": [],
   "source": [
    "\"\"\"\n",
    "def sens_spec_rates(predictedRisk, OS, thresholds):\n",
    "    sensitivity = []\n",
    "    specificity = []\n",
    "    tp_arr=[]\n",
    "    fp_arr=[]\n",
    "    tn_arr=[]\n",
    "    fn_arr=[]\n",
    "    for threshold in thresholds:\n",
    "        cutoff_OS = np.where(OS >= threshold, 'greaterThan', 'lessThan')\n",
    "        fn = np.sum((cutoff_OS == 'greaterThan') & (predictedRisk == 'High'))\n",
    "        tn = np.sum((cutoff_OS == 'greaterThan') & (predictedRisk == 'Low'))\n",
    "        fp = np.sum((cutoff_OS == 'lessThan') & (predictedRisk == 'Low'))\n",
    "        tp = np.sum((cutoff_OS == 'lessThan') & (predictedRisk == 'High'))\n",
    "        sensitivity.append(tp / (tp + fn))\n",
    "        specificity.append(tn / (tn + fp))\n",
    "        tp_arr.append(tp)\n",
    "        fp_arr.append(fp)\n",
    "        tn_arr.append(tn)\n",
    "        fn_arr.append(fn)\n",
    "    return [sensitivity, specificity,tp_arr,fp_arr,tn_arr,fn_arr]\n",
    "\n",
    "\"\"\""
   ]
  },
  {
   "cell_type": "code",
   "execution_count": null,
   "id": "327e067d-00a7-4cf7-ad9e-f94ca70ff919",
   "metadata": {},
   "outputs": [],
   "source": [
    "#thresholds=[3,6,9,12,15,18,21]\n",
    "#[sensitivity, specificity,tp_arr,fp_arr,tn_arr,fn_arr]=sens_spec_rates(df.group, df.OS, thresholds)\n",
    "#pd.DataFrame(zip(thresholds,sensitivity, specificity,tp_arr,fp_arr,tn_arr,fn_arr), columns = ['thresholds(month)', 'sensitivity', 'specificity','tp','fp','tn','fn'])"
   ]
  },
  {
   "cell_type": "code",
   "execution_count": null,
   "id": "20cef0bd-d1f9-448e-8c39-ab0480076872",
   "metadata": {},
   "outputs": [],
   "source": [
    "#df.groupby(['group', 'OSThreeMonth']).size()"
   ]
  },
  {
   "cell_type": "markdown",
   "id": "81874a99-0c96-4c67-b523-f2ba228e53d3",
   "metadata": {},
   "source": [
    "# BIKG based (with addtional gene panel) OS preditive performance "
   ]
  },
  {
   "cell_type": "markdown",
   "id": "1a9b82aa-b894-44ed-b039-f015ae26db6d",
   "metadata": {},
   "source": [
    "### similarly as previous experiment, this block is to evaluate the performance of (BIKG prior knowledge feature + genomic feature)"
   ]
  },
  {
   "cell_type": "code",
   "execution_count": null,
   "id": "9d263944-af1d-4af1-ab1c-0091df504191",
   "metadata": {},
   "outputs": [],
   "source": [
    "random_state=bestInd\n",
    "X_train, X_test, y_train, y_test = train_test_split(\n",
    "    patient_embedding_dataframe.join(genomic_features,how='left'), y_dataframe, test_size=0.1,stratify=[x[0] for x in y_dataframe], random_state=random_state)\n",
    "downstream_model = RandomSurvivalForestModel(num_trees=100)\n",
    "y_train_censorship=[x[0] for x in y_train]\n",
    "y_train_time=[x[1] for x in y_train]\n",
    "downstream_model.fit(X=X_train, T=y_train_time, E=y_train_censorship,seed=randomSeed) \n",
    "y_test_censorship=[x[0] for x in y_test]\n",
    "y_test_time=[x[1] for x in y_test]\n",
    "y_pred=downstream_model.predict_risk(X_test)\n",
    "c_index = lfcindex(y_test_time, y_pred, y_test_censorship)\n",
    "if c_index<0.5:\n",
    "    print (1-c_index)\n",
    "else:\n",
    "    print (c_index)"
   ]
  },
  {
   "cell_type": "code",
   "execution_count": null,
   "id": "19f65959-9a81-42e0-be32-76597b8768c1",
   "metadata": {},
   "outputs": [],
   "source": [
    "y_pred_holdout=downstream_model.predict_risk(patient_embedding_holdout.join(genomic_features,how='left'))\n",
    "y_holdout_censorship=[x[0] for x in y_holdout]\n",
    "y_holdout_time=[x[1] for x in y_holdout]\n",
    "c_index = lfcindex(y_holdout_time, y_pred_holdout, y_holdout_censorship)\n",
    "if c_index<0.5:\n",
    "    print (1-c_index)\n",
    "else:\n",
    "    print (c_index)\n"
   ]
  },
  {
   "cell_type": "code",
   "execution_count": null,
   "id": "8737a3f1-9403-4242-ac5b-bbf885bba27a",
   "metadata": {},
   "outputs": [],
   "source": [
    "# get the cutoff using training data\n",
    "y_pred_dataframe=downstream_model.predict_risk(patient_embedding_dataframe.join(genomic_features,how='left'))\n",
    "cutoff_75_percentile=np.quantile(y_pred_dataframe, 0.75)\n",
    "cutoff_75_percentile"
   ]
  },
  {
   "cell_type": "code",
   "execution_count": null,
   "id": "b67c05d9-88f6-431b-a2f0-b38ba0bfe690",
   "metadata": {},
   "outputs": [],
   "source": [
    "df=pd.DataFrame([y_pred_holdout,y_holdout_time,y_holdout_censorship]).T\n",
    "df.columns=['predictRisk','OS','censorLabel']\n",
    "df['group'] = 'Unknown'\n",
    "df.loc[df.predictRisk >= cutoff_75_percentile,'group']= \"High\"\n",
    "df.loc[df.predictRisk < cutoff_75_percentile,'group']= \"Low\"\n",
    "\n",
    "\n",
    "\n",
    "axs = subplots(cols=1, rows=1, w=6, h=4)\n",
    "KMPlot(df, time='OS', event='censorLabel', label=[ 'group'], score='predictRisk').plot(\n",
    "    ['High', 'Low'], ax=axs[0],\n",
    "    comparisons=[['Low', 'High', 'Low vs High']],\n",
    "    saturation=0.9,\n",
    "    linewidth=1.5,\n",
    "    palette='Set1',\n",
    "    template_color = 'black',xy_font_size=18,\n",
    "    hr_color='black',\n",
    "    x_legend = 0.5, y_legend=0.95,legend_font_size=12,\n",
    "    label_height_adj=0.06,\n",
    "    x_hr_legand=0.0,y_hr_legend=.1,hr_font_size=12,\n",
    ");\n",
    "\n",
    "\n",
    "\n",
    "sns.despine(offset=2)"
   ]
  },
  {
   "cell_type": "code",
   "execution_count": null,
   "id": "30f4cef3-2c98-4ea4-a0a7-d0e258c83e03",
   "metadata": {},
   "outputs": [],
   "source": [
    "compareGeneDiffBetweenHighVSLow(df,genomic_features,patient_embedding_holdout,tmbValue)\n"
   ]
  },
  {
   "cell_type": "markdown",
   "id": "1e717a25-4c8b-4cd4-894b-6517f2c6b0b7",
   "metadata": {},
   "source": [
    "# model using TMB"
   ]
  },
  {
   "cell_type": "code",
   "execution_count": null,
   "id": "50246c33-9f5d-4695-9fd0-2c6724e8b955",
   "metadata": {},
   "outputs": [],
   "source": [
    "### for checking the predicted risk using BIKG embedding features\n",
    "#df.to_excel(\"BIKGPredictedRisk.xlsx\")"
   ]
  },
  {
   "cell_type": "markdown",
   "id": "025537cd-96e7-4ee6-b20e-d8e1105acb53",
   "metadata": {},
   "source": [
    "### This block of code is to evaluate the patient stratification using traditional TMB as biomarker. If TMB>75th percentifle cutoff, then High; else low."
   ]
  },
  {
   "cell_type": "code",
   "execution_count": null,
   "id": "5756a6a2-d085-46f8-818e-4acc1e94ff66",
   "metadata": {},
   "outputs": [],
   "source": [
    "# get 75% cutoff from training dataset\n",
    "clinical_features = pd.read_csv('../Data/inputs/inputDatasetMSKMET2021/clinical_features_Lung_Adenocarcinoma.csv', sep=',')\n",
    "#clinical_subgroup = clinical_features[((clinical_features['SAMPLE_TYPE'].isin(['Metastasis']))&(clinical_features['Metastatic patient']==True))]\n",
    "clinical_subgroup = clinical_features[((clinical_features['SAMPLE_TYPE'].isin(['Primary']))&(clinical_features['Metastatic patient']==True))]\n",
    "TMB_training=np.array(clinical_subgroup[clinical_subgroup['SAMPLE_ID'].isin(patient_embedding_dataframe.index)]['TMB_NONSYNONYMOUS'])\n",
    "TMB_cutoff_75=np.quantile(TMB_training, 0.75)"
   ]
  },
  {
   "cell_type": "code",
   "execution_count": null,
   "id": "7e61bfe5-f68a-422e-a064-5bce1ba03156",
   "metadata": {},
   "outputs": [],
   "source": [
    "TMB_cutoff_75"
   ]
  },
  {
   "cell_type": "code",
   "execution_count": null,
   "id": "97eb6272-e2c2-4faf-87d9-0edd451dd140",
   "metadata": {},
   "outputs": [],
   "source": [
    "\n",
    "df=pd.DataFrame([tmbValue,y_holdout_time,y_holdout_censorship]).T\n",
    "df.columns=['tmbValue','OS','censorLabel']\n",
    "df['group'] = 'Unknown'\n",
    "df.loc[df.tmbValue >= TMB_cutoff_75,'group']= \"High\"\n",
    "df.loc[df.tmbValue < TMB_cutoff_75,'group']= \"Low\"\n",
    "\n",
    "\n",
    "axs = subplots(cols=1, rows=1, w=6, h=4)\n",
    "KMPlot(df, time='OS', event='censorLabel', label=[ 'group'], score='tmbValue').plot(\n",
    "    ['High', 'Low'], ax=axs[0],\n",
    "    comparisons=[['Low', 'High', 'Low vs High']],\n",
    "    saturation=0.9,\n",
    "    linewidth=1.5,\n",
    "    palette='Set1',\n",
    "    template_color = 'black',xy_font_size=18,\n",
    "    hr_color='black',\n",
    "    x_legend = 0.5, y_legend=0.95,legend_font_size=12,\n",
    "    label_height_adj=0.06,\n",
    "    x_hr_legand=0.0,y_hr_legend=.1,hr_font_size=12,\n",
    ");\n",
    "\n",
    "\n",
    "\n",
    "sns.despine(offset=2)"
   ]
  },
  {
   "cell_type": "code",
   "execution_count": null,
   "id": "518e04b0-8b26-4756-b302-4aecb655d41a",
   "metadata": {},
   "outputs": [],
   "source": [
    "#df['OSThreeMonth']='LessOrEqual'\n",
    "\n",
    "#df.loc[df['OS'] > 3, 'OSThreeMonth'] = 'Greater'\n",
    "\n",
    "#df"
   ]
  },
  {
   "cell_type": "code",
   "execution_count": null,
   "id": "aa4d5289-635c-4931-9c0a-5848a1d502f2",
   "metadata": {},
   "outputs": [],
   "source": [
    "#df.groupby(['group', 'OSThreeMonth']).size()\n",
    "\n",
    "#thresholds=[3,6,9,12,15,18,21]\n",
    "#[sensitivity, specificity,tp_arr,fp_arr,tn_arr,fn_arr]=sens_spec_rates(df.group, df.OS, thresholds)\n",
    "#pd.DataFrame(zip(thresholds,sensitivity, specificity,tp_arr,fp_arr,tn_arr,fn_arr), columns = ['thresholds(month)', 'sensitivity', 'specificity','tp','fp','tn','fn'])"
   ]
  },
  {
   "cell_type": "markdown",
   "id": "1aa922a4-420e-4b85-89df-000df5ea4142",
   "metadata": {},
   "source": [
    "# MSK gene panel"
   ]
  },
  {
   "cell_type": "markdown",
   "id": "29a216a7-a575-450c-afa9-fe2990f05839",
   "metadata": {},
   "source": [
    "### This block is to evaluate the performance of genomic feature (i.e. MSK gene panel)"
   ]
  },
  {
   "cell_type": "code",
   "execution_count": null,
   "id": "ee6513e1-0635-4c4b-9d0f-9cebc5f4262e",
   "metadata": {},
   "outputs": [],
   "source": [
    "\n",
    "random_state=bestInd\n",
    "X_train, X_test, y_train, y_test = train_test_split(\n",
    "    genomic_features.loc[patient_embedding_dataframe.index], y_dataframe, test_size=0.1,stratify=[x[0] for x in y_dataframe], random_state=random_state)\n",
    "downstream_model = RandomSurvivalForestModel(num_trees=100)\n",
    "y_train_censorship=[x[0] for x in y_train]\n",
    "y_train_time=[x[1] for x in y_train]\n",
    "downstream_model.fit(X=X_train, T=y_train_time, E=y_train_censorship,seed=randomSeed) \n",
    "y_test_censorship=[x[0] for x in y_test]\n",
    "y_test_time=[x[1] for x in y_test]\n",
    "y_pred=downstream_model.predict_risk(X_test)\n",
    "c_index = lfcindex(y_test_time, y_pred, y_test_censorship)\n",
    "if c_index<0.5:\n",
    "    print (1-c_index)\n",
    "else:\n",
    "    print (c_index)"
   ]
  },
  {
   "cell_type": "code",
   "execution_count": null,
   "id": "e0d172f2-6c46-471f-9a2b-268c92bab870",
   "metadata": {},
   "outputs": [],
   "source": [
    "y_pred_holdout=downstream_model.predict_risk(genomic_features.loc[patient_embedding_holdout.index,])\n",
    "y_holdout_censorship=[x[0] for x in y_holdout]\n",
    "y_holdout_time=[x[1] for x in y_holdout]\n",
    "c_index = lfcindex(y_holdout_time, y_pred_holdout, y_holdout_censorship)\n",
    "if c_index<0.5:\n",
    "    print (1-c_index)\n",
    "else:\n",
    "    print (c_index)"
   ]
  },
  {
   "cell_type": "code",
   "execution_count": null,
   "id": "950c5af5-d48c-4922-83c7-0169d4ad8bda",
   "metadata": {},
   "outputs": [],
   "source": [
    "# get the cutoff using training data\n",
    "y_pred_dataframe=downstream_model.predict_risk(genomic_features.loc[patient_embedding_dataframe.index])\n",
    "cutoff_75_percentile=np.quantile(y_pred_dataframe, 0.75)\n",
    "cutoff_75_percentile"
   ]
  },
  {
   "cell_type": "code",
   "execution_count": null,
   "id": "8949707b-5ccc-4cfe-9b61-6bce1a603f47",
   "metadata": {},
   "outputs": [],
   "source": [
    "\n",
    "df=pd.DataFrame([y_pred_holdout,y_holdout_time,y_holdout_censorship]).T\n",
    "df.columns=['predictRisk','OS','censorLabel']\n",
    "df['group'] = 'Unknown'\n",
    "df.loc[df.predictRisk >= cutoff_75_percentile,'group']= \"High\"\n",
    "df.loc[df.predictRisk < cutoff_75_percentile,'group']= \"Low\"\n",
    "\n",
    "\n",
    "\n",
    "axs = subplots(cols=1, rows=1, w=6, h=4)\n",
    "KMPlot(df, time='OS', event='censorLabel', label=[ 'group'], score='predictRisk').plot(\n",
    "    ['High', 'Low'], ax=axs[0],\n",
    "    comparisons=[['Low', 'High', 'Low vs High']],\n",
    "    saturation=0.9,\n",
    "    linewidth=1.5,\n",
    "    palette='Set1',\n",
    "    template_color = 'black',xy_font_size=18,\n",
    "    hr_color='black',\n",
    "    x_legend = 0.5, y_legend=0.95,legend_font_size=12,\n",
    "    label_height_adj=0.06,\n",
    "    x_hr_legand=0.0,y_hr_legend=.1,hr_font_size=12,\n",
    ");\n",
    "\n",
    "\n",
    "\n",
    "sns.despine(offset=2)"
   ]
  },
  {
   "cell_type": "code",
   "execution_count": null,
   "id": "ea0e136f-3ade-4bfe-b1da-2c0e198bbd1f",
   "metadata": {},
   "outputs": [],
   "source": [
    "#df.to_csv('MSKGenePanelPredictedRisk.csv',index=False)"
   ]
  },
  {
   "cell_type": "code",
   "execution_count": null,
   "id": "2ecd7d53-ef50-4956-9e73-b8fe7b6bd357",
   "metadata": {},
   "outputs": [],
   "source": [
    "compareGeneDiffBetweenHighVSLow(df,genomic_features,patient_embedding_holdout,tmbValue)"
   ]
  },
  {
   "cell_type": "code",
   "execution_count": null,
   "id": "2baf8948-f348-4b83-963e-b97ce7c094c5",
   "metadata": {},
   "outputs": [],
   "source": [
    "#df['OSThreeMonth']='LessOrEqual'\n",
    "\n",
    "#df.loc[df['OS'] > 3, 'OSThreeMonth'] = 'Greater'\n",
    "\n",
    "#df"
   ]
  },
  {
   "cell_type": "code",
   "execution_count": null,
   "id": "073b6ab3-8456-4845-ab65-8eaa1c3d14fe",
   "metadata": {},
   "outputs": [],
   "source": [
    "#df.groupby(['group', 'OSThreeMonth']).size()\n",
    "#thresholds=[3,6,9,12,15,18,21]\n",
    "#[sensitivity, specificity,tp_arr,fp_arr,tn_arr,fn_arr]=sens_spec_rates(df.group, df.OS, thresholds)\n",
    "#pd.DataFrame(zip(thresholds,sensitivity, specificity,tp_arr,fp_arr,tn_arr,fn_arr), columns = ['thresholds(month)', 'sensitivity', 'specificity','tp','fp','tn','fn'])"
   ]
  },
  {
   "cell_type": "markdown",
   "id": "7f7a2995-00f0-47b1-a16b-c8406732e654",
   "metadata": {},
   "source": [
    "# MSK gene panel using autoencoder embedding"
   ]
  },
  {
   "cell_type": "markdown",
   "id": "dde7dd59-90ed-41bd-a42a-20d0aba90439",
   "metadata": {},
   "source": [
    "### The following block is to evaluate some other embedding approach for comparison purpose, here we used Autoencoder embedding to compare with graph embedding"
   ]
  },
  {
   "cell_type": "code",
   "execution_count": null,
   "id": "d263cb09-eed9-4d8b-ab0d-8e7273736f4f",
   "metadata": {},
   "outputs": [],
   "source": [
    "import keras\n",
    "from keras import layers\n",
    "\n",
    "encoding_dim = 16 \n",
    "\n",
    "train_x = genomic_features.loc[patient_embedding_dataframe.index]\n",
    "test_x = genomic_features.loc[patient_embedding_holdout.index]\n",
    "\n",
    "inputFeature = keras.Input(shape=(train_x.shape[1],))\n",
    "# \"encoded\" is the encoded representation of the input\n",
    "encoded = layers.Dense(encoding_dim, activation='relu')(inputFeature)\n",
    "# \"decoded\" is the lossy reconstruction of the input\n",
    "decoded = layers.Dense(train_x.shape[1], activation='sigmoid')(encoded)\n",
    "autoencoder = keras.Model(inputFeature, decoded)\n",
    "\n",
    "encoder = keras.Model(inputFeature, encoded)\n",
    "\n",
    "autoencoder.compile(optimizer='adam', loss='binary_crossentropy')\n",
    "autoencoder.fit(train_x, train_x,\n",
    "                epochs=200,\n",
    "                batch_size=100,\n",
    "                shuffle=True,\n",
    "                validation_data=(test_x, test_x),\n",
    "                verbose=0)\n",
    "\n",
    "encoded_features_train = encoder.predict(train_x)\n",
    "encoded_features_test = encoder.predict(test_x)"
   ]
  },
  {
   "cell_type": "code",
   "execution_count": null,
   "id": "7032042f-6ff0-402c-ba90-de3a958876dc",
   "metadata": {},
   "outputs": [],
   "source": [
    "random_state=bestInd\n",
    "X_train, X_test, y_train, y_test = train_test_split(\n",
    "    encoded_features_train, y_dataframe, test_size=0.1,stratify=[x[0] for x in y_dataframe], random_state=random_state)\n",
    "downstream_model = RandomSurvivalForestModel(num_trees=100)\n",
    "y_train_censorship=[x[0] for x in y_train]\n",
    "y_train_time=[x[1] for x in y_train]\n",
    "downstream_model.fit(X=X_train, T=y_train_time, E=y_train_censorship,seed=randomSeed) \n",
    "y_test_censorship=[x[0] for x in y_test]\n",
    "y_test_time=[x[1] for x in y_test]\n",
    "y_pred=downstream_model.predict_risk(X_test)\n",
    "c_index = lfcindex(y_test_time, y_pred, y_test_censorship)\n",
    "if c_index<0.5:\n",
    "    print (1-c_index)\n",
    "else:\n",
    "    print (c_index)"
   ]
  },
  {
   "cell_type": "code",
   "execution_count": null,
   "id": "cb4650d6-ffe7-4c69-8c8a-3ba7e3dc744d",
   "metadata": {},
   "outputs": [],
   "source": [
    "y_pred_holdout=downstream_model.predict_risk(encoded_features_test)\n",
    "y_holdout_censorship=[x[0] for x in y_holdout]\n",
    "y_holdout_time=[x[1] for x in y_holdout]\n",
    "c_index = lfcindex(y_holdout_time, y_pred_holdout, y_holdout_censorship)\n",
    "if c_index<0.5:\n",
    "    print (1-c_index)\n",
    "else:\n",
    "    print (c_index)\n"
   ]
  },
  {
   "cell_type": "code",
   "execution_count": null,
   "id": "1a9c6efe-c626-433f-971f-e4951ac8eeea",
   "metadata": {},
   "outputs": [],
   "source": [
    "y_pred_dataframe=downstream_model.predict_risk(encoded_features_train)\n",
    "cutoff_75_percentile=np.quantile(y_pred_dataframe, 0.75)\n",
    "cutoff_75_percentile"
   ]
  },
  {
   "cell_type": "code",
   "execution_count": null,
   "id": "e8e54c0c-2627-4cf0-8fe7-21524ff986a8",
   "metadata": {},
   "outputs": [],
   "source": [
    "df=pd.DataFrame([y_pred_holdout,y_holdout_time,y_holdout_censorship]).T\n",
    "df.columns=['predictRisk','OS','censorLabel']\n",
    "df['group'] = 'Unknown'\n",
    "df.loc[df.predictRisk >= cutoff_75_percentile,'group']= \"High\"\n",
    "df.loc[df.predictRisk < cutoff_75_percentile,'group']= \"Low\"\n",
    "\n",
    "\n",
    "\n",
    "axs = subplots(cols=1, rows=1, w=6, h=4)\n",
    "KMPlot(df, time='OS', event='censorLabel', label=[ 'group'], score='predictRisk').plot(\n",
    "    ['High', 'Low'], ax=axs[0],\n",
    "    comparisons=[['Low', 'High', 'Low vs High']],\n",
    "    saturation=0.9,\n",
    "    linewidth=1.5,\n",
    "    palette='Set1',\n",
    "    template_color = 'black',xy_font_size=18,\n",
    "    hr_color='black',\n",
    "    x_legend = 0.5, y_legend=0.95,legend_font_size=12,\n",
    "    label_height_adj=0.06,\n",
    "    x_hr_legand=0.0,y_hr_legend=.1,hr_font_size=12,\n",
    ");\n",
    "\n",
    "\n",
    "\n",
    "sns.despine(offset=2)"
   ]
  },
  {
   "cell_type": "markdown",
   "id": "f387e0d1-fd0a-4669-a67a-26980e639a2b",
   "metadata": {
    "tags": []
   },
   "source": [
    "# PCA embedding"
   ]
  },
  {
   "cell_type": "markdown",
   "id": "d7060150-3ad6-40f7-ab1f-7414c908cf65",
   "metadata": {},
   "source": [
    "### Similarly as previous experiment, here we applied PCA embedding to compare with graph embedding"
   ]
  },
  {
   "cell_type": "code",
   "execution_count": null,
   "id": "d7371650-77c6-4b7c-826a-e9456bd9ae2a",
   "metadata": {},
   "outputs": [],
   "source": [
    "from sklearn.decomposition import PCA\n",
    "\n",
    "encoding_dim = 16 \n",
    "\n",
    "train_x = genomic_features.loc[patient_embedding_dataframe.index]\n",
    "test_x = genomic_features.loc[patient_embedding_holdout.index]\n",
    "\n",
    "pca = PCA(n_components=encoding_dim,random_state=123)\n",
    "pca.fit(train_x)\n",
    "\n",
    "X_train_pca = pca.transform(train_x)\n",
    "X_test_pca = pca.transform(test_x)\n",
    "\n",
    "\n"
   ]
  },
  {
   "cell_type": "code",
   "execution_count": null,
   "id": "77d7370d-7eee-4b87-9e19-a6a5753e53e1",
   "metadata": {},
   "outputs": [],
   "source": [
    "random_state=bestInd\n",
    "X_train, X_test, y_train, y_test = train_test_split(\n",
    "    X_train_pca, y_dataframe, test_size=0.1,stratify=[x[0] for x in y_dataframe], random_state=random_state)\n",
    "downstream_model = RandomSurvivalForestModel(num_trees=100)\n",
    "y_train_censorship=[x[0] for x in y_train]\n",
    "y_train_time=[x[1] for x in y_train]\n",
    "downstream_model.fit(X=X_train, T=y_train_time, E=y_train_censorship,seed=randomSeed) \n",
    "y_test_censorship=[x[0] for x in y_test]\n",
    "y_test_time=[x[1] for x in y_test]\n",
    "y_pred=downstream_model.predict_risk(X_test)\n",
    "c_index = lfcindex(y_test_time, y_pred, y_test_censorship)\n",
    "if c_index<0.5:\n",
    "    print (1-c_index)\n",
    "else:\n",
    "    print (c_index)"
   ]
  },
  {
   "cell_type": "code",
   "execution_count": null,
   "id": "968e8257-4bde-4675-a418-17687c230bf5",
   "metadata": {},
   "outputs": [],
   "source": [
    "y_pred_holdout=downstream_model.predict_risk(X_test_pca)\n",
    "y_holdout_censorship=[x[0] for x in y_holdout]\n",
    "y_holdout_time=[x[1] for x in y_holdout]\n",
    "c_index = lfcindex(y_holdout_time, y_pred_holdout, y_holdout_censorship)\n",
    "if c_index<0.5:\n",
    "    print (1-c_index)\n",
    "else:\n",
    "    print (c_index)\n"
   ]
  },
  {
   "cell_type": "code",
   "execution_count": null,
   "id": "151b9587-22d6-4596-aa67-38bd0ef05466",
   "metadata": {},
   "outputs": [],
   "source": [
    "y_pred_dataframe=downstream_model.predict_risk(X_train_pca)\n",
    "cutoff_75_percentile=np.quantile(y_pred_dataframe, 0.75)\n",
    "cutoff_75_percentile"
   ]
  },
  {
   "cell_type": "code",
   "execution_count": null,
   "id": "f90134cd-57ad-4e5e-b7e0-831f3bc56471",
   "metadata": {},
   "outputs": [],
   "source": [
    "df=pd.DataFrame([y_pred_holdout,y_holdout_time,y_holdout_censorship]).T\n",
    "df.columns=['predictRisk','OS','censorLabel']\n",
    "df['group'] = 'Unknown'\n",
    "df.loc[df.predictRisk >= cutoff_75_percentile,'group']= \"High\"\n",
    "df.loc[df.predictRisk < cutoff_75_percentile,'group']= \"Low\"\n",
    "\n",
    "\n",
    "\n",
    "axs = subplots(cols=1, rows=1, w=6, h=4)\n",
    "KMPlot(df, time='OS', event='censorLabel', label=[ 'group'], score='predictRisk').plot(\n",
    "    ['High', 'Low'], ax=axs[0],\n",
    "    comparisons=[['Low', 'High', 'Low vs High']],\n",
    "    saturation=0.9,\n",
    "    linewidth=1.5,\n",
    "    palette='Set1',\n",
    "    template_color = 'black',xy_font_size=18,\n",
    "    hr_color='black',\n",
    "    x_legend = 0.5, y_legend=0.95,legend_font_size=12,\n",
    "    label_height_adj=0.06,\n",
    "    x_hr_legand=0.0,y_hr_legend=.1,hr_font_size=12,\n",
    ");\n",
    "\n",
    "\n",
    "\n",
    "sns.despine(offset=2)"
   ]
  },
  {
   "cell_type": "markdown",
   "id": "424dbedb-fd9d-43a1-bff3-a6291fc48a63",
   "metadata": {},
   "source": [
    "# Identify variance importance and association with inputs"
   ]
  },
  {
   "cell_type": "markdown",
   "id": "8d995b01-3342-4fdc-bef3-79045cc1fb5c",
   "metadata": {},
   "source": [
    "### The following code is used to identify feature importance. importance of each feature (the higher, the more important the feature is). The importance is the difference between the perturbed and unperturbed error rate for each feature."
   ]
  },
  {
   "cell_type": "code",
   "execution_count": null,
   "id": "44022316-ef17-479a-86c0-281fe267a6bd",
   "metadata": {},
   "outputs": [],
   "source": [
    "importantFeature={}\n",
    "for i in range(0,10):\n",
    "    X_train, X_test, y_train, y_test = train_test_split(\n",
    "        patient_embedding_dataframe, y_dataframe, test_size=0.1,stratify=[x[0] for x in y_dataframe], random_state=i)\n",
    "    downstream_model = RandomSurvivalForestModel(num_trees=100)\n",
    "    y_train_censorship=[x[0] for x in y_train]\n",
    "    y_train_time=[x[1] for x in y_train]\n",
    "    downstream_model.fit(X=X_train, T=y_train_time, E=y_train_censorship,seed=randomSeed) \n",
    "    y_test_censorship=[x[0] for x in y_test]\n",
    "    y_test_time=[x[1] for x in y_test]\n",
    "    y_pred=downstream_model.predict_risk(X_test)\n",
    "    c_index = lfcindex(y_test_time, y_pred, y_test_censorship)\n",
    "    if c_index<0.5:\n",
    "        print (1-c_index)\n",
    "    else:\n",
    "        print (c_index)\n",
    "    #identify most important embedding feature associated with survial prediction\n",
    "    mostImportantFeatures=downstream_model.variable_importance_table.head(10)\n",
    "    # fit a decision tree regression model to assocaite the most important embedding feature with molecular features\n",
    "    regressor = DecisionTreeRegressor(random_state=i)\n",
    "    genomic_features_train=genomic_features.loc[patient_embedding_dataframe.index,]\n",
    "    regressor.fit(genomic_features_train, patient_embedding_dataframe[mostImportantFeatures.loc[0,'feature']])\n",
    "    # sort the genomic features in decreasing order of their importance\n",
    "    importance = regressor.feature_importances_\n",
    "    indices = np.argsort(importance)[::-1]\n",
    "    # select the top 10 genomic features\n",
    "    rankTable=pd.DataFrame(list(zip(genomic_features_train.columns[indices],importance[indices])),columns=['FeatureName','Importance'])\n",
    "    selected=rankTable.iloc[0:10,:]\n",
    "    # store the feature name into a dictionary with frequency\n",
    "    genomicFeatureList=list(selected['FeatureName'])\n",
    "    for gene in genomicFeatureList:\n",
    "        if gene not in importantFeature:\n",
    "            importantFeature[gene]=1\n",
    "        else:\n",
    "            importantFeature[gene]=importantFeature[gene]+1"
   ]
  },
  {
   "cell_type": "code",
   "execution_count": null,
   "id": "3c137eb4-8b86-4b14-a37f-0b4b332cf3b8",
   "metadata": {},
   "outputs": [],
   "source": [
    "topFeaturesAmongTenModels=sorted(importantFeature.items(), key=lambda x: x[1], reverse=True)[:10]\n",
    "topFeaturesAmongTenModels"
   ]
  },
  {
   "cell_type": "code",
   "execution_count": null,
   "id": "206bf838-7321-4f2c-b678-537b8f516036",
   "metadata": {},
   "outputs": [],
   "source": [
    "def calculateMutationalFreq(df,topFeatureList):\n",
    "    return np.sum(df.loc[:,topFeatureList])/df.shape[0]"
   ]
  },
  {
   "cell_type": "code",
   "execution_count": null,
   "id": "e3eefa15-222f-4e9b-9bf5-62f222f32f28",
   "metadata": {},
   "outputs": [],
   "source": [
    "topFeatureList=[gene for (gene, frequency) in topFeaturesAmongTenModels]\n",
    "\n",
    "calculateMutationalFreq(genomic_features.loc[patient_embedding_dataframe.index],topFeatureList)"
   ]
  },
  {
   "cell_type": "code",
   "execution_count": null,
   "id": "59264b07-731b-4a84-90a2-21183ce86940",
   "metadata": {},
   "outputs": [],
   "source": [
    "topFeatureList=[gene for (gene, frequency) in topFeaturesAmongTenModels]\n",
    "\n",
    "calculateMutationalFreq(genomic_features.loc[patient_embedding_holdout.index],topFeatureList)"
   ]
  },
  {
   "cell_type": "code",
   "execution_count": null,
   "id": "542c4512-b402-4bc5-8ff4-9e7daf523277",
   "metadata": {},
   "outputs": [],
   "source": [
    "genomic_features[['molecular_PIK3CA']].value_counts()/len(genomic_features)"
   ]
  },
  {
   "cell_type": "markdown",
   "id": "0f4b1ada-33c2-40bc-bc07-110b757f3b83",
   "metadata": {},
   "source": [
    "# gene signature test (biomarker + vs -)"
   ]
  },
  {
   "cell_type": "markdown",
   "id": "ce66299d-b0f4-4eea-b27f-239719db1d25",
   "metadata": {},
   "source": [
    "### Based on the above importance genomic features, a gene signature can be constructed using those genes. The gene signature is defined as \"Mut\" if more than one of those genes are mutant. Else, \"Wt\", wild type"
   ]
  },
  {
   "cell_type": "code",
   "execution_count": null,
   "id": "7c07a71c-b70f-45ad-b9c9-41d04b893448",
   "metadata": {},
   "outputs": [],
   "source": [
    "y_dataframe_censorship=[x[0] for x in y_dataframe]\n",
    "y_dataframe_time=[x[1] for x in y_dataframe]\n",
    "\n",
    "\n",
    "mutations_train=genomic_features.loc[patient_embedding_dataframe.index][['molecular_STK11','molecular_KRAS','molecular_KEAP1','molecular_TP53','molecular_SMARCA4',\n",
    "                                                                         'molecular_ATM','molecular_EPHA3','molecular_PTPRD','molecular_RBM10','molecular_FAT1']]\n",
    "mutations_train['signature']=mutations_train.sum(axis=1)\n",
    "\n",
    "\n",
    "df=pd.DataFrame([list(mutations_train['signature']),y_dataframe_time,y_dataframe_censorship]).T\n",
    "\n",
    "df.columns=['signature','OS','censorLabel']\n",
    "df['group'] = 'Unknown'\n",
    "df.loc[df.signature >1,'group']= \"Mut\"\n",
    "df.loc[df.signature ==0,'group']= \"Wt\"\n",
    "\n",
    "\n",
    "\n",
    "axs = subplots(cols=1, rows=1, w=6, h=4)\n",
    "KMPlot(df, time='OS', event='censorLabel', label=[ 'group'], score='predictRisk').plot(\n",
    "    ['Mut', 'Wt'], ax=axs[0],\n",
    "    comparisons=[['Wt', 'Mut', 'Wt vs Mut']],\n",
    "    saturation=0.9,\n",
    "    linewidth=1.5,\n",
    "    palette='Set1',\n",
    "    template_color = 'black',xy_font_size=18,\n",
    "    hr_color='black',\n",
    "    x_legend = 0.5, y_legend=0.95,legend_font_size=12,\n",
    "    label_height_adj=0.06,\n",
    "    x_hr_legand=0.0,y_hr_legend=.1,hr_font_size=12,\n",
    ");\n",
    "\n",
    "\n",
    "\n",
    "sns.despine(offset=2)"
   ]
  },
  {
   "cell_type": "code",
   "execution_count": null,
   "id": "34fd0766-d5f1-4332-ab01-105552b973fc",
   "metadata": {},
   "outputs": [],
   "source": [
    "y_holdout_censorship=[x[0] for x in y_holdout]\n",
    "y_holdout_time=[x[1] for x in y_holdout]\n",
    "\n",
    "mutations_holdout=genomic_features.loc[patient_embedding_holdout.index][['molecular_STK11','molecular_KRAS','molecular_KEAP1','molecular_TP53','molecular_SMARCA4',\n",
    "                                                                         'molecular_ATM','molecular_EPHA3','molecular_PTPRD','molecular_RBM10','molecular_FAT1']]\n",
    "mutations_holdout['signature']=mutations_holdout.sum(axis=1)\n",
    "mutations_holdout\n",
    "\n",
    "df=pd.DataFrame([list(mutations_holdout['signature']),y_holdout_time,y_holdout_censorship]).T\n",
    "\n",
    "df.columns=['signature','OS','censorLabel']\n",
    "df['group'] = 'Unknown'\n",
    "df.loc[df.signature >1,'group']= \"Mut\"\n",
    "df.loc[df.signature ==0,'group']= \"Wt\"\n",
    "\n",
    "\n",
    "\n",
    "axs = subplots(cols=1, rows=1, w=6, h=4)\n",
    "KMPlot(df, time='OS', event='censorLabel', label=[ 'group'], score='predictRisk').plot(\n",
    "    ['Mut', 'Wt'], ax=axs[0],\n",
    "    comparisons=[['Wt', 'Mut', 'Wt vs Mut']],\n",
    "    saturation=0.9,\n",
    "    linewidth=1.5,\n",
    "    palette='Set1',\n",
    "    template_color = 'black',xy_font_size=18,\n",
    "    hr_color='black',\n",
    "    x_legend = 0.5, y_legend=0.95,legend_font_size=12,\n",
    "    label_height_adj=0.06,\n",
    "    x_hr_legand=0.0,y_hr_legend=.1,hr_font_size=12,\n",
    ");\n",
    "\n",
    "\n",
    "\n",
    "sns.despine(offset=2)"
   ]
  },
  {
   "cell_type": "markdown",
   "id": "276e83b6-e951-4b93-a8fc-278378b5bf5e",
   "metadata": {},
   "source": [
    "# single gene survival prediction"
   ]
  },
  {
   "cell_type": "markdown",
   "id": "4c018299-bb79-47ee-80d1-260ca6abccbf",
   "metadata": {},
   "source": [
    "### the following function is to evaluate whether a single gene can be used to stratify patient OS"
   ]
  },
  {
   "cell_type": "code",
   "execution_count": null,
   "id": "bde9e275-58e1-4484-9521-5d3aa9531559",
   "metadata": {},
   "outputs": [],
   "source": [
    "#y_dataframe_censorship=[x[0] for x in y_holdout]\n",
    "#y_dataframe_time=[x[1] for x in y_holdout]\n",
    "\n",
    "mutation=list(genomic_features.loc[patient_embedding_holdout.index,'molecular_FAT1'])\n",
    "\n",
    "df=pd.DataFrame([mutation,y_holdout_time,y_holdout_censorship]).T\n",
    "df.columns=['mutation','OS','censorLabel']\n",
    "df['group'] = 'Unknown'\n",
    "df.loc[df.mutation == 1,'group']= \"mutated\"\n",
    "df.loc[df.mutation == 0,'group']= \"notMutated\"\n",
    "\n",
    "\n",
    "\n",
    "axs = subplots(cols=1, rows=1, w=8, h=5)\n",
    "KMPlot(df, time='OS', event='censorLabel', label=[ 'group'], score='mutation').plot(\n",
    "    ['mutated', 'notMutated'], ax=axs[0],\n",
    "    comparisons=[['notMutated', 'mutated']],\n",
    "    label_font_size = 15,\n",
    "    xy_font_size=18,\n",
    "    saturation=0.9,\n",
    "    label_height_adj=0.2,\n",
    "    linewidth=1.5,\n",
    "    palette='Set1',\n",
    "    template_color = 'black',\n",
    "    \n",
    ");"
   ]
  },
  {
   "cell_type": "markdown",
   "id": "e8aa1b7d-b102-4c8c-bc21-ddd0c99a3b21",
   "metadata": {},
   "source": [
    "# plot BIKG predicted risk vs all genomic predict risk"
   ]
  },
  {
   "cell_type": "markdown",
   "id": "0b3cf00e-dbdd-4f6b-ad9b-f2d6a769fe84",
   "metadata": {},
   "source": [
    "### the following block is used to evaluated OS prediction in models using BIKG versus gene panel only. "
   ]
  },
  {
   "cell_type": "code",
   "execution_count": null,
   "id": "09186a9e-a45c-4b6a-8400-7985477ba8fc",
   "metadata": {},
   "outputs": [],
   "source": [
    "BIKGPredictedRisk=pd.read_csv('../Data/outputs/BIKGPredictedRisk_MSK.csv')\n",
    "BIKGPredictedRisk"
   ]
  },
  {
   "cell_type": "code",
   "execution_count": null,
   "id": "61ee8fb9-d5fa-4e6f-82ad-ea38eeaf71df",
   "metadata": {},
   "outputs": [],
   "source": [
    "MSKGenePanelPredictedRisk=pd.read_csv('../Data/outputs/MSKGenePanelPredictedRisk.csv')\n",
    "MSKGenePanelPredictedRisk"
   ]
  },
  {
   "cell_type": "code",
   "execution_count": null,
   "id": "7da20a32-db4e-4c5c-a3c5-d9345e4e1671",
   "metadata": {},
   "outputs": [],
   "source": [
    "import matplotlib.pyplot as plt\n",
    "plt_df=pd.DataFrame(list(zip(BIKGPredictedRisk.predictRisk,MSKGenePanelPredictedRisk.predictRisk,BIKGPredictedRisk.OS)),columns=['BIKGPrior','MSKPanel','OS'])\n",
    "\n",
    "plt_df.sort_values(by=['OS'],ascending=True,inplace=True)\n",
    "plt_df"
   ]
  },
  {
   "cell_type": "code",
   "execution_count": null,
   "id": "7c392261-62bb-4bb9-8eab-31e4e4227941",
   "metadata": {},
   "outputs": [],
   "source": [
    "x=np.arange(plt_df.shape[0])\n",
    "y_BIKG=list(plt_df.BIKGPrior)\n",
    "y_MSK=list(plt_df.MSKPanel)\n",
    "y_OS=list(plt_df.OS)"
   ]
  },
  {
   "cell_type": "code",
   "execution_count": null,
   "id": "dc06b147-d354-4041-bbf6-14ac79143933",
   "metadata": {},
   "outputs": [],
   "source": [
    "for n in [18, 35, 53,71]:\n",
    "    avgPredictedRisk_BIKG=np.mean(y_BIKG[:n])\n",
    "    avgPredictedRisk_MSK=np.mean(y_MSK[:n])\n",
    "    print((avgPredictedRisk_BIKG-avgPredictedRisk_MSK)/avgPredictedRisk_MSK)"
   ]
  },
  {
   "cell_type": "code",
   "execution_count": null,
   "id": "b0c0dd95-04e1-44d9-a05c-5e0b12b1e7fd",
   "metadata": {},
   "outputs": [],
   "source": [
    "for n in [18, 35, 53,71]:\n",
    "    avgPredictedRisk_BIKG=np.mean(y_BIKG[-n:])\n",
    "    avgPredictedRisk_MSK=np.mean(y_MSK[-n:])\n",
    "    print((avgPredictedRisk_BIKG-avgPredictedRisk_MSK)/avgPredictedRisk_MSK)"
   ]
  },
  {
   "cell_type": "code",
   "execution_count": null,
   "id": "e4a6c615-1d87-4697-840f-06864c5fb7dc",
   "metadata": {},
   "outputs": [],
   "source": [
    "# Create subplots\n",
    "#fig, (ax1, ax2) = plt.subplots(2, 1, sharex=True, figsize=(8, 6))\n",
    "\n",
    "fig, ax1 = plt.subplots(1, 1, sharex=True, figsize=(8, 6))\n",
    "\n",
    "# Plot \"Risk Prediction\" on the first subplot\n",
    "ax1.scatter(x, y_BIKG, c='r', s=1, label='BIKG')\n",
    "model_BIKG = LinearRegression()\n",
    "model_BIKG.fit(x.reshape(-1, 1), y_BIKG)\n",
    "slope_BIKG = model_BIKG.coef_[0]\n",
    "intercept_BIKG = model_BIKG.intercept_\n",
    "\n",
    "ax1.plot(x, slope_BIKG * x + intercept_BIKG, 'r--', linewidth=2)\n",
    "\n",
    "# Set y-axis limits for the first subplot to constrain the predicted risk between 400 and 650\n",
    "ax1.set_ylim(200, 1000)\n",
    "\n",
    "ax1.scatter(x,y_MSK,c='b',s=1,label='MSK gene panel')\n",
    "model_MSK = LinearRegression()\n",
    "model_MSK.fit(x.reshape(-1, 1), y_MSK)\n",
    "slope_MSK = model_MSK.coef_[0]\n",
    "intercept_MSK = model_MSK.intercept_\n",
    "ax1.plot(x, slope_MSK * x + intercept_MSK,'b--',linewidth=2)\n",
    "\n",
    "\n",
    "# Plot \"OS\" on the second subplot\n",
    "#ax2.scatter(x, y_OS, c='g', s=1, label='OS')\n",
    "\n",
    "# Customize the appearance of each subplot\n",
    "ax1.set_ylabel('Predicted risk',fontsize=16)\n",
    "ax1.set_xlabel('Patient sorted in the ascending OS order',fontsize=16)\n",
    "#ax2.set_ylabel('OS')\n",
    "#ax2.set_xlabel('Patient')\n",
    "\n",
    "# Add legends to the subplots\n",
    "ax1.legend(fontsize=16)\n",
    "#ax2.legend()\n",
    "\n",
    "# Add legends to the top right corner of the subplots\n",
    "ax1.legend(loc='upper right',fontsize=16)\n",
    "#ax2.legend(loc='upper right')\n",
    "\n",
    "# Show the plot\n",
    "plt.show()"
   ]
  },
  {
   "cell_type": "code",
   "execution_count": null,
   "id": "9136d50b-6e99-4c67-98ea-8ceb805629f8",
   "metadata": {},
   "outputs": [],
   "source": [
    "slope_BIKG-slope_MSK"
   ]
  },
  {
   "cell_type": "code",
   "execution_count": null,
   "id": "a2f09c4a-0d30-486b-8848-5196217b2e40",
   "metadata": {},
   "outputs": [],
   "source": [
    "slope_BIKG"
   ]
  },
  {
   "cell_type": "code",
   "execution_count": null,
   "id": "592f11a3-e403-428f-bff6-fe90320e3bbb",
   "metadata": {},
   "outputs": [],
   "source": [
    "slope_MSK"
   ]
  },
  {
   "cell_type": "markdown",
   "id": "224478cf-eb46-4c13-8df1-2c2c6e343217",
   "metadata": {},
   "source": [
    "# heat map of co-occurrence"
   ]
  },
  {
   "cell_type": "markdown",
   "id": "f0bb9898-d890-43d5-bc51-bb5249a6efb7",
   "metadata": {},
   "source": [
    "### the following block is used to generate a heatmap of gene co-occurrence"
   ]
  },
  {
   "cell_type": "code",
   "execution_count": null,
   "id": "123e2ddf-256e-458c-842b-fd1bd95897f9",
   "metadata": {},
   "outputs": [],
   "source": [
    "importantGeneList=['molecular_STK11','molecular_KRAS','molecular_KEAP1','molecular_TP53','molecular_SMARCA4','molecular_ATM','molecular_PTPRD','molecular_EPHA3','molecular_RBM10','molecular_FAT1']\n"
   ]
  },
  {
   "cell_type": "code",
   "execution_count": null,
   "id": "6fdc8966-7b1e-4e40-8746-3192ea291cfe",
   "metadata": {},
   "outputs": [],
   "source": [
    "genomic_features[importantGeneList]"
   ]
  },
  {
   "cell_type": "code",
   "execution_count": null,
   "id": "1d9ef063-2e69-4bb5-a9ae-2df1d6c0eab7",
   "metadata": {},
   "outputs": [],
   "source": [
    "import pandas as pd\n",
    "import matplotlib.pyplot as plt\n",
    "\n",
    "\n",
    "def gene_mutations_plot(gene_mutations_df):\n",
    "    # Count the number of mutations for each patient\n",
    "    gene_mutations_df['mutation_count'] = gene_mutations_df.iloc[:, 0:].sum(axis=1)\n",
    "\n",
    "    # Create bins for different mutation counts\n",
    "    mutation_bins = [2, 3, 4, 5, gene_mutations_df['mutation_count'].max() + 1]\n",
    "\n",
    "    # Create labels for the bins\n",
    "    mutation_labels = ['at least two gene mutation', \n",
    "                       'at least three gene mutation', \n",
    "                       'at least four gene mutation', \n",
    "                       'more than four gene mutation']\n",
    "\n",
    "    # Group patients into the bins and count the occurrences\n",
    "    mutation_counts = pd.cut(gene_mutations_df['mutation_count'], bins=mutation_bins, labels=mutation_labels, right=False).value_counts()\n",
    "\n",
    "    # Plot the bar graph\n",
    "    mutation_counts.plot(kind='bar')\n",
    "    plt.xlabel('Mutation Count')\n",
    "    plt.ylabel('Number of Patients')\n",
    "    plt.title('Distribution of Patients by Gene Mutation Count')\n",
    "    plt.show()"
   ]
  },
  {
   "cell_type": "code",
   "execution_count": null,
   "id": "b5ce1e4a-3e06-4eb8-a342-4bf467bfab08",
   "metadata": {},
   "outputs": [],
   "source": [
    "gene_mutations_plot(genomic_features[importantGeneList])"
   ]
  },
  {
   "cell_type": "code",
   "execution_count": null,
   "id": "71ed23bd-933b-4026-83e9-e864c88e412f",
   "metadata": {},
   "outputs": [],
   "source": [
    "sns.set(font_scale=1.5)"
   ]
  },
  {
   "cell_type": "code",
   "execution_count": null,
   "id": "8c4f340b-2790-43bc-8bd4-4231e6d1bcc0",
   "metadata": {},
   "outputs": [],
   "source": [
    "def getCooccurence(df,geneListOfInterest):\n",
    "    df_filter=df[geneListOfInterest]\n",
    "    df_filter.columns = df_filter.columns.str.lstrip(\"molecular_\")\n",
    "    df_asint = df_filter.astype(int)\n",
    "    cooccurMat = df_asint.T.dot(df_asint)\n",
    "    return cooccurMat\n",
    "\n",
    "def plotCoocurMat(cooccurMat):\n",
    "    fig, ax = plt.subplots(figsize=(15,10)) \n",
    "    sns.heatmap(cooccurMat,annot=True,cmap=\"crest\",ax=ax,fmt='d')\n",
    "    ax.set(xlabel=\"\", ylabel=\"\")\n",
    "    ax.xaxis.tick_top()"
   ]
  },
  {
   "cell_type": "code",
   "execution_count": null,
   "id": "b0aaa19b-b331-43d8-8349-3ef6fc60ce68",
   "metadata": {},
   "outputs": [],
   "source": [
    "cooccurMat_MSK = getCooccurence(genomic_features.loc[patient_embedding_dataframe.index],importantGeneList)\n",
    "plotCoocurMat(cooccurMat_MSK)"
   ]
  },
  {
   "cell_type": "code",
   "execution_count": null,
   "id": "aea10383-736f-471f-8761-7f7c4ae557a5",
   "metadata": {},
   "outputs": [],
   "source": [
    "cooccurMat_MSKholdout = getCooccurence(genomic_features.loc[patient_embedding_holdout.index],importantGeneList)\n",
    "plotCoocurMat(cooccurMat_MSKholdout)"
   ]
  },
  {
   "cell_type": "code",
   "execution_count": null,
   "id": "4cf97eb0-878c-4411-9026-2a6632b90c51",
   "metadata": {},
   "outputs": [],
   "source": []
  }
 ],
 "metadata": {
  "kernelspec": {
   "display_name": "Python 3 (ipykernel)",
   "language": "python",
   "name": "python3"
  },
  "language_info": {
   "codemirror_mode": {
    "name": "ipython",
    "version": 3
   },
   "file_extension": ".py",
   "mimetype": "text/x-python",
   "name": "python",
   "nbconvert_exporter": "python",
   "pygments_lexer": "ipython3",
   "version": "3.9.5"
  }
 },
 "nbformat": 4,
 "nbformat_minor": 5
}
