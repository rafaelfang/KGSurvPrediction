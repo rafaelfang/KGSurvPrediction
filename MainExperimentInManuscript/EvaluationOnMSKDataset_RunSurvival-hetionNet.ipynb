{
 "cells": [
  {
   "cell_type": "markdown",
   "id": "4349afd8-66fa-4c70-b51e-e93e88f692d0",
   "metadata": {},
   "source": [
    "# Summary: This Notebook shows the experimental results using MSK data, including BIKG-based, panel based, TMB based OS predictive performance, etc. The knowledge graph demonstated here is from HetioNet"
   ]
  },
  {
   "cell_type": "code",
   "execution_count": null,
   "id": "5b9de534-0a86-4a9d-acbe-0f1bc0a032db",
   "metadata": {},
   "outputs": [],
   "source": [
    "import sys\n",
    "import pandas as pd\n",
    "import numpy as np\n",
    "\n",
    "import matplotlib.pyplot as plt\n",
    "%matplotlib inline\n",
    "\n",
    "import seaborn as sns"
   ]
  },
  {
   "cell_type": "code",
   "execution_count": null,
   "id": "e143d923-c773-4533-9640-185ceb0b6927",
   "metadata": {},
   "outputs": [],
   "source": [
    "from karateclub import SocioDim\n",
    "from karateclub import EgoNetSplitter\n",
    "import networkx as nx\n"
   ]
  },
  {
   "cell_type": "code",
   "execution_count": null,
   "id": "4fe6cf1e-3730-42ed-abad-68506ef1ccd3",
   "metadata": {},
   "outputs": [],
   "source": [
    "from KMPlot import subplots\n",
    "from KMPlot import KMPlot\n"
   ]
  },
  {
   "cell_type": "code",
   "execution_count": null,
   "id": "1829cb34-a1db-43f0-a794-329ebfaaa241",
   "metadata": {},
   "outputs": [],
   "source": [
    "from sklearn.model_selection import train_test_split\n",
    "from sklearn.preprocessing import OrdinalEncoder\n",
    "from sksurv.util import Surv\n",
    "from sksurv.datasets import load_gbsg2\n",
    "from sksurv.preprocessing import OneHotEncoder\n",
    "from pysurvival.models.survival_forest import RandomSurvivalForestModel\n",
    "from lifelines.utils import concordance_index as lfcindex\n",
    "from sklearn.tree import DecisionTreeRegressor\n"
   ]
  },
  {
   "cell_type": "code",
   "execution_count": null,
   "id": "453e87b4-c367-47b9-af45-d73b4516f7a2",
   "metadata": {},
   "outputs": [],
   "source": [
    "#set random seed\n",
    "randomSeed=1\n",
    "#randomSeed=2\n",
    "#randomSeed=3\n",
    "#randomSeed=4\n",
    "#randomSeed=5\n",
    "#randomSeed=6\n",
    "#randomSeed=7\n",
    "#randomSeed=8\n",
    "#randomSeed=9\n",
    "#randomSeed=10"
   ]
  },
  {
   "cell_type": "markdown",
   "id": "2cb68088-0cdf-47a1-ac58-412cdc53f18b",
   "metadata": {},
   "source": [
    "## Loading preprocessed dataset including patient embedding, genomic features, survival information"
   ]
  },
  {
   "cell_type": "code",
   "execution_count": null,
   "id": "ed2ee8bc-e5ad-4e7f-bd3f-93f3b4fdb03b",
   "metadata": {},
   "outputs": [],
   "source": [
    "whichSetID=10\n",
    "\n",
    "whichSubgraph='subgraph6'\n",
    "work_dir='/BIKG_project/outputs/EvaluationUsingHetionNet/'\n",
    "y_dataframe=np.load(work_dir+whichSubgraph+'/'+str(whichSetID)+'/y_dataframe.npy') \n",
    "y_holdout=np.load(work_dir+whichSubgraph+'/'+str(whichSetID)+'/y_holdout.npy') \n",
    "tmbValue=np.load(work_dir+whichSubgraph+'/'+str(whichSetID)+'/tmbValue.npy') "
   ]
  },
  {
   "cell_type": "code",
   "execution_count": null,
   "id": "c2caec3e-05aa-482d-8a2d-af57f1c16621",
   "metadata": {},
   "outputs": [],
   "source": [
    "patient_embedding_dataframe=pd.read_csv(work_dir+whichSubgraph+'/'+str(whichSetID)+'/patient_embedding_dataframe.csv',sep=',',index_col='source_label') \n",
    "patient_embedding_holdout=pd.read_csv(work_dir+whichSubgraph+'/'+str(whichSetID)+'/patient_embedding_holdout.csv',sep=',',index_col='source_label') \n",
    "genomic_features=pd.read_csv(work_dir+whichSubgraph+'/'+str(whichSetID)+'/genomic_features.csv',sep=',',index_col='SAMPLE_ID')"
   ]
  },
  {
   "cell_type": "markdown",
   "id": "095f7d4d-a308-4aa2-82ef-225c1cc796b4",
   "metadata": {},
   "source": [
    "# Perform experiment and get the mean performance"
   ]
  },
  {
   "cell_type": "code",
   "execution_count": null,
   "id": "6260df81-47c2-4808-a09f-89625bc156fc",
   "metadata": {},
   "outputs": [],
   "source": [
    "\n",
    "#(patient_embedding_dataframe.join(genomic_features,how='left')).iloc[:,16:]\n",
    "#np.random.rand(1602,16)\n",
    "c_index_list=[]\n",
    "for experimentID in range(0,10):\n",
    "    X_train, X_test, y_train, y_test = train_test_split(\n",
    "        patient_embedding_dataframe, y_dataframe, test_size=0.1,stratify=[x[0] for x in y_dataframe], random_state=experimentID)\n",
    "    downstream_model = RandomSurvivalForestModel(num_trees=100)\n",
    "    y_train_censorship=[x[0] for x in y_train]\n",
    "    y_train_time=[x[1] for x in y_train]\n",
    "    downstream_model.fit(X=X_train, T=y_train_time, E=y_train_censorship,seed=randomSeed) \n",
    "    y_test_censorship=[x[0] for x in y_test]\n",
    "    y_test_time=[x[1] for x in y_test]\n",
    "    y_pred=downstream_model.predict_risk(X_test)\n",
    "    c_index = lfcindex(y_test_time, y_pred, y_test_censorship)\n",
    "\n",
    "    #c_score = concordance_index(downstream_model, X_test, y_test_time, y_test_censorship, include_ties=False, additional_results=False)\n",
    "    if c_index<0.5:\n",
    "        print (1-c_index)\n",
    "        c_index_list.append(1-c_index)\n",
    "    else:\n",
    "        print (c_index)\n",
    "        c_index_list.append(c_index)\n",
    "\n",
    "\n",
    "print (\"Average performance:\")\n",
    "print (np.mean(c_index_list))\n",
    "print (np.std(c_index_list))"
   ]
  },
  {
   "cell_type": "code",
   "execution_count": null,
   "id": "5e06ee82-3462-4c95-92da-a01915aeb198",
   "metadata": {},
   "outputs": [],
   "source": [
    "def find_best(array):\n",
    "    array = np.asarray(array)\n",
    "    idx = array.argmax()\n",
    "    return idx"
   ]
  },
  {
   "cell_type": "code",
   "execution_count": null,
   "id": "aec493c8-4060-4c39-a43f-012ee20a203b",
   "metadata": {},
   "outputs": [],
   "source": [
    "bestInd=find_best(c_index_list)\n",
    "bestInd"
   ]
  },
  {
   "cell_type": "markdown",
   "id": "5665fb72-ce50-44e7-822c-35ca8f6c697c",
   "metadata": {
    "tags": []
   },
   "source": [
    "# BIKG based OS predictive performance"
   ]
  },
  {
   "cell_type": "markdown",
   "id": "05019686-e19e-4e33-a45d-5f0a8ccd3a55",
   "metadata": {},
   "source": [
    "## apply the model with best validation performance and evaluate its performance (concordence index)\n"
   ]
  },
  {
   "cell_type": "code",
   "execution_count": null,
   "id": "6607547a-b469-4968-a8d9-0a632b6a158c",
   "metadata": {},
   "outputs": [],
   "source": [
    "\n",
    "random_state=bestInd\n",
    "X_train, X_test, y_train, y_test = train_test_split(\n",
    "    patient_embedding_dataframe, y_dataframe, test_size=0.1,stratify=[x[0] for x in y_dataframe], random_state=random_state)\n",
    "downstream_model = RandomSurvivalForestModel(num_trees=100)\n",
    "y_train_censorship=[x[0] for x in y_train]\n",
    "y_train_time=[x[1] for x in y_train]\n",
    "downstream_model.fit(X=X_train, T=y_train_time, E=y_train_censorship,seed=randomSeed) \n",
    "y_test_censorship=[x[0] for x in y_test]\n",
    "y_test_time=[x[1] for x in y_test]\n",
    "y_pred=downstream_model.predict_risk(X_test)\n",
    "c_index = lfcindex(y_test_time, y_pred, y_test_censorship)\n",
    "if c_index<0.5:\n",
    "    print (1-c_index)\n",
    "else:\n",
    "    print (c_index)"
   ]
  },
  {
   "cell_type": "markdown",
   "id": "68a9adc1-acc1-4dd5-bc3a-61a9c62c938f",
   "metadata": {},
   "source": [
    "## the performance on holdout dataset\n"
   ]
  },
  {
   "cell_type": "code",
   "execution_count": null,
   "id": "485b663a-4516-4a03-b31a-dcbef96d434f",
   "metadata": {},
   "outputs": [],
   "source": [
    "y_pred_holdout=downstream_model.predict_risk(patient_embedding_holdout)\n",
    "y_holdout_censorship=[x[0] for x in y_holdout]\n",
    "y_holdout_time=[x[1] for x in y_holdout]\n",
    "c_index = lfcindex(y_holdout_time, y_pred_holdout, y_holdout_censorship)\n",
    "if c_index<0.5:\n",
    "    print (1-c_index)\n",
    "else:\n",
    "    print (c_index)"
   ]
  },
  {
   "cell_type": "markdown",
   "id": "29851855-ee70-44aa-a8a9-52833bf1970f",
   "metadata": {},
   "source": [
    "## the following block is to get the 75th percentile cutoff based on training dataset\n"
   ]
  },
  {
   "cell_type": "code",
   "execution_count": null,
   "id": "259d1e54-addf-44c6-975b-62fb779f172b",
   "metadata": {},
   "outputs": [],
   "source": [
    "# get the cutoff using training data\n",
    "y_pred_dataframe=downstream_model.predict_risk(patient_embedding_dataframe)\n",
    "cutoff_75_percentile=np.quantile(y_pred_dataframe, 0.75)\n",
    "cutoff_75_percentile"
   ]
  },
  {
   "cell_type": "markdown",
   "id": "9794e67f-e635-4630-a17e-a943fc0dcce6",
   "metadata": {},
   "source": [
    "## the following block draw Kaplan-Meier plots and the patients are stratified into high- versus low-risk group based on 75th percentile cutoff"
   ]
  },
  {
   "cell_type": "code",
   "execution_count": null,
   "id": "8201d8b7-f8b3-45e3-b5a8-4ac10706fd8c",
   "metadata": {},
   "outputs": [],
   "source": [
    "df=pd.DataFrame([y_pred_holdout,y_holdout_time,y_holdout_censorship]).T\n",
    "df.columns=['predictRisk','OS','censorLabel']\n",
    "df['group'] = 'Unknown'\n",
    "df.loc[df.predictRisk >= cutoff_75_percentile,'group']= \"High\"\n",
    "df.loc[df.predictRisk < cutoff_75_percentile,'group']= \"Low\"\n",
    "\n",
    "\n",
    "\n",
    "axs = subplots(cols=1, rows=1, w=6, h=4)\n",
    "KMPlot(df, time='OS', event='censorLabel', label=[ 'group'], score='predictRisk').plot(\n",
    "    ['High', 'Low'], ax=axs[0],\n",
    "    comparisons=[['Low', 'High', 'Low vs High']],\n",
    "    saturation=0.9,\n",
    "    linewidth=1.5,\n",
    "    palette='Set1',\n",
    "    template_color = 'black',xy_font_size=18,\n",
    "    x_legend = 0.5, y_legend=0.95,legend_font_size=13,\n",
    "    label_height_adj=0.06,\n",
    "    x_hr_legand=0.6,y_hr_legend=.1,hr_font_size=13, hr_color='black',\n",
    ");\n",
    "sns.despine(offset=2)"
   ]
  },
  {
   "cell_type": "markdown",
   "id": "424dbedb-fd9d-43a1-bff3-a6291fc48a63",
   "metadata": {
    "tags": []
   },
   "source": [
    "# Identify variance importance and association with inputs"
   ]
  },
  {
   "cell_type": "code",
   "execution_count": null,
   "id": "44022316-ef17-479a-86c0-281fe267a6bd",
   "metadata": {},
   "outputs": [],
   "source": [
    "importantFeature={}\n",
    "for i in range(0,10):\n",
    "    X_train, X_test, y_train, y_test = train_test_split(\n",
    "        patient_embedding_dataframe, y_dataframe, test_size=0.1,stratify=[x[0] for x in y_dataframe], random_state=i)\n",
    "    downstream_model = RandomSurvivalForestModel(num_trees=100)\n",
    "    y_train_censorship=[x[0] for x in y_train]\n",
    "    y_train_time=[x[1] for x in y_train]\n",
    "    downstream_model.fit(X=X_train, T=y_train_time, E=y_train_censorship,seed=randomSeed) \n",
    "    y_test_censorship=[x[0] for x in y_test]\n",
    "    y_test_time=[x[1] for x in y_test]\n",
    "    y_pred=downstream_model.predict_risk(X_test)\n",
    "    c_index = lfcindex(y_test_time, y_pred, y_test_censorship)\n",
    "    if c_index<0.5:\n",
    "        print (1-c_index)\n",
    "    else:\n",
    "        print (c_index)\n",
    "    #identify most important embedding feature associated with survial prediction\n",
    "    mostImportantFeatures=downstream_model.variable_importance_table.head(10)\n",
    "    # fit a decision tree regression model to assocaite the most important embedding feature with molecular features\n",
    "    regressor = DecisionTreeRegressor(random_state=i)\n",
    "    genomic_features_train=genomic_features.loc[patient_embedding_dataframe.index,]\n",
    "    regressor.fit(genomic_features_train, patient_embedding_dataframe[mostImportantFeatures.loc[0,'feature']])\n",
    "    # sort the genomic features in decreasing order of their importance\n",
    "    importance = regressor.feature_importances_\n",
    "    indices = np.argsort(importance)[::-1]\n",
    "    # select the top 10 genomic features\n",
    "    rankTable=pd.DataFrame(list(zip(genomic_features_train.columns[indices],importance[indices])),columns=['FeatureName','Importance'])\n",
    "    selected=rankTable.iloc[0:10,:]\n",
    "    # store the feature name into a dictionary with frequency\n",
    "    genomicFeatureList=list(selected['FeatureName'])\n",
    "    for gene in genomicFeatureList:\n",
    "        if gene not in importantFeature:\n",
    "            importantFeature[gene]=1\n",
    "        else:\n",
    "            importantFeature[gene]=importantFeature[gene]+1"
   ]
  },
  {
   "cell_type": "code",
   "execution_count": null,
   "id": "3c137eb4-8b86-4b14-a37f-0b4b332cf3b8",
   "metadata": {},
   "outputs": [],
   "source": [
    "topFeaturesAmongTenModels=sorted(importantFeature.items(), key=lambda x: x[1], reverse=True)[:10]\n",
    "topFeaturesAmongTenModels"
   ]
  },
  {
   "cell_type": "code",
   "execution_count": null,
   "id": "206bf838-7321-4f2c-b678-537b8f516036",
   "metadata": {},
   "outputs": [],
   "source": [
    "def calculateMutationalFreq(df,topFeatureList):\n",
    "    return np.sum(df.loc[:,topFeatureList])/df.shape[0]"
   ]
  },
  {
   "cell_type": "code",
   "execution_count": null,
   "id": "e3eefa15-222f-4e9b-9bf5-62f222f32f28",
   "metadata": {},
   "outputs": [],
   "source": [
    "topFeatureList=[gene for (gene, frequency) in topFeaturesAmongTenModels]\n",
    "\n",
    "calculateMutationalFreq(genomic_features.loc[patient_embedding_dataframe.index],topFeatureList)"
   ]
  },
  {
   "cell_type": "code",
   "execution_count": null,
   "id": "59264b07-731b-4a84-90a2-21183ce86940",
   "metadata": {},
   "outputs": [],
   "source": [
    "topFeatureList=[gene for (gene, frequency) in topFeaturesAmongTenModels]\n",
    "\n",
    "calculateMutationalFreq(genomic_features.loc[patient_embedding_holdout.index],topFeatureList)"
   ]
  },
  {
   "cell_type": "code",
   "execution_count": null,
   "id": "9ba24ec9-d873-4a3c-989a-11919db8f2b6",
   "metadata": {},
   "outputs": [],
   "source": []
  }
 ],
 "metadata": {
  "kernelspec": {
   "display_name": "Python 3 (ipykernel)",
   "language": "python",
   "name": "python3"
  },
  "language_info": {
   "codemirror_mode": {
    "name": "ipython",
    "version": 3
   },
   "file_extension": ".py",
   "mimetype": "text/x-python",
   "name": "python",
   "nbconvert_exporter": "python",
   "pygments_lexer": "ipython3",
   "version": "3.9.5"
  }
 },
 "nbformat": 4,
 "nbformat_minor": 5
}
