{
 "cells": [
  {
   "cell_type": "markdown",
   "id": "103c3adf-b058-4fa4-a79f-5fd7203163e4",
   "metadata": {},
   "source": [
    "# Summary: This Notebook is used for OAK data preprocessing and prepare dataset for preditive models. It has three major steps:\n",
    "## 1) Load knowledge graph (subgraph);\n",
    "## 2) Load patient features and overall survival;\n",
    "## 3) Patient graph embedding generation and save the dataset"
   ]
  },
  {
   "cell_type": "code",
   "execution_count": null,
   "id": "5b9de534-0a86-4a9d-acbe-0f1bc0a032db",
   "metadata": {},
   "outputs": [],
   "source": [
    "import sys\n",
    "import pandas as pd\n",
    "import numpy as np\n",
    "import seaborn as sns"
   ]
  },
  {
   "cell_type": "code",
   "execution_count": null,
   "id": "e143d923-c773-4533-9640-185ceb0b6927",
   "metadata": {},
   "outputs": [],
   "source": [
    "from karateclub import SocioDim\n",
    "from karateclub import EgoNetSplitter\n",
    "import networkx as nx\n"
   ]
  },
  {
   "cell_type": "code",
   "execution_count": null,
   "id": "1829cb34-a1db-43f0-a794-329ebfaaa241",
   "metadata": {},
   "outputs": [],
   "source": [
    "from sklearn.model_selection import train_test_split\n",
    "from sklearn.preprocessing import OrdinalEncoder\n",
    "from sksurv.util import Surv\n",
    "from sksurv.datasets import load_gbsg2\n",
    "from sksurv.preprocessing import OneHotEncoder\n",
    "from pysurvival.models.survival_forest import RandomSurvivalForestModel\n",
    "from lifelines.utils import concordance_index as lfcindex\n",
    "from sklearn.tree import DecisionTreeRegressor\n"
   ]
  },
  {
   "cell_type": "code",
   "execution_count": null,
   "id": "453e87b4-c367-47b9-af45-d73b4516f7a2",
   "metadata": {},
   "outputs": [],
   "source": [
    "\n",
    "import random\n",
    "randomSeed=10\n",
    "np.random.seed(randomSeed);\n"
   ]
  },
  {
   "cell_type": "code",
   "execution_count": null,
   "id": "8d357729-b3ef-455e-9988-f0ac46165a15",
   "metadata": {},
   "outputs": [],
   "source": [
    "def display_summary(df, name:str=None):\n",
    "    \"\"\"Displays the head and summary statistics of a DataFrame.\n",
    "    \"\"\"\n",
    "    if name:\n",
    "        print(f\"Summary of data for: {name}\")\n",
    "    print(f\"Number of rows: {df.shape[0]}\")\n",
    "    print(f\"Number of columns: {df.shape[1]}\")\n",
    "    print(f\"\\nSample of data:\")\n",
    "    display(df.sample(5))\n"
   ]
  },
  {
   "cell_type": "markdown",
   "id": "a1bb25c1-be37-41bb-a19c-930a3aabfdb0",
   "metadata": {
    "tags": []
   },
   "source": [
    "# 1. Load bikg subgraph"
   ]
  },
  {
   "cell_type": "markdown",
   "id": "0d443677-0f01-49cb-8b8f-0162956d5eb0",
   "metadata": {},
   "source": [
    "### Here is to load the knowledge graph subgraph and prepare it in such format \"source_label (e.g. gene) - target_label (e.g. gene, pathway)\""
   ]
  },
  {
   "cell_type": "code",
   "execution_count": null,
   "id": "7308c620-0973-48d7-a037-6875f20027c9",
   "metadata": {},
   "outputs": [],
   "source": [
    "subgraph_edges = pd.read_csv('../Data/inputs/BIKGImmuneGeneGeneSubgraphs/subgraph4_1.csv', sep=',')\n",
    "#subgraph_edges = pd.read_csv('/projects/aa/ktnt055/BIKG_project/BIKGImmuneGeneGeneSubgraphs/wholeGraph.csv', sep=',')\n",
    "subgraph_edges=subgraph_edges[['source_label','target_label']]\n",
    "### just try 10 links\n",
    "##subgraph_edges=subgraph_edges.iloc[0:10]\n",
    "subgraph_edges"
   ]
  },
  {
   "cell_type": "markdown",
   "id": "e91fc5e6-1c3a-42c5-be6d-9f0580b291fb",
   "metadata": {
    "tags": []
   },
   "source": [
    "# 2. Load patient survival information"
   ]
  },
  {
   "cell_type": "markdown",
   "id": "5eea7dd3-6d61-4533-b7e0-3496c876592e",
   "metadata": {},
   "source": [
    "### This block is to load patient survival information, the patient survival information should in format of \"SAMPLE_ID | OS | OS.CNSR \", In OS.CNSR: 0-censored; 1-deceased"
   ]
  },
  {
   "cell_type": "code",
   "execution_count": null,
   "id": "8cb112ec-9a74-4ff1-9e9c-5191e2356012",
   "metadata": {},
   "outputs": [],
   "source": [
    "clinical_features = pd.read_csv('../Data/inputs/inputDatasetOAK/OAK-IO.csv', sep=',')\n",
    "clinical_features['SAMPLE_ID']=['Patient'+str(i) for i in range(0,len(clinical_features))]\n",
    "clinical_features.set_index('SAMPLE_ID',inplace=True)\n",
    "\n",
    "#clinical_subgroup = clinical_features[clinical_features['SAMPLE_TYPE'].isin(['Metastasis'])]\n",
    "survival_outcomes=clinical_features[['OS','OS.CNSR']]\n",
    "\n",
    "survival_outcomes"
   ]
  },
  {
   "cell_type": "markdown",
   "id": "247975b7-7907-4b5e-b6be-6bf2bcc3cb6f",
   "metadata": {},
   "source": [
    "### The following block is to load patient genomic mutation features"
   ]
  },
  {
   "cell_type": "code",
   "execution_count": null,
   "id": "92c394db-6090-451f-b057-1df40040f7ad",
   "metadata": {},
   "outputs": [],
   "source": [
    "genomicFeaturesColumn=[col for col in clinical_features.columns if 'molecular_' in col]\n",
    "genomic_features=clinical_features.loc[:,genomicFeaturesColumn]\n",
    "genomic_features.replace(np.nan,0,inplace=True)\n",
    "genomic_features[genomic_features > 0] = 1\n",
    "genomic_features.columns=[name[10:] for name in list(genomic_features.columns)]\n",
    "#genomic_features"
   ]
  },
  {
   "cell_type": "markdown",
   "id": "836bf666-fe71-4efb-9e3e-7fcb419502b4",
   "metadata": {},
   "source": [
    "### Patient cohort statistics. For this OAK dataset, there are 324 patients. The gene panel contains 396 genes"
   ]
  },
  {
   "cell_type": "code",
   "execution_count": null,
   "id": "ab6f8847-4a3a-4e25-af5a-1bce91fd9ec6",
   "metadata": {},
   "outputs": [],
   "source": [
    "display_summary(genomic_features, \"patient genomic features\")\n"
   ]
  },
  {
   "cell_type": "markdown",
   "id": "b9ed3268-6304-44d8-af46-e4dcb87dd538",
   "metadata": {},
   "source": [
    "### visualization of the overlapping genes between OAK gene panel and BIKG subgraph"
   ]
  },
  {
   "cell_type": "code",
   "execution_count": null,
   "id": "8ba65898-98df-4c89-a122-0f90ab7061ed",
   "metadata": {},
   "outputs": [],
   "source": [
    "import matplotlib.pyplot as plt\n",
    "from matplotlib_venn import venn2\n",
    "\n",
    "gene_set1=set([gene for gene in genomic_features.columns])\n",
    "gene_set2=set(set(subgraph_edges.source_label) | set(subgraph_edges.target_label))\n",
    "# Create Venn diagram\n",
    "venn2([gene_set1, gene_set2], set_labels=('OAK gene panel', 'BIKG subgraph'))\n",
    "\n",
    "# Show the plot\n",
    "plt.show()"
   ]
  },
  {
   "cell_type": "markdown",
   "id": "5cde5462-c2ce-4ae0-b395-2415eff837d2",
   "metadata": {},
   "source": [
    "### Here is to split the dataset into training and hold out for testing. The random seed here is set for generating reperatable results"
   ]
  },
  {
   "cell_type": "code",
   "execution_count": null,
   "id": "2912ac80-d962-4fbe-8ad3-ad5cb9581d3a",
   "metadata": {},
   "outputs": [],
   "source": [
    "# randomly select 10 percent samples from overall as holdout\n",
    "### set up random state(a seed value) so that the results can be repeatable\n",
    "holdout=genomic_features.sample(frac=0.1,random_state=randomSeed)\n",
    "# the rest for model training/validation\n",
    "dataframe=genomic_features.drop(holdout.index)"
   ]
  },
  {
   "cell_type": "code",
   "execution_count": null,
   "id": "8171a91d-ac5e-410f-b542-524ff35399bf",
   "metadata": {},
   "outputs": [],
   "source": [
    "len(dataframe)"
   ]
  },
  {
   "cell_type": "code",
   "execution_count": null,
   "id": "d0795ce7-b4bb-4fd0-8efc-505c8aa171db",
   "metadata": {},
   "outputs": [],
   "source": [
    "len(holdout)\n"
   ]
  },
  {
   "cell_type": "markdown",
   "id": "ba5f8e3e-4070-4667-8fcb-4a98c2049bae",
   "metadata": {},
   "source": [
    "# 3. Learn patient embedding using bikg_edges and gene_patient_edges"
   ]
  },
  {
   "cell_type": "code",
   "execution_count": null,
   "id": "7a695a38-4723-4d5f-b1f3-01555f457e3e",
   "metadata": {},
   "outputs": [],
   "source": [
    "subgraph_edges"
   ]
  },
  {
   "cell_type": "markdown",
   "id": "7d5c2e65-8d39-4e8b-99dc-e08b7fe62888",
   "metadata": {},
   "source": [
    "### This function is used to convert patient genomic feature matrix into format of graph representation in format of \"source_label (e.g. patient id) - target_label (e.g. gene mutation)\""
   ]
  },
  {
   "cell_type": "code",
   "execution_count": null,
   "id": "d079462f-8800-48fd-9aa4-e99d2bef68b3",
   "metadata": {},
   "outputs": [],
   "source": [
    "def getGenePatientEdges(genomic_features):\n",
    "    (x_ind,y_ind)=np.where(genomic_features==1)\n",
    "    gene_patient_edges=pd.DataFrame(list(zip(genomic_features.index[x_ind],genomic_features.columns[y_ind])),columns=['source_label','target_label'])\n",
    "    return gene_patient_edges"
   ]
  },
  {
   "cell_type": "code",
   "execution_count": null,
   "id": "b4b66e4c-f537-4d3e-8016-9511b10fec0c",
   "metadata": {},
   "outputs": [],
   "source": [
    "gene_patient_edges_holdout=getGenePatientEdges(holdout)\n",
    "gene_patient_edges_dataframe=getGenePatientEdges(dataframe)"
   ]
  },
  {
   "cell_type": "markdown",
   "id": "66514f7b-4f6a-4b4d-99d8-b961bb9d6203",
   "metadata": {},
   "source": [
    "### The following function is to fuse \"patient-gene\" graph with knowledge graph subgraph containing of \"gene-gene\" or \"gene-pathway\"; Then the graph embedding algorithm (e.g. SocioDim) is applied to learn embedding for each gene node"
   ]
  },
  {
   "cell_type": "code",
   "execution_count": null,
   "id": "95defc19-b883-4a8c-b9a3-991da36ba949",
   "metadata": {},
   "outputs": [],
   "source": [
    "\n",
    "def learnBIKGGraphEmbeddings(subgraph_edges,gene_patient_edges):\n",
    "    bikg_edges = pd.concat([subgraph_edges, gene_patient_edges])\n",
    "    nodes = set(bikg_edges[\"source_label\"].values.tolist()).union(\n",
    "                set(bikg_edges[\"target_label\"].values.tolist())\n",
    "            )\n",
    "    node_to_num = {index: node for node, index in enumerate(nodes)}\n",
    "    bikg_edges[\"source_num_id\"] = bikg_edges[\"source_label\"].map(\n",
    "                lambda x: node_to_num[x]\n",
    "            )\n",
    "    bikg_edges[\"target_num_id\"] = bikg_edges[\"target_label\"].map(\n",
    "        lambda x: node_to_num[x]\n",
    "    )\n",
    "    bikg_edges = bikg_edges[[\"source_num_id\", \"target_num_id\"]].values.tolist()\n",
    "    dim=16\n",
    "    upstream_model = SocioDim(dimensions=dim,seed=23)\n",
    "    upstream_model.fit(nx.from_edgelist(bikg_edges))\n",
    "    BIKG_graph_embedding = upstream_model.get_embedding()\n",
    "    return BIKG_graph_embedding, node_to_num\n",
    "\n",
    "\n"
   ]
  },
  {
   "cell_type": "code",
   "execution_count": null,
   "id": "665b134b-4690-4c30-83d5-e72cb0f38807",
   "metadata": {},
   "outputs": [],
   "source": [
    "[BIKG_graph_embedding,node_to_num]=learnBIKGGraphEmbeddings(subgraph_edges,gene_patient_edges_dataframe)\n"
   ]
  },
  {
   "cell_type": "markdown",
   "id": "f7b8d526-b5f3-44dd-a5d5-4368a2adad1f",
   "metadata": {},
   "source": [
    "### patient representation is generated as aggregation of gene embedding based on patient genomic mutation profile."
   ]
  },
  {
   "cell_type": "code",
   "execution_count": null,
   "id": "edebc98a-9a41-422e-8446-337ddb8b3051",
   "metadata": {},
   "outputs": [],
   "source": [
    "def buildPatientEmbeddingUsingGeneEmbedding(gene_patient_edges,BIKG_graph_embedding,node_to_num):\n",
    "    gene_patient_edges_grouped=gene_patient_edges.groupby('source_label')['target_label'].apply(list).reset_index(name='target_labels')\n",
    "    dim=BIKG_graph_embedding.shape[1]\n",
    "    patients_embeddings_feature=[]\n",
    "    for index, row in gene_patient_edges_grouped.iterrows():\n",
    "        target_labels=row['target_labels']\n",
    "        patient_embeddings=[0]*dim\n",
    "        target_labels_length=len(target_labels)\n",
    "        for gene in target_labels:\n",
    "            if gene in node_to_num:\n",
    "                patient_embeddings=patient_embeddings+np.array(BIKG_graph_embedding[node_to_num[gene], :])\n",
    "            else:\n",
    "                patient_embeddings=patient_embeddings+np.array([0]*dim)\n",
    "        patients_embeddings_feature.append(patient_embeddings/target_labels_length)\n",
    "    emb_features = ['X{}'.format(i) for i in range(dim)]\n",
    "    patients_embeddings_feature = pd.DataFrame(patients_embeddings_feature, index=gene_patient_edges_grouped['source_label'], columns = emb_features)\n",
    "    return patients_embeddings_feature"
   ]
  },
  {
   "cell_type": "code",
   "execution_count": null,
   "id": "a9f556f0-c3a6-4e9a-b1d8-4de12c161bd0",
   "metadata": {},
   "outputs": [],
   "source": [
    "patient_embedding_holdout=buildPatientEmbeddingUsingGeneEmbedding(gene_patient_edges_holdout,BIKG_graph_embedding,node_to_num)\n",
    "patient_embedding_dataframe=buildPatientEmbeddingUsingGeneEmbedding(gene_patient_edges_dataframe,BIKG_graph_embedding,node_to_num)\n",
    "\n"
   ]
  },
  {
   "cell_type": "markdown",
   "id": "f6e011bf-79ba-43d1-80f0-184574a785f0",
   "metadata": {},
   "source": [
    "### save patient embedding results"
   ]
  },
  {
   "cell_type": "code",
   "execution_count": null,
   "id": "54d32719-ecb1-4402-805b-4cf1365ef310",
   "metadata": {},
   "outputs": [],
   "source": [
    "output_dir='../Data/outpus/RobustTestUsingOAK/'\n",
    "patient_embedding_dataframe.to_csv(output_dir+str(randomSeed)+'/patient_embedding_dataframe.csv') \n",
    "patient_embedding_holdout.to_csv(output_dir+str(randomSeed)+'/patient_embedding_holdout.csv') "
   ]
  },
  {
   "cell_type": "code",
   "execution_count": null,
   "id": "c82bfdff-302c-4e1a-a8d6-8ee5c67df186",
   "metadata": {},
   "outputs": [],
   "source": [
    "def getSurvivalInformation(survival_outcomes,patient_embedding):\n",
    "    mergedDF=survival_outcomes.join(patient_embedding,how='right')\n",
    "    y = Surv.from_dataframe(\"OS.CNSR\",\"OS\",  mergedDF)\n",
    "    return y"
   ]
  },
  {
   "cell_type": "code",
   "execution_count": null,
   "id": "5049a006-7697-4cb3-8ed7-447aed7a4fe8",
   "metadata": {},
   "outputs": [],
   "source": [
    "y_dataframe=getSurvivalInformation(survival_outcomes,patient_embedding_dataframe)\n",
    "y_holdout=getSurvivalInformation(survival_outcomes,patient_embedding_holdout)"
   ]
  },
  {
   "cell_type": "code",
   "execution_count": null,
   "id": "f2aff667-7ddf-4d4a-b399-31ba920abb90",
   "metadata": {},
   "outputs": [],
   "source": [
    "np.save(output_dir+str(randomSeed)+'/y_dataframe.npy',y_dataframe) \n",
    "np.save(output_dir+str(randomSeed)+'/y_holdout.npy',y_holdout) "
   ]
  },
  {
   "cell_type": "code",
   "execution_count": null,
   "id": "59264b07-731b-4a84-90a2-21183ce86940",
   "metadata": {},
   "outputs": [],
   "source": [
    "TMB=clinical_features[['btmb']]\n",
    "filterTMB=TMB.join(patient_embedding_holdout,how='right')\n",
    "tmbValue=list(filterTMB['btmb'])\n",
    "np.save(output_dir+str(randomSeed)+'/tmbValue.npy',tmbValue) "
   ]
  },
  {
   "cell_type": "code",
   "execution_count": null,
   "id": "67eef485-ce45-4d40-b9dc-5c13b9e9fc99",
   "metadata": {},
   "outputs": [],
   "source": [
    "genomic_features.to_csv(output_dir+str(randomSeed)+'/genomic_features.csv') \n"
   ]
  },
  {
   "cell_type": "code",
   "execution_count": null,
   "id": "2111a96e-f572-45b6-b69e-5f1a6c7e8482",
   "metadata": {},
   "outputs": [],
   "source": []
  }
 ],
 "metadata": {
  "kernelspec": {
   "display_name": "Python 3 (ipykernel)",
   "language": "python",
   "name": "python3"
  },
  "language_info": {
   "codemirror_mode": {
    "name": "ipython",
    "version": 3
   },
   "file_extension": ".py",
   "mimetype": "text/x-python",
   "name": "python",
   "nbconvert_exporter": "python",
   "pygments_lexer": "ipython3",
   "version": "3.9.5"
  }
 },
 "nbformat": 4,
 "nbformat_minor": 5
}
